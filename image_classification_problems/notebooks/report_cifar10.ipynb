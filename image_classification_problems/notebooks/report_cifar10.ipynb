{
 "cells": [
  {
   "cell_type": "code",
   "execution_count": 1,
   "id": "f9a3590e-2d44-41ea-8d40-b71080897e03",
   "metadata": {},
   "outputs": [],
   "source": [
    "import os\n",
    "import pyrootutils\n",
    "root = pyrootutils.setup_root('.', pythonpath=True)\n",
    "hydra_cfg_path = root / \"image_dataset_experiments\" / \"configs\"\n",
    "os.chdir(root / \"image_dataset_experiments\")"
   ]
  },
  {
   "cell_type": "code",
   "execution_count": 2,
   "id": "31d25a06",
   "metadata": {},
   "outputs": [],
   "source": [
    "from hydra import compose, initialize\n",
    "from pathlib import Path\n",
    "\n",
    "import torch\n",
    "from torch import nn\n",
    "import torch.nn.functional as F\n",
    "import pytorch_lightning as pl\n",
    "from pytorch_lightning import LightningModule\n",
    "import hydra\n",
    "from omegaconf import DictConfig\n",
    "import time\n",
    "import logging\n",
    "\n",
    "from tqdm import tqdm\n",
    "from torch.autograd import grad\n",
    "import functorch as ftorch\n",
    "import optree"
   ]
  },
  {
   "cell_type": "code",
   "execution_count": 3,
   "id": "624d6f6d",
   "metadata": {},
   "outputs": [
    {
     "data": {
      "text/plain": [
       "PosixPath('../image_dataset_experiments/configs')"
      ]
     },
     "execution_count": 3,
     "metadata": {},
     "output_type": "execute_result"
    }
   ],
   "source": [
    "'..' / hydra_cfg_path.relative_to(root)"
   ]
  },
  {
   "cell_type": "code",
   "execution_count": 4,
   "id": "85e17bc5",
   "metadata": {},
   "outputs": [],
   "source": [
    "with initialize(version_base=None, config_path= '../configs'):\n",
    "    cfg = compose(config_name=\"tracing\", return_hydra_config=True)"
   ]
  },
  {
   "cell_type": "markdown",
   "id": "e283f519-58bd-45cc-ab3a-c879c32c14c9",
   "metadata": {},
   "source": [
    "# Origin data"
   ]
  },
  {
   "cell_type": "code",
   "execution_count": 5,
   "id": "dd992742-ac88-41ef-ae28-6f575533fc20",
   "metadata": {},
   "outputs": [
    {
     "name": "stdout",
     "output_type": "stream",
     "text": [
      "Files already downloaded and verified\n",
      "Files already downloaded and verified\n"
     ]
    }
   ],
   "source": [
    "dm = hydra.utils.instantiate(cfg.datamodule, data_root=os.environ['PYTORCH_DATASET_ROOT'])\n",
    "dm.prepare_data()\n",
    "dm.setup('fit')"
   ]
  },
  {
   "cell_type": "code",
   "execution_count": 55,
   "id": "20e6337b",
   "metadata": {},
   "outputs": [],
   "source": [
    "results1 = torch.load('outputs/tracing/bin_cifar10_wrn/2022-12-23_22-49-25/result.pt')\n",
    "results2 = torch.load('outputs/tracing/bicifar10_wrn_gd/result.pt')\n"
   ]
  },
  {
   "cell_type": "code",
   "execution_count": 63,
   "id": "4a5bda7b",
   "metadata": {},
   "outputs": [],
   "source": [
    "results  = results1"
   ]
  },
  {
   "cell_type": "code",
   "execution_count": 64,
   "id": "abc77b16-e6ee-470b-96db-9e24416fa901",
   "metadata": {},
   "outputs": [
    {
     "name": "stdout",
     "output_type": "stream",
     "text": [
      "(2000, 10000)\n",
      "[-16783.57544994 -16041.8090775  -15823.83550739 ...   2337.38911104\n",
      "   2373.66598511   2402.05260062]\n",
      "[5748 3985 1239 ...  710  538 8285]\n",
      "99.0000;98.9000;91.0667;72.8000;"
     ]
    }
   ],
   "source": [
    "true_error_labels = torch.isin(torch.arange(results.shape[1]), dm.flipped_idx)\n",
    "score = results.sum(axis=0)\n",
    "ranking = score.argsort()\n",
    "print(results.shape)\n",
    "print(score[ranking])\n",
    "print(ranking)\n",
    "num_top = [int(results.shape[1] * i) for i in [0.05, 0.1, 0.15, 0.2]]\n",
    "acc = []\n",
    "for t in num_top:\n",
    "    candidate = ranking[:t]\n",
    "    first = true_error_labels[candidate].sum() \n",
    "    acc.append((first/t).item()*100)\n",
    "    print(f'{acc[-1]:.4f}', end=';')"
   ]
  },
  {
   "cell_type": "code",
   "execution_count": null,
   "id": "54950751",
   "metadata": {},
   "outputs": [],
   "source": []
  },
  {
   "cell_type": "markdown",
   "id": "11f3de56",
   "metadata": {},
   "source": []
  }
 ],
 "metadata": {
  "interpreter": {
   "hash": "1db0706071c6fcec6e8c28c8fe58b8e3e3000aaf085b87ef91440fa059e389f0"
  },
  "kernelspec": {
   "display_name": "Python 3.10.8 ('basetorch')",
   "language": "python",
   "name": "python3"
  },
  "language_info": {
   "codemirror_mode": {
    "name": "ipython",
    "version": 3
   },
   "file_extension": ".py",
   "mimetype": "text/x-python",
   "name": "python",
   "nbconvert_exporter": "python",
   "pygments_lexer": "ipython3",
   "version": "3.10.8"
  }
 },
 "nbformat": 4,
 "nbformat_minor": 5
}
