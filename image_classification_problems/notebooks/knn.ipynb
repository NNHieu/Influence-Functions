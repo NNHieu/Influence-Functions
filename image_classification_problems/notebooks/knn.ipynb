{
 "cells": [
  {
   "cell_type": "code",
   "execution_count": 1,
   "metadata": {},
   "outputs": [],
   "source": [
    "%load_ext autoreload\n",
    "%autoreload"
   ]
  },
  {
   "cell_type": "markdown",
   "metadata": {},
   "source": [
    "# Setup Paths"
   ]
  },
  {
   "cell_type": "code",
   "execution_count": 2,
   "metadata": {},
   "outputs": [],
   "source": [
    "import os\n",
    "import pyrootutils\n",
    "root = pyrootutils.setup_root(\n",
    "    search_from='.',\n",
    "    indicator=[\".git\", \"pyproject.toml\"],\n",
    "    pythonpath=True,\n",
    "    dotenv=True,\n",
    ")\n",
    "hydra_cfg_path = root / \"image_classification_problems\" / \"configs\"\n",
    "os.chdir(root / \"image_classification_problems\")"
   ]
  },
  {
   "cell_type": "code",
   "execution_count": 14,
   "metadata": {},
   "outputs": [],
   "source": [
    "import hydra\n",
    "from hydra import compose, initialize\n",
    "\n",
    "from pathlib import Path\n",
    "import numpy as np\n",
    "import torch\n",
    "from core.grads import tree_to_device\n",
    "from core.tracer import KNN, KNNGD, KNNGN\n",
    "from sklearn.neighbors import KNeighborsClassifier\n",
    "from image_classification_problems.train import Model\n",
    "from image_classification_problems.datamodule import DMStage\n",
    "from tqdm import tqdm"
   ]
  },
  {
   "cell_type": "markdown",
   "metadata": {},
   "source": [
    "# Config  "
   ]
  },
  {
   "cell_type": "code",
   "execution_count": 4,
   "metadata": {},
   "outputs": [],
   "source": [
    "'..' / hydra_cfg_path.relative_to(root)\n",
    "with initialize(version_base=None, config_path= '../configs'):\n",
    "    cfg = compose(config_name=\"tracing\", return_hydra_config=True, overrides=[\"datamodule=cifar10\"])"
   ]
  },
  {
   "cell_type": "code",
   "execution_count": 5,
   "metadata": {},
   "outputs": [],
   "source": [
    "device = 'cuda:0'"
   ]
  },
  {
   "cell_type": "markdown",
   "metadata": {},
   "source": [
    "# Load Data and Model"
   ]
  },
  {
   "cell_type": "code",
   "execution_count": 7,
   "metadata": {},
   "outputs": [],
   "source": [
    "from datamodule import Cifar10DM"
   ]
  },
  {
   "cell_type": "code",
   "execution_count": 8,
   "metadata": {},
   "outputs": [],
   "source": [
    "checkpoint = torch.load(\"outputs/train/cifar10_wrn/2023-01-04_09-47-30/checkpoints/epoch=11_val_acc=0.8318.ckpt\")\n",
    "datamodule_hparams = checkpoint[\"datamodule_hyper_parameters\"] \n",
    "del datamodule_hparams['data_root']"
   ]
  },
  {
   "cell_type": "code",
   "execution_count": 9,
   "metadata": {},
   "outputs": [
    {
     "name": "stdout",
     "output_type": "stream",
     "text": [
      "Files already downloaded and verified\n",
      "Files already downloaded and verified\n"
     ]
    }
   ],
   "source": [
    "dm = Cifar10DM(data_root=os.environ['PYTORCH_DATASET_ROOT'], **datamodule_hparams)\n",
    "dm.prepare_data()\n",
    "dm.setup(\"tracing\")"
   ]
  },
  {
   "cell_type": "code",
   "execution_count": 10,
   "metadata": {},
   "outputs": [],
   "source": [
    "net = hydra.utils.instantiate(cfg.net, num_classes=dm.num_classes)\n",
    "lit_model = Model.load_from_checkpoint(\n",
    "    checkpoint_path=\"outputs/train/cifar10_wrn/2023-01-04_09-47-30/checkpoints/epoch=01_val_acc=0.6210.ckpt\",\n",
    "    net=net,\n",
    "    num_classes=dm.num_classes,\n",
    "    learning_rate=1e-3,\n",
    ")\n",
    "net = lit_model.net\n",
    "lit_model.eval()\n",
    "lit_model.to(device);"
   ]
  },
  {
   "cell_type": "code",
   "execution_count": 11,
   "metadata": {},
   "outputs": [],
   "source": [
    "train_loader = dm.train_dataloader(shuffle=False)"
   ]
  },
  {
   "cell_type": "markdown",
   "metadata": {},
   "source": [
    "## KNN Indexs"
   ]
  },
  {
   "cell_type": "code",
   "execution_count": 9,
   "metadata": {},
   "outputs": [],
   "source": [
    "from sklearn.neighbors import KNeighborsClassifier"
   ]
  },
  {
   "cell_type": "code",
   "execution_count": 71,
   "metadata": {},
   "outputs": [],
   "source": [
    "features = []\n",
    "labels = []\n",
    "with torch.no_grad():\n",
    "    for batch in train_loader:\n",
    "        x, y = tree_to_device(batch, device)\n",
    "        features.append(lit_model.net.feature_forward(x).cpu())\n",
    "        labels.append(y.cpu())\n",
    "features = torch.concat(features).numpy()\n",
    "labels = torch.concat(labels).numpy()"
   ]
  },
  {
   "cell_type": "code",
   "execution_count": 72,
   "metadata": {},
   "outputs": [
    {
     "name": "stderr",
     "output_type": "stream",
     "text": [
      "100%|██████████| 782/782 [01:06<00:00, 11.79it/s]\n"
     ]
    }
   ],
   "source": [
    "neigh = KNeighborsClassifier(n_neighbors=1000, metric='minkowski', algorithm='kd_tree', n_jobs=-1)\n",
    "neigh.fit(features, labels)\n",
    "neibor_inds = []\n",
    "for i in tqdm(range(0, features.shape[0], 64)):\n",
    "    neibor_inds.append(neigh.kneighbors(features[i:i+64, :], n_neighbors=1000, return_distance=False))\n",
    "neibor_inds = np.concatenate(neibor_inds, axis=0)\n",
    "neibor_inds = torch.tensor(neibor_inds)"
   ]
  },
  {
   "cell_type": "code",
   "execution_count": 38,
   "metadata": {},
   "outputs": [
    {
     "name": "stderr",
     "output_type": "stream",
     "text": [
      "100%|██████████| 782/782 [00:52<00:00, 14.95it/s]\n"
     ]
    }
   ],
   "source": [
    "np.savez_compressed('outputs/train/cifar10_wrn/2023-01-04_09-47-30/checkpoints/last.npz', neibor_inds.numpy())"
   ]
  },
  {
   "cell_type": "code",
   "execution_count": 22,
   "metadata": {},
   "outputs": [],
   "source": [
    "neibor_inds = np.load('outputs/train/cifar10_wrn/2023-01-04_09-47-30/checkpoints/last.npz')['arr_0']"
   ]
  },
  {
   "cell_type": "markdown",
   "metadata": {},
   "source": [
    "## Tracing"
   ]
  },
  {
   "cell_type": "code",
   "execution_count": 20,
   "metadata": {},
   "outputs": [],
   "source": [
    "from core.grads import RuntimeGradientExtractor\n",
    "from core.tracer import GradientNormalize as GN, GradientCosin as GC, GradientBasedTracer as GD\n",
    "from image_classification_problems.convert_result import process_results\n",
    "import torch.nn.functional as F\n",
    "import pandas as pd"
   ]
  },
  {
   "cell_type": "code",
   "execution_count": 73,
   "metadata": {},
   "outputs": [
    {
     "name": "stdout",
     "output_type": "stream",
     "text": [
      "2500\n",
      "5000\n",
      "7500\n",
      "10000\n",
      "[0.9004, 0.8704, 0.8262666666666667, 0.7573]\n"
     ]
    }
   ],
   "source": [
    "train_loader = dm.train_dataloader(shuffle=False)\n",
    "knn_tracer = KNN(net=lit_model.net, k=1000, neighbor_matrices=neibor_inds[:, :100])\n",
    "label_from_batch = lambda b: b[1]\n",
    "scores = knn_tracer._trace_dataloader(train_loader, label_from_batch=label_from_batch)\n",
    "value, inds = scores.sort(descending=True)\n",
    "top_sizes = (torch.tensor([0.05, 0.1, 0.15,0.2])*50000).tolist()\n",
    "all_results = []\n",
    "for top_size in top_sizes:\n",
    "    top_size = int(top_size)\n",
    "    print(top_size)\n",
    "    all_results.append(torch.isin(inds[:top_size], dm.flipped_idx).sum().item() / top_size)\n",
    "print(all_results)"
   ]
  },
  {
   "cell_type": "code",
   "execution_count": 16,
   "metadata": {},
   "outputs": [
    {
     "name": "stdout",
     "output_type": "stream",
     "text": [
      "outputs/train/cifar10_wrn/2023-01-04_09-47-30/checkpoints/epoch=00_val_acc=0.4964.ckpt\n",
      "outputs/train/cifar10_wrn/2023-01-04_09-47-30/checkpoints/epoch=01_val_acc=0.6210.ckpt\n",
      "outputs/train/cifar10_wrn/2023-01-04_09-47-30/checkpoints/epoch=02_val_acc=0.6522.ckpt\n",
      "outputs/train/cifar10_wrn/2023-01-04_09-47-30/checkpoints/epoch=03_val_acc=0.7031.ckpt\n",
      "outputs/train/cifar10_wrn/2023-01-04_09-47-30/checkpoints/epoch=04_val_acc=0.7351.ckpt\n",
      "outputs/train/cifar10_wrn/2023-01-04_09-47-30/checkpoints/epoch=05_val_acc=0.7555.ckpt\n",
      "outputs/train/cifar10_wrn/2023-01-04_09-47-30/checkpoints/epoch=06_val_acc=0.7830.ckpt\n",
      "outputs/train/cifar10_wrn/2023-01-04_09-47-30/checkpoints/epoch=07_val_acc=0.8118.ckpt\n",
      "outputs/train/cifar10_wrn/2023-01-04_09-47-30/checkpoints/epoch=08_val_acc=0.8136.ckpt\n",
      "outputs/train/cifar10_wrn/2023-01-04_09-47-30/checkpoints/epoch=09_val_acc=0.8179.ckpt\n",
      "outputs/train/cifar10_wrn/2023-01-04_09-47-30/checkpoints/epoch=10_val_acc=0.8112.ckpt\n",
      "outputs/train/cifar10_wrn/2023-01-04_09-47-30/checkpoints/epoch=11_val_acc=0.8318.ckpt\n",
      "outputs/train/cifar10_wrn/2023-01-04_09-47-30/checkpoints/epoch=12_val_acc=0.8271.ckpt\n",
      "outputs/train/cifar10_wrn/2023-01-04_09-47-30/checkpoints/epoch=13_val_acc=0.8413.ckpt\n",
      "outputs/train/cifar10_wrn/2023-01-04_09-47-30/checkpoints/epoch=14_val_acc=0.8355.ckpt\n",
      "outputs/train/cifar10_wrn/2023-01-04_09-47-30/checkpoints/epoch=15_val_acc=0.8368.ckpt\n",
      "outputs/train/cifar10_wrn/2023-01-04_09-47-30/checkpoints/epoch=16_val_acc=0.8484.ckpt\n",
      "outputs/train/cifar10_wrn/2023-01-04_09-47-30/checkpoints/epoch=17_val_acc=0.8503.ckpt\n",
      "outputs/train/cifar10_wrn/2023-01-04_09-47-30/checkpoints/epoch=18_val_acc=0.8537.ckpt\n",
      "outputs/train/cifar10_wrn/2023-01-04_09-47-30/checkpoints/epoch=19_val_acc=0.8572.ckpt\n"
     ]
    }
   ],
   "source": []
  },
  {
   "cell_type": "code",
   "execution_count": 22,
   "metadata": {},
   "outputs": [
    {
     "name": "stdout",
     "output_type": "stream",
     "text": [
      "[98.32, 93.76, 85.32, 75.05]\n",
      "[98.2, 93.96, 85.65333333333334, 74.89]\n",
      "[98.2, 93.89999999999999, 85.38666666666667, 75.02]\n",
      "[98.11999999999999, 93.82000000000001, 85.44, 75.12]\n",
      "[98.48, 93.88, 85.58666666666667, 75.09]\n",
      "[98.16, 93.72, 85.54666666666667, 75.11]\n",
      "[98.28, 94.12, 85.30666666666666, 74.8]\n",
      "[98.48, 94.12, 85.69333333333333, 75.18]\n",
      "[98.16, 93.94, 85.44, 75.07000000000001]\n",
      "[98.28, 93.96, 85.69333333333333, 75.19]\n",
      "[98.28, 94.04, 85.54666666666667, 75.01]\n",
      "[98.08, 93.84, 85.52, 75.17]\n",
      "[98.08, 93.86, 85.37333333333333, 75.1]\n",
      "[98.16, 94.04, 85.62666666666667, 75.2]\n",
      "[98.2, 94.0, 85.53333333333333, 74.88]\n",
      "[98.36, 93.72, 85.33333333333334, 74.95]\n",
      "[98.16, 93.7, 85.29333333333334, 74.92999999999999]\n",
      "[98.16, 94.24, 85.56, 75.17]\n",
      "[98.32, 93.84, 85.24000000000001, 75.02]\n",
      "[98.08, 94.04, 85.33333333333334, 74.92]\n"
     ]
    }
   ],
   "source": [
    "dm.hparams.train_batch_size = 256\n",
    "train_loader = dm.train_dataloader(shuffle=False)\n",
    "criterion = torch.nn.CrossEntropyLoss(reduction='none')\n",
    "ckpts = list(Path('outputs/train/cifar10_wrn/2023-01-04_09-47-30/checkpoints').glob(\"epoch=*\"))\n",
    "ckpts.sort()\n",
    "df = pd.DataFrame(columns=(\"epoch\", \"top5\", \"top10\", \"top15\", \"top20\"))\n",
    "with torch.no_grad():\n",
    "    for e, ckpt in enumerate(ckpts):\n",
    "        losses = []\n",
    "        for batch in train_loader:\n",
    "            batch = tree_to_device(batch, device)\n",
    "            images, targets = batch\n",
    "            logits = lit_model.net(images)\n",
    "            losses.append(criterion(logits, targets).cpu())\n",
    "        losses = torch.cat(losses)\n",
    "        value, inds = losses.sort(descending=True)\n",
    "        top_sizes = (torch.tensor([0.05, 0.1, 0.15,0.2])*50000).tolist()\n",
    "        all_results = []\n",
    "        for top_size in top_sizes:\n",
    "            top_size = int(top_size)\n",
    "            all_results.append((torch.isin(inds[:top_size], dm.flipped_idx).sum().item() / top_size)*100)\n",
    "        print(all_results)\n",
    "        all_results.insert(0, e)\n",
    "        df.loc[len(df.index)] = all_results"
   ]
  },
  {
   "cell_type": "code",
   "execution_count": 31,
   "metadata": {},
   "outputs": [
    {
     "data": {
      "text/html": [
       "<div>\n",
       "<style scoped>\n",
       "    .dataframe tbody tr th:only-of-type {\n",
       "        vertical-align: middle;\n",
       "    }\n",
       "\n",
       "    .dataframe tbody tr th {\n",
       "        vertical-align: top;\n",
       "    }\n",
       "\n",
       "    .dataframe thead th {\n",
       "        text-align: right;\n",
       "    }\n",
       "</style>\n",
       "<table border=\"1\" class=\"dataframe\">\n",
       "  <thead>\n",
       "    <tr style=\"text-align: right;\">\n",
       "      <th></th>\n",
       "      <th>epoch</th>\n",
       "      <th>top5</th>\n",
       "      <th>top10</th>\n",
       "      <th>top15</th>\n",
       "      <th>top20</th>\n",
       "    </tr>\n",
       "  </thead>\n",
       "  <tbody>\n",
       "    <tr>\n",
       "      <th>0</th>\n",
       "      <td>0.0</td>\n",
       "      <td>98.32</td>\n",
       "      <td>93.76</td>\n",
       "      <td>85.320000</td>\n",
       "      <td>75.05</td>\n",
       "    </tr>\n",
       "    <tr>\n",
       "      <th>1</th>\n",
       "      <td>1.0</td>\n",
       "      <td>98.20</td>\n",
       "      <td>93.96</td>\n",
       "      <td>85.653333</td>\n",
       "      <td>74.89</td>\n",
       "    </tr>\n",
       "    <tr>\n",
       "      <th>2</th>\n",
       "      <td>2.0</td>\n",
       "      <td>98.20</td>\n",
       "      <td>93.90</td>\n",
       "      <td>85.386667</td>\n",
       "      <td>75.02</td>\n",
       "    </tr>\n",
       "    <tr>\n",
       "      <th>3</th>\n",
       "      <td>3.0</td>\n",
       "      <td>98.12</td>\n",
       "      <td>93.82</td>\n",
       "      <td>85.440000</td>\n",
       "      <td>75.12</td>\n",
       "    </tr>\n",
       "    <tr>\n",
       "      <th>4</th>\n",
       "      <td>4.0</td>\n",
       "      <td>98.48</td>\n",
       "      <td>93.88</td>\n",
       "      <td>85.586667</td>\n",
       "      <td>75.09</td>\n",
       "    </tr>\n",
       "    <tr>\n",
       "      <th>5</th>\n",
       "      <td>5.0</td>\n",
       "      <td>98.16</td>\n",
       "      <td>93.72</td>\n",
       "      <td>85.546667</td>\n",
       "      <td>75.11</td>\n",
       "    </tr>\n",
       "    <tr>\n",
       "      <th>6</th>\n",
       "      <td>6.0</td>\n",
       "      <td>98.28</td>\n",
       "      <td>94.12</td>\n",
       "      <td>85.306667</td>\n",
       "      <td>74.80</td>\n",
       "    </tr>\n",
       "    <tr>\n",
       "      <th>7</th>\n",
       "      <td>7.0</td>\n",
       "      <td>98.48</td>\n",
       "      <td>94.12</td>\n",
       "      <td>85.693333</td>\n",
       "      <td>75.18</td>\n",
       "    </tr>\n",
       "    <tr>\n",
       "      <th>8</th>\n",
       "      <td>8.0</td>\n",
       "      <td>98.16</td>\n",
       "      <td>93.94</td>\n",
       "      <td>85.440000</td>\n",
       "      <td>75.07</td>\n",
       "    </tr>\n",
       "    <tr>\n",
       "      <th>9</th>\n",
       "      <td>9.0</td>\n",
       "      <td>98.28</td>\n",
       "      <td>93.96</td>\n",
       "      <td>85.693333</td>\n",
       "      <td>75.19</td>\n",
       "    </tr>\n",
       "    <tr>\n",
       "      <th>10</th>\n",
       "      <td>10.0</td>\n",
       "      <td>98.28</td>\n",
       "      <td>94.04</td>\n",
       "      <td>85.546667</td>\n",
       "      <td>75.01</td>\n",
       "    </tr>\n",
       "    <tr>\n",
       "      <th>11</th>\n",
       "      <td>11.0</td>\n",
       "      <td>98.08</td>\n",
       "      <td>93.84</td>\n",
       "      <td>85.520000</td>\n",
       "      <td>75.17</td>\n",
       "    </tr>\n",
       "    <tr>\n",
       "      <th>12</th>\n",
       "      <td>12.0</td>\n",
       "      <td>98.08</td>\n",
       "      <td>93.86</td>\n",
       "      <td>85.373333</td>\n",
       "      <td>75.10</td>\n",
       "    </tr>\n",
       "    <tr>\n",
       "      <th>13</th>\n",
       "      <td>13.0</td>\n",
       "      <td>98.16</td>\n",
       "      <td>94.04</td>\n",
       "      <td>85.626667</td>\n",
       "      <td>75.20</td>\n",
       "    </tr>\n",
       "    <tr>\n",
       "      <th>14</th>\n",
       "      <td>14.0</td>\n",
       "      <td>98.20</td>\n",
       "      <td>94.00</td>\n",
       "      <td>85.533333</td>\n",
       "      <td>74.88</td>\n",
       "    </tr>\n",
       "    <tr>\n",
       "      <th>15</th>\n",
       "      <td>15.0</td>\n",
       "      <td>98.36</td>\n",
       "      <td>93.72</td>\n",
       "      <td>85.333333</td>\n",
       "      <td>74.95</td>\n",
       "    </tr>\n",
       "    <tr>\n",
       "      <th>16</th>\n",
       "      <td>16.0</td>\n",
       "      <td>98.16</td>\n",
       "      <td>93.70</td>\n",
       "      <td>85.293333</td>\n",
       "      <td>74.93</td>\n",
       "    </tr>\n",
       "    <tr>\n",
       "      <th>17</th>\n",
       "      <td>17.0</td>\n",
       "      <td>98.16</td>\n",
       "      <td>94.24</td>\n",
       "      <td>85.560000</td>\n",
       "      <td>75.17</td>\n",
       "    </tr>\n",
       "    <tr>\n",
       "      <th>18</th>\n",
       "      <td>18.0</td>\n",
       "      <td>98.32</td>\n",
       "      <td>93.84</td>\n",
       "      <td>85.240000</td>\n",
       "      <td>75.02</td>\n",
       "    </tr>\n",
       "    <tr>\n",
       "      <th>19</th>\n",
       "      <td>19.0</td>\n",
       "      <td>98.08</td>\n",
       "      <td>94.04</td>\n",
       "      <td>85.333333</td>\n",
       "      <td>74.92</td>\n",
       "    </tr>\n",
       "  </tbody>\n",
       "</table>\n",
       "</div>"
      ],
      "text/plain": [
       "    epoch   top5  top10      top15  top20\n",
       "0     0.0  98.32  93.76  85.320000  75.05\n",
       "1     1.0  98.20  93.96  85.653333  74.89\n",
       "2     2.0  98.20  93.90  85.386667  75.02\n",
       "3     3.0  98.12  93.82  85.440000  75.12\n",
       "4     4.0  98.48  93.88  85.586667  75.09\n",
       "5     5.0  98.16  93.72  85.546667  75.11\n",
       "6     6.0  98.28  94.12  85.306667  74.80\n",
       "7     7.0  98.48  94.12  85.693333  75.18\n",
       "8     8.0  98.16  93.94  85.440000  75.07\n",
       "9     9.0  98.28  93.96  85.693333  75.19\n",
       "10   10.0  98.28  94.04  85.546667  75.01\n",
       "11   11.0  98.08  93.84  85.520000  75.17\n",
       "12   12.0  98.08  93.86  85.373333  75.10\n",
       "13   13.0  98.16  94.04  85.626667  75.20\n",
       "14   14.0  98.20  94.00  85.533333  74.88\n",
       "15   15.0  98.36  93.72  85.333333  74.95\n",
       "16   16.0  98.16  93.70  85.293333  74.93\n",
       "17   17.0  98.16  94.24  85.560000  75.17\n",
       "18   18.0  98.32  93.84  85.240000  75.02\n",
       "19   19.0  98.08  94.04  85.333333  74.92"
      ]
     },
     "execution_count": 31,
     "metadata": {},
     "output_type": "execute_result"
    }
   ],
   "source": [
    "df"
   ]
  },
  {
   "cell_type": "code",
   "execution_count": 30,
   "metadata": {},
   "outputs": [
    {
     "data": {
      "text/plain": [
       "(50.0, 100.0)"
      ]
     },
     "execution_count": 30,
     "metadata": {},
     "output_type": "execute_result"
    },
    {
     "data": {
      "image/png": "[encoded data removed]",
      "text/plain": [
       "<Figure size 640x480 with 1 Axes>"
      ]
     },
     "metadata": {},
     "output_type": "display_data"
    }
   ],
   "source": [
    "ax = df.plot(x=\"epoch\", y=\"top5\")\n",
    "ax = df.plot(x=\"epoch\", y=\"top10\", ax=ax)\n",
    "ax = df.plot(x=\"epoch\", y=\"top15\", ax=ax)\n",
    "ax = df.plot(x=\"epoch\", y=\"top20\", ax=ax)\n",
    "ax.set_ylim(50, 100)"
   ]
  },
  {
   "cell_type": "code",
   "execution_count": 63,
   "metadata": {},
   "outputs": [
    {
     "name": "stdout",
     "output_type": "stream",
     "text": [
      "[torch.Size([1, 3, 32, 32]), torch.Size([1])]\n",
      "[torch.Size([1, 3, 32, 32]), torch.Size([1])]\n"
     ]
    }
   ],
   "source": [
    "def loss_fn(pred_fn, Z):\n",
    "        X, Y = Z\n",
    "        preds = pred_fn(X)\n",
    "        return F.cross_entropy(preds, Y)\n",
    "grad_extractor = RuntimeGradientExtractor(\n",
    "                                lit_model, \n",
    "                                split_params=lambda params: (params[:-2], params[-2:]), \n",
    "                                merge_params=lambda w1, w2: w1 + w2,\n",
    "                                loss_fn=loss_fn,\n",
    "                                input_sample=next(iter(train_loader)))"
   ]
  },
  {
   "cell_type": "code",
   "execution_count": 65,
   "metadata": {},
   "outputs": [
    {
     "name": "stdout",
     "output_type": "stream",
     "text": [
      "2500\n",
      "5000\n",
      "7500\n",
      "10000\n",
      "[0.946, 0.926, 0.8846666666666667, 0.8334]\n"
     ]
    }
   ],
   "source": [
    "train_grad_norms = []\n",
    "dm.hparams.train_batch_size=128\n",
    "train_loader = dm.train_dataloader(shuffle=False)\n",
    "for b, grads in grad_extractor.get_iter(train_loader):\n",
    "    train_grad_norms.append(grads.norm(dim=1))\n",
    "train_grad_norms = torch.cat(train_grad_norms).cpu()\n",
    "value, inds = train_grad_norms.sort(descending=True)\n",
    "top_sizes = (torch.tensor([0.05, 0.1, 0.15,0.2])*50000).tolist()\n",
    "all_results = []\n",
    "for top_size in top_sizes:\n",
    "    top_size = int(top_size)\n",
    "    print(top_size)\n",
    "    all_results.append(torch.isin(inds[:top_size], dm.flipped_idx).sum().item() / top_size)\n",
    "print(all_results)"
   ]
  },
  {
   "cell_type": "code",
   "execution_count": 67,
   "metadata": {},
   "outputs": [
    {
     "name": "stdout",
     "output_type": "stream",
     "text": [
      "Number of element in each class: [44, 60, 50, 51, 48, 51, 49, 48, 48, 51]\n"
     ]
    }
   ],
   "source": [
    "ref_targets = torch.cat([b[1] for b in dm.test_dataloader()])\n",
    "is_class = ref_targets[:, None] == torch.arange(10)\n",
    "is_class = is_class.T\n",
    "print(f'Number of element in each class: {is_class.sum(axis=1).tolist()}')"
   ]
  },
  {
   "cell_type": "code",
   "execution_count": 68,
   "metadata": {},
   "outputs": [
    {
     "name": "stdout",
     "output_type": "stream",
     "text": [
      "Allocating a matrix of size: (500, 50000)\n"
     ]
    },
    {
     "name": "stderr",
     "output_type": "stream",
     "text": [
      "Seting up Tracer: 4it [00:00, 10.28it/s]\n",
      "Tracing: 100%|██████████| 391/391 [00:11<00:00, 32.93it/s]\n"
     ]
    },
    {
     "name": "stdout",
     "output_type": "stream",
     "text": [
      "Number of element in each class: tensor([44, 60, 50, 51, 48, 51, 49, 48, 48, 51])\n",
      "torch.Size([10, 50000])\n"
     ]
    },
    {
     "data": {
      "text/plain": [
       "([90.47999978065491, 83.45999717712402, 74.10666942596436, 63.749998807907104],\n",
       " [80.08000254631042, 78.47999930381775, 77.99999713897705, 73.82000088691711])"
      ]
     },
     "execution_count": 68,
     "metadata": {},
     "output_type": "execute_result"
    }
   ],
   "source": [
    "gn_tracer = GD(grad_extractor=grad_extractor)\n",
    "scores = gn_tracer.trace_dataloader(train_loader=train_loader, test_loader=dm.test_dataloader())\n",
    "scores = scores.cpu()\n",
    "process_results(scores, ref_targets, dm.flipped_idx, 10, True)"
   ]
  },
  {
   "cell_type": "code",
   "execution_count": 66,
   "metadata": {},
   "outputs": [
    {
     "name": "stdout",
     "output_type": "stream",
     "text": [
      "Allocating a matrix of size: (500, 50000)\n"
     ]
    },
    {
     "name": "stderr",
     "output_type": "stream",
     "text": [
      "Seting up Tracer: 4it [00:00,  9.63it/s]\n",
      "Tracing: 100%|██████████| 782/782 [00:16<00:00, 46.25it/s]\n"
     ]
    },
    {
     "name": "stdout",
     "output_type": "stream",
     "text": [
      "Number of element in each class: tensor([44, 60, 50, 51, 48, 51, 49, 48, 48, 51])\n",
      "torch.Size([10, 50000])\n"
     ]
    },
    {
     "data": {
      "text/plain": [
       "([100.0, 99.59999918937683, 99.29333329200745, 98.86999726295471],\n",
       " [98.36000204086304, 98.51999878883362, 98.28000068664551, 97.75999784469604])"
      ]
     },
     "execution_count": 66,
     "metadata": {},
     "output_type": "execute_result"
    }
   ],
   "source": [
    "gn_tracer = GN(grad_extractor=grad_extractor)\n",
    "scores = gn_tracer.trace_dataloader(train_loader=train_loader, test_loader=dm.test_dataloader())\n",
    "scores = scores.cpu()\n",
    "process_results(scores, ref_targets, dm.flipped_idx, 10, True)"
   ]
  },
  {
   "cell_type": "code",
   "execution_count": 74,
   "metadata": {},
   "outputs": [
    {
     "name": "stdout",
     "output_type": "stream",
     "text": [
      "Allocating a matrix of size: (500, 50000)\n"
     ]
    },
    {
     "name": "stderr",
     "output_type": "stream",
     "text": [
      "Seting up Tracer: 4it [00:00,  9.69it/s]\n",
      "Tracing: 100%|██████████| 782/782 [00:17<00:00, 44.75it/s]\n"
     ]
    },
    {
     "name": "stdout",
     "output_type": "stream",
     "text": [
      "Number of element in each class: tensor([44, 60, 50, 51, 48, 51, 49, 48, 48, 51])\n",
      "torch.Size([10, 50000])\n"
     ]
    },
    {
     "data": {
      "text/plain": [
       "([57.56000280380249,\n",
       "  38.999998569488525,\n",
       "  29.240000247955322,\n",
       "  23.240000009536743],\n",
       " [40.32000005245209, 32.46000111103058, 24.959999322891235, 20.20000070333481])"
      ]
     },
     "execution_count": 74,
     "metadata": {},
     "output_type": "execute_result"
    }
   ],
   "source": [
    "gn_tracer = GC(grad_extractor=grad_extractor)\n",
    "scores = gn_tracer.trace_dataloader(train_loader=train_loader, test_loader=dm.test_dataloader())\n",
    "scores = scores.cpu()\n",
    "ref_targets = torch.cat([b[1] for b in dm.test_dataloader()])\n",
    "process_results(scores, ref_targets, dm.flipped_idx, 10, True)"
   ]
  },
  {
   "cell_type": "code",
   "execution_count": 72,
   "metadata": {},
   "outputs": [
    {
     "name": "stderr",
     "output_type": "stream",
     "text": [
      "Seting up Tracer: 782it [00:17, 45.53it/s]\n"
     ]
    },
    {
     "name": "stdout",
     "output_type": "stream",
     "text": [
      "2500\n",
      "5000\n",
      "7500\n",
      "10000\n",
      "[0.6092, 0.4324, 0.318, 0.2405]\n"
     ]
    }
   ],
   "source": [
    "knn_tracer = KNNGD(grad_extractor=grad_extractor, neighbor_matrices=neibor_inds[:, :1000])\n",
    "scores = knn_tracer._trace_dataloader(train_loader=train_loader, test_loader=None)\n",
    "scores = scores[0].cpu()\n",
    "value, inds = scores.sort(descending=False)\n",
    "top_sizes = (torch.tensor([0.05, 0.1, 0.15,0.2])*50000).tolist()\n",
    "all_results = []\n",
    "for top_size in top_sizes:\n",
    "    top_size = int(top_size)\n",
    "    print(top_size)\n",
    "    all_results.append(torch.isin(inds[:top_size], dm.flipped_idx).sum().item() / top_size)\n",
    "print(all_results)"
   ]
  },
  {
   "cell_type": "code",
   "execution_count": 73,
   "metadata": {},
   "outputs": [
    {
     "name": "stderr",
     "output_type": "stream",
     "text": [
      "Seting up Tracer: 782it [00:17, 45.36it/s]\n"
     ]
    },
    {
     "name": "stdout",
     "output_type": "stream",
     "text": [
      "2500\n",
      "5000\n",
      "7500\n",
      "10000\n",
      "[0.6316, 0.4284, 0.31866666666666665, 0.2408]\n"
     ]
    }
   ],
   "source": [
    "knn_tracer = KNNGN(grad_extractor=grad_extractor, neighbor_matrices=neibor_inds[:, :1000])\n",
    "scores = knn_tracer._trace_dataloader(train_loader=train_loader, test_loader=None)\n",
    "scores = scores[0].cpu()\n",
    "value, inds = scores.sort(descending=False)\n",
    "top_sizes = (torch.tensor([0.05, 0.1, 0.15,0.2])*50000).tolist()\n",
    "all_results = []\n",
    "for top_size in top_sizes:\n",
    "    top_size = int(top_size)\n",
    "    print(top_size)\n",
    "    all_results.append(torch.isin(inds[:top_size], dm.flipped_idx).sum().item() / top_size)\n",
    "print(all_results)"
   ]
  },
  {
   "cell_type": "code",
   "execution_count": 51,
   "metadata": {},
   "outputs": [
    {
     "name": "stdout",
     "output_type": "stream",
     "text": [
      "Files already downloaded and verified\n",
      "Files already downloaded and verified\n"
     ]
    }
   ],
   "source": [
    "dm = hydra.utils.instantiate(cfg.datamodule, data_root=os.environ['PYTORCH_DATASET_ROOT'], flip_percent=0.5)\n",
    "dm.prepare_data()\n",
    "dm.setup(\"tracing\")"
   ]
  },
  {
   "cell_type": "code",
   "execution_count": 42,
   "metadata": {},
   "outputs": [],
   "source": [
    "import matplotlib.pyplot as plt"
   ]
  },
  {
   "cell_type": "code",
   "execution_count": 55,
   "metadata": {},
   "outputs": [
    {
     "ename": "NameError",
     "evalue": "name 'plt' is not defined",
     "output_type": "error",
     "traceback": [
      "\u001b[0;31m---------------------------------------------------------------------------\u001b[0m",
      "\u001b[0;31mNameError\u001b[0m                                 Traceback (most recent call last)",
      "Cell \u001b[0;32mIn [55], line 1\u001b[0m\n\u001b[0;32m----> 1\u001b[0m \u001b[43mplt\u001b[49m\u001b[38;5;241m.\u001b[39mhist(train_grd_norms\u001b[38;5;241m.\u001b[39mcpu(), bins\u001b[38;5;241m=\u001b[39m\u001b[38;5;241m100\u001b[39m)\n",
      "\u001b[0;31mNameError\u001b[0m: name 'plt' is not defined"
     ]
    }
   ],
   "source": [
    "plt.hist(train_grd_norms.cpu(), bins=100)"
   ]
  },
  {
   "cell_type": "code",
   "execution_count": null,
   "metadata": {},
   "outputs": [],
   "source": []
  }
 ],
 "metadata": {
  "interpreter": {
   "hash": "1db0706071c6fcec6e8c28c8fe58b8e3e3000aaf085b87ef91440fa059e389f0"
  },
  "kernelspec": {
   "display_name": "Python 3.10.8 ('basetorch')",
   "language": "python",
   "name": "python3"
  },
  "language_info": {
   "codemirror_mode": {
    "name": "ipython",
    "version": 3
   },
   "file_extension": ".py",
   "mimetype": "text/x-python",
   "name": "python",
   "nbconvert_exporter": "python",
   "pygments_lexer": "ipython3",
   "version": "3.10.8"
  },
  "orig_nbformat": 4
 },
 "nbformat": 4,
 "nbformat_minor": 2
}
