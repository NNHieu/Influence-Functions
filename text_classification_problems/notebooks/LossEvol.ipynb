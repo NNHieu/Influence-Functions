{
 "cells": [
  {
   "cell_type": "code",
   "execution_count": 1,
   "metadata": {},
   "outputs": [],
   "source": [
    "%load_ext autoreload\n",
    "%autoreload 2"
   ]
  },
  {
   "cell_type": "markdown",
   "metadata": {},
   "source": [
    "# Setup Paths"
   ]
  },
  {
   "cell_type": "code",
   "execution_count": 2,
   "metadata": {},
   "outputs": [],
   "source": [
    "import os\n",
    "import pyrootutils\n",
    "root = pyrootutils.setup_root(\n",
    "    search_from='.',\n",
    "    indicator=[\".git\", \"pyproject.toml\"],\n",
    "    pythonpath=True,\n",
    "    dotenv=True,\n",
    ")\n",
    "hydra_cfg_path = root / \"text_classification_problems\" / \"configs\"\n",
    "os.chdir(root / \"text_classification_problems\")"
   ]
  },
  {
   "cell_type": "code",
   "execution_count": 3,
   "metadata": {},
   "outputs": [
    {
     "name": "stderr",
     "output_type": "stream",
     "text": [
      "/host/ThangND34/ErrorDetection/.venv/lib/python3.8/site-packages/tqdm/auto.py:22: TqdmWarning: IProgress not found. Please update jupyter and ipywidgets. See https://ipywidgets.readthedocs.io/en/stable/user_install.html\n",
      "  from .autonotebook import tqdm as notebook_tqdm\n"
     ]
    }
   ],
   "source": [
    "import hydra\n",
    "from hydra import compose, initialize\n",
    "\n",
    "from pathlib import Path\n",
    "import numpy as np\n",
    "import torch\n",
    "from core.grads import tree_to_device\n",
    "from core.tracer import KNN, KNNGD, KNNGN\n",
    "from sklearn.neighbors import KNeighborsClassifier\n",
    "from text_classification_problems.datamodule import TextClassifierDataModule\n",
    "from text_classification_problems.modelmodule import TextClassifierModel\n",
    "from transformers import AutoTokenizer\n",
    "from tqdm import tqdm\n",
    "\n",
    "import matplotlib.pyplot as plt"
   ]
  },
  {
   "cell_type": "markdown",
   "metadata": {},
   "source": [
    "# Config  "
   ]
  },
  {
   "cell_type": "code",
   "execution_count": 4,
   "metadata": {},
   "outputs": [],
   "source": [
    "'..' / hydra_cfg_path.relative_to(root)\n",
    "with initialize(version_base=None, config_path= '../configs'):\n",
    "    cfg = compose(config_name=\"tracing\", return_hydra_config=True, overrides=[\"datamodule=imdb\", \"tracer=gd\"])"
   ]
  },
  {
   "cell_type": "code",
   "execution_count": 5,
   "metadata": {},
   "outputs": [],
   "source": [
    "device = 'cuda:2'"
   ]
  },
  {
   "cell_type": "markdown",
   "metadata": {},
   "source": [
    "# Load Data and Model"
   ]
  },
  {
   "cell_type": "code",
   "execution_count": 6,
   "metadata": {},
   "outputs": [],
   "source": [
    "from datamodule import TextClassifierDataModule"
   ]
  },
  {
   "cell_type": "code",
   "execution_count": 7,
   "metadata": {},
   "outputs": [],
   "source": [
    "checkpoint = torch.load(\"outputs/imdb/flip0_bert/124_2023-01-02_12-12-57/checkpoints/epoch=01_val_acc=0.8803.ckpt\", map_location=device)\n",
    "datamodule_hparams = checkpoint[\"datamodule_hyper_parameters\"] "
   ]
  },
  {
   "cell_type": "code",
   "execution_count": 8,
   "metadata": {},
   "outputs": [],
   "source": [
    "tokenizer = AutoTokenizer.from_pretrained(\"bert-base-uncased\", use_fast=True)\n",
    "dm = TextClassifierDataModule(\n",
    "    data_root=os.environ[\"PYTORCH_DATASET_ROOT\"],\n",
    "    tokenizer=tokenizer,\n",
    "    **datamodule_hparams,\n",
    "    use_denoised_data=True\n",
    ")\n",
    "dm.prepare_data()\n",
    "dm.setup(\"tracing\")"
   ]
  },
  {
   "cell_type": "code",
   "execution_count": 9,
   "metadata": {},
   "outputs": [
    {
     "name": "stderr",
     "output_type": "stream",
     "text": [
      "Some weights of the model checkpoint at bert-base-uncased were not used when initializing BertModel: ['cls.predictions.transform.dense.weight', 'cls.predictions.transform.LayerNorm.bias', 'cls.seq_relationship.weight', 'cls.predictions.transform.LayerNorm.weight', 'cls.predictions.bias', 'cls.seq_relationship.bias', 'cls.predictions.transform.dense.bias', 'cls.predictions.decoder.weight']\n",
      "- This IS expected if you are initializing BertModel from the checkpoint of a model trained on another task or with another architecture (e.g. initializing a BertForSequenceClassification model from a BertForPreTraining model).\n",
      "- This IS NOT expected if you are initializing BertModel from the checkpoint of a model that you expect to be exactly identical (initializing a BertForSequenceClassification model from a BertForSequenceClassification model).\n"
     ]
    }
   ],
   "source": [
    "net = hydra.utils.instantiate(cfg.net, num_classes=dm.num_classes)\n",
    "lit_model = TextClassifierModel(\n",
    "    net=net,\n",
    "    num_classes=dm.num_classes,\n",
    "    lr=1e-3,\n",
    ")\n",
    "lit_model.load_state_dict(checkpoint[\"state_dict\"])\n",
    "net = lit_model.net\n",
    "lit_model.eval()\n",
    "lit_model.to(device);"
   ]
  },
  {
   "cell_type": "markdown",
   "metadata": {},
   "source": [
    "# Stats"
   ]
  },
  {
   "cell_type": "code",
   "execution_count": 14,
   "metadata": {},
   "outputs": [],
   "source": [
    "from core.grads import RuntimeGradientExtractor\n",
    "from core.tracer import GradientNormalize as GN, GradientCosin as GC, GradientBasedTracer as GD\n",
    "import torch.nn.functional as F\n",
    "import pandas as pd\n",
    "from core.aggregation import cal_neibor_matrices\n",
    "from text_classification_problems.convert_result import eval_ckpt, loss_fn\n",
    "from text_classification_problems.run_tracing import register_BatchEncoding\n",
    "import re\n",
    "from core.eval import cal_precision_top\n",
    "from core.mrr import compute_mean_reciprocal_rank\n",
    "from core.experimental import mahalanobis"
   ]
  },
  {
   "cell_type": "code",
   "execution_count": 11,
   "metadata": {},
   "outputs": [],
   "source": [
    "register_BatchEncoding()"
   ]
  },
  {
   "cell_type": "markdown",
   "metadata": {},
   "source": [
    "## Collecting"
   ]
  },
  {
   "cell_type": "code",
   "execution_count": 16,
   "metadata": {},
   "outputs": [],
   "source": [
    "ref_loader = dm.ref_dataloader()\n",
    "trace_loader = dm.trace_dataloader()\n",
    "true_error_labels = torch.isin(torch.arange(len(dm.trace_set)), dm.flipped_inds)\n",
    "sel_ranges = range(50, 1310, 50)\n",
    "ckpt_dir = Path(\"outputs/imdb/flip0_bert/124_2023-01-02_12-12-57/checkpoints\")\n",
    "all_loss_epoch = {}"
   ]
  },
  {
   "cell_type": "markdown",
   "metadata": {},
   "source": [
    "## Epoch 0"
   ]
  },
  {
   "cell_type": "code",
   "execution_count": 54,
   "metadata": {},
   "outputs": [
    {
     "name": "stdout",
     "output_type": "stream",
     "text": [
      "{'token_type_ids': torch.Size([64, 128]), 'label': torch.Size([64]), 'input_ids': torch.Size([64, 128]), 'attention_mask': torch.Size([64, 128])}\n",
      "[torch.Size([64, 128]), torch.Size([64]), torch.Size([64, 128]), torch.Size([64, 128])]\n"
     ]
    },
    {
     "name": "stderr",
     "output_type": "stream",
     "text": [
      "Tracing: 100%|██████████| 21/21 [00:04<00:00,  5.21it/s]\n"
     ]
    },
    {
     "name": "stdout",
     "output_type": "stream",
     "text": [
      "{'token_type_ids': torch.Size([64, 128]), 'label': torch.Size([64]), 'input_ids': torch.Size([64, 128]), 'attention_mask': torch.Size([64, 128])}\n",
      "[torch.Size([64, 128]), torch.Size([64]), torch.Size([64, 128]), torch.Size([64, 128])]\n"
     ]
    },
    {
     "name": "stderr",
     "output_type": "stream",
     "text": [
      "Tracing: 100%|██████████| 21/21 [00:04<00:00,  5.19it/s]\n"
     ]
    },
    {
     "name": "stdout",
     "output_type": "stream",
     "text": [
      "{'token_type_ids': torch.Size([64, 128]), 'label': torch.Size([64]), 'input_ids': torch.Size([64, 128]), 'attention_mask': torch.Size([64, 128])}\n",
      "[torch.Size([64, 128]), torch.Size([64]), torch.Size([64, 128]), torch.Size([64, 128])]\n"
     ]
    },
    {
     "name": "stderr",
     "output_type": "stream",
     "text": [
      "Tracing: 100%|██████████| 21/21 [00:04<00:00,  5.18it/s]\n"
     ]
    },
    {
     "name": "stdout",
     "output_type": "stream",
     "text": [
      "{'token_type_ids': torch.Size([64, 128]), 'label': torch.Size([64]), 'input_ids': torch.Size([64, 128]), 'attention_mask': torch.Size([64, 128])}\n",
      "[torch.Size([64, 128]), torch.Size([64]), torch.Size([64, 128]), torch.Size([64, 128])]\n"
     ]
    },
    {
     "name": "stderr",
     "output_type": "stream",
     "text": [
      "Tracing: 100%|██████████| 21/21 [00:04<00:00,  5.18it/s]\n"
     ]
    },
    {
     "name": "stdout",
     "output_type": "stream",
     "text": [
      "{'token_type_ids': torch.Size([64, 128]), 'label': torch.Size([64]), 'input_ids': torch.Size([64, 128]), 'attention_mask': torch.Size([64, 128])}\n",
      "[torch.Size([64, 128]), torch.Size([64]), torch.Size([64, 128]), torch.Size([64, 128])]\n"
     ]
    },
    {
     "name": "stderr",
     "output_type": "stream",
     "text": [
      "Tracing: 100%|██████████| 21/21 [00:04<00:00,  5.22it/s]\n"
     ]
    },
    {
     "name": "stdout",
     "output_type": "stream",
     "text": [
      "{'token_type_ids': torch.Size([64, 128]), 'label': torch.Size([64]), 'input_ids': torch.Size([64, 128]), 'attention_mask': torch.Size([64, 128])}\n",
      "[torch.Size([64, 128]), torch.Size([64]), torch.Size([64, 128]), torch.Size([64, 128])]\n"
     ]
    },
    {
     "name": "stderr",
     "output_type": "stream",
     "text": [
      "Tracing: 100%|██████████| 21/21 [00:04<00:00,  5.22it/s]\n"
     ]
    },
    {
     "name": "stdout",
     "output_type": "stream",
     "text": [
      "{'token_type_ids': torch.Size([64, 128]), 'label': torch.Size([64]), 'input_ids': torch.Size([64, 128]), 'attention_mask': torch.Size([64, 128])}\n",
      "[torch.Size([64, 128]), torch.Size([64]), torch.Size([64, 128]), torch.Size([64, 128])]\n"
     ]
    },
    {
     "name": "stderr",
     "output_type": "stream",
     "text": [
      "Tracing: 100%|██████████| 21/21 [00:04<00:00,  5.20it/s]\n"
     ]
    },
    {
     "name": "stdout",
     "output_type": "stream",
     "text": [
      "{'token_type_ids': torch.Size([64, 128]), 'label': torch.Size([64]), 'input_ids': torch.Size([64, 128]), 'attention_mask': torch.Size([64, 128])}\n",
      "[torch.Size([64, 128]), torch.Size([64]), torch.Size([64, 128]), torch.Size([64, 128])]\n"
     ]
    },
    {
     "name": "stderr",
     "output_type": "stream",
     "text": [
      "Tracing: 100%|██████████| 21/21 [00:04<00:00,  5.20it/s]\n"
     ]
    },
    {
     "name": "stdout",
     "output_type": "stream",
     "text": [
      "{'token_type_ids': torch.Size([64, 128]), 'label': torch.Size([64]), 'input_ids': torch.Size([64, 128]), 'attention_mask': torch.Size([64, 128])}\n",
      "[torch.Size([64, 128]), torch.Size([64]), torch.Size([64, 128]), torch.Size([64, 128])]\n"
     ]
    },
    {
     "name": "stderr",
     "output_type": "stream",
     "text": [
      "Tracing: 100%|██████████| 21/21 [00:04<00:00,  5.20it/s]\n"
     ]
    },
    {
     "name": "stdout",
     "output_type": "stream",
     "text": [
      "{'token_type_ids': torch.Size([64, 128]), 'label': torch.Size([64]), 'input_ids': torch.Size([64, 128]), 'attention_mask': torch.Size([64, 128])}\n",
      "[torch.Size([64, 128]), torch.Size([64]), torch.Size([64, 128]), torch.Size([64, 128])]\n"
     ]
    },
    {
     "name": "stderr",
     "output_type": "stream",
     "text": [
      "Tracing: 100%|██████████| 21/21 [00:04<00:00,  5.19it/s]\n"
     ]
    }
   ],
   "source": [
    "for epoch in range(10):\n",
    "    checkpoint = torch.load(next(ckpt_dir.glob(f\"epoch=0{epoch}*.ckpt\")), map_location=device)\n",
    "    lit_model.load_state_dict(checkpoint[\"state_dict\"])\n",
    "    lit_model.eval()\n",
    "    grad_extractor = RuntimeGradientExtractor(\n",
    "            lit_model,\n",
    "            split_params=lambda params: (params[:-2], params[-2:]),\n",
    "            merge_params=lambda w1, w2: w1 + w2,\n",
    "            loss_fn=loss_fn,\n",
    "            input_sample=next(iter(dm.trace_dataloader())),\n",
    "        )\n",
    "    all_losses = []\n",
    "    all_probs = []\n",
    "    with torch.no_grad():\n",
    "        for batch in tqdm(trace_loader, desc=\"Tracing\"):\n",
    "            batch = tree_to_device(batch, device)\n",
    "            probs = torch.softmax(lit_model(batch), dim=-1)\n",
    "            grads, losses = grad_extractor.grad_per_input(batch, return_loss=True)\n",
    "            all_losses.append(losses.cpu())\n",
    "            all_probs.append(probs.cpu())\n",
    "    all_losses = torch.cat(all_losses).cpu()\n",
    "    all_probs = torch.cat(all_probs).cpu()\n",
    "    all_loss_epoch[epoch] = all_losses"
   ]
  },
  {
   "cell_type": "code",
   "execution_count": 73,
   "metadata": {},
   "outputs": [],
   "source": [
    "scores = all_loss_epoch[1]"
   ]
  },
  {
   "cell_type": "code",
   "execution_count": 74,
   "metadata": {},
   "outputs": [
    {
     "data": {
      "text/plain": [
       "tensor([2.1988e+00, 1.2000e+00, 2.9617e+00,  ..., 7.0735e-02, 1.6602e-03,\n",
       "        7.3799e-03])"
      ]
     },
     "execution_count": 74,
     "metadata": {},
     "output_type": "execute_result"
    }
   ],
   "source": [
    "scores"
   ]
  },
  {
   "cell_type": "code",
   "execution_count": 75,
   "metadata": {},
   "outputs": [],
   "source": [
    "precs, label_ranking, _ = cal_precision_top(scores, true_error_labels, sel_ranges, descending=True)"
   ]
  },
  {
   "cell_type": "code",
   "execution_count": 76,
   "metadata": {},
   "outputs": [
    {
     "data": {
      "text/plain": [
       "[87.99999952316284,\n",
       " 86.00000143051147,\n",
       " 83.99999737739563,\n",
       " 83.99999737739563,\n",
       " 79.60000038146973,\n",
       " 76.99999809265137,\n",
       " 76.28571391105652,\n",
       " 75.24999976158142,\n",
       " 73.11111092567444,\n",
       " 72.79999852180481,\n",
       " 71.63636088371277,\n",
       " 70.83333134651184,\n",
       " 69.69230771064758,\n",
       " 68.85714530944824,\n",
       " 67.73333549499512,\n",
       " 67.25000143051147,\n",
       " 65.76470732688904,\n",
       " 65.11111259460449,\n",
       " 64.73684310913086,\n",
       " 63.499999046325684,\n",
       " 62.47618794441223,\n",
       " 61.27272844314575,\n",
       " 59.913045167922974,\n",
       " 58.74999761581421,\n",
       " 57.35999941825867,\n",
       " 55.69230914115906]"
      ]
     },
     "execution_count": 76,
     "metadata": {},
     "output_type": "execute_result"
    }
   ],
   "source": [
    "precs"
   ]
  },
  {
   "cell_type": "code",
   "execution_count": 77,
   "metadata": {},
   "outputs": [
    {
     "data": {
      "text/plain": [
       "<BarContainer object of 1310 artists>"
      ]
     },
     "execution_count": 77,
     "metadata": {},
     "output_type": "execute_result"
    },
    {
     "data": {
      "image/png": "[encoded data removed]",
      "text/plain": [
       "<Figure size 640x480 with 1 Axes>"
      ]
     },
     "metadata": {},
     "output_type": "display_data"
    }
   ],
   "source": [
    "plt.bar(np.arange(label_ranking.shape[0]), label_ranking)"
   ]
  },
  {
   "cell_type": "code",
   "execution_count": null,
   "metadata": {},
   "outputs": [],
   "source": [
    "import pytorch_lightning as pl\n",
    "from pytorch_lightning.callbacks import BaseFinetuning\n",
    "from torch.utils.data import DataLoader, ConcatDataset\n",
    "from text_classification_problems.datamodule import _random_subset\n",
    "import copy"
   ]
  },
  {
   "cell_type": "code",
   "execution_count": null,
   "metadata": {},
   "outputs": [],
   "source": [
    "dm.setup(\"fit\")\n",
    "trace_set = dm.trace_set\n",
    "sub_train_set = _random_subset(copy.deepcopy(dm.train_set), 5000, 1204828947)\n",
    "new_train_dataloader = DataLoader(\n",
    "    sub_train_set, batch_size=64, shuffle=True, num_workers=4, persistent_workers=True\n",
    ")\n",
    "val_loader = dm.val_dataloader()"
   ]
  },
  {
   "cell_type": "code",
   "execution_count": null,
   "metadata": {},
   "outputs": [],
   "source": [
    "trainer = pl.Trainer(callbacks=[FeatureExtractorFreezeUnfreeze()], enable_checkpointing=False, max_epochs=1, accelerator=\"gpu\", devices=1, logger=False)"
   ]
  },
  {
   "cell_type": "code",
   "execution_count": null,
   "metadata": {},
   "outputs": [],
   "source": [
    "trainer.fit(lit_model, train_dataloaders=new_train_dataloader,val_dataloaders=val_loader)"
   ]
  }
 ],
 "metadata": {
  "interpreter": {
   "hash": "178be3a43525fa8f44392002b19606a8e29ff12ad8e80387bd739ebeb9eb01aa"
  },
  "kernelspec": {
   "display_name": "Python 3.8.10 ('.venv': venv)",
   "language": "python",
   "name": "python3"
  },
  "language_info": {
   "codemirror_mode": {
    "name": "ipython",
    "version": 3
   },
   "file_extension": ".py",
   "mimetype": "text/x-python",
   "name": "python",
   "nbconvert_exporter": "python",
   "pygments_lexer": "ipython3",
   "version": "3.8.10 (default, Nov 14 2022, 12:59:47) \n[GCC 9.4.0]"
  },
  "orig_nbformat": 4
 },
 "nbformat": 4,
 "nbformat_minor": 2
}
