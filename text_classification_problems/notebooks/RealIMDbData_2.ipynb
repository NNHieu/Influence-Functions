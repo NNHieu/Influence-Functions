{
 "cells": [
  {
   "cell_type": "code",
   "execution_count": 1,
   "metadata": {},
   "outputs": [],
   "source": [
    "%load_ext autoreload\n",
    "%autoreload 2"
   ]
  },
  {
   "cell_type": "markdown",
   "metadata": {},
   "source": [
    "# Setup Paths"
   ]
  },
  {
   "cell_type": "code",
   "execution_count": 2,
   "metadata": {},
   "outputs": [],
   "source": [
    "import os\n",
    "import pyrootutils\n",
    "root = pyrootutils.setup_root(\n",
    "    search_from='.',\n",
    "    indicator=[\".git\", \"pyproject.toml\"],\n",
    "    pythonpath=True,\n",
    "    dotenv=True,\n",
    ")\n",
    "hydra_cfg_path = root / \"text_classification_problems\" / \"configs\"\n",
    "os.chdir(root / \"text_classification_problems\")"
   ]
  },
  {
   "cell_type": "code",
   "execution_count": 3,
   "metadata": {},
   "outputs": [
    {
     "name": "stderr",
     "output_type": "stream",
     "text": [
      "/host/ThangND34/ErrorDetection/.venv/lib/python3.8/site-packages/tqdm/auto.py:22: TqdmWarning: IProgress not found. Please update jupyter and ipywidgets. See https://ipywidgets.readthedocs.io/en/stable/user_install.html\n",
      "  from .autonotebook import tqdm as notebook_tqdm\n"
     ]
    }
   ],
   "source": [
    "import hydra\n",
    "from hydra import compose, initialize\n",
    "\n",
    "from pathlib import Path\n",
    "import numpy as np\n",
    "import torch\n",
    "from core.grads import tree_to_device\n",
    "from core.tracer import KNN, KNNGD, KNNGN\n",
    "from sklearn.neighbors import KNeighborsClassifier\n",
    "from text_classification_problems.datamodule import TextClassifierDataModule\n",
    "from text_classification_problems.modelmodule import TextClassifierModel\n",
    "from transformers import AutoTokenizer\n",
    "from tqdm import tqdm\n",
    "\n",
    "import matplotlib.pyplot as plt"
   ]
  },
  {
   "cell_type": "markdown",
   "metadata": {},
   "source": [
    "# Config  "
   ]
  },
  {
   "cell_type": "code",
   "execution_count": 4,
   "metadata": {},
   "outputs": [],
   "source": [
    "'..' / hydra_cfg_path.relative_to(root)\n",
    "with initialize(version_base=None, config_path= '../configs'):\n",
    "    cfg = compose(config_name=\"tracing\", return_hydra_config=True, overrides=[\"datamodule=imdb\", \"tracer=gd\"])"
   ]
  },
  {
   "cell_type": "code",
   "execution_count": 5,
   "metadata": {},
   "outputs": [],
   "source": [
    "device = 'cuda:2'"
   ]
  },
  {
   "cell_type": "markdown",
   "metadata": {},
   "source": [
    "# Load Data and Model"
   ]
  },
  {
   "cell_type": "code",
   "execution_count": 6,
   "metadata": {},
   "outputs": [],
   "source": [
    "from datamodule import TextClassifierDataModule"
   ]
  },
  {
   "cell_type": "code",
   "execution_count": 7,
   "metadata": {},
   "outputs": [],
   "source": [
    "checkpoint = torch.load(\"outputs/imdb/flip0_bert/124_2023-01-02_12-12-57/checkpoints/epoch=01_val_acc=0.8803.ckpt\", map_location=device)\n",
    "datamodule_hparams = checkpoint[\"datamodule_hyper_parameters\"] "
   ]
  },
  {
   "cell_type": "code",
   "execution_count": 8,
   "metadata": {},
   "outputs": [],
   "source": [
    "tokenizer = AutoTokenizer.from_pretrained(\"bert-base-uncased\", use_fast=True)\n",
    "dm = TextClassifierDataModule(\n",
    "    data_root=os.environ[\"PYTORCH_DATASET_ROOT\"],\n",
    "    tokenizer=tokenizer,\n",
    "    **datamodule_hparams,\n",
    "    use_denoised_data=True\n",
    ")\n",
    "dm.prepare_data()\n",
    "dm.setup(\"tracing\")"
   ]
  },
  {
   "cell_type": "code",
   "execution_count": 9,
   "metadata": {},
   "outputs": [
    {
     "name": "stderr",
     "output_type": "stream",
     "text": [
      "Some weights of the model checkpoint at bert-base-uncased were not used when initializing BertModel: ['cls.predictions.decoder.weight', 'cls.predictions.transform.dense.weight', 'cls.predictions.transform.LayerNorm.bias', 'cls.seq_relationship.bias', 'cls.seq_relationship.weight', 'cls.predictions.transform.LayerNorm.weight', 'cls.predictions.transform.dense.bias', 'cls.predictions.bias']\n",
      "- This IS expected if you are initializing BertModel from the checkpoint of a model trained on another task or with another architecture (e.g. initializing a BertForSequenceClassification model from a BertForPreTraining model).\n",
      "- This IS NOT expected if you are initializing BertModel from the checkpoint of a model that you expect to be exactly identical (initializing a BertForSequenceClassification model from a BertForSequenceClassification model).\n"
     ]
    }
   ],
   "source": [
    "net = hydra.utils.instantiate(cfg.net, num_classes=dm.num_classes)\n",
    "lit_model = TextClassifierModel(\n",
    "    net=net,\n",
    "    num_classes=dm.num_classes,\n",
    "    lr=1e-3,\n",
    ")\n",
    "lit_model.load_state_dict(checkpoint[\"state_dict\"])\n",
    "net = lit_model.net\n",
    "lit_model.eval()\n",
    "lit_model.to(device);"
   ]
  },
  {
   "cell_type": "code",
   "execution_count": 10,
   "metadata": {},
   "outputs": [],
   "source": [
    "# np.savez_compressed('outputs/train/imdb/knn.npz', neibor_inds.numpy())"
   ]
  },
  {
   "cell_type": "code",
   "execution_count": 11,
   "metadata": {},
   "outputs": [],
   "source": [
    "# neibor_inds = np.load('outputs/train/imdb/knn.npz')['arr_0']"
   ]
  },
  {
   "cell_type": "markdown",
   "metadata": {},
   "source": [
    "## Tracing"
   ]
  },
  {
   "cell_type": "code",
   "execution_count": 20,
   "metadata": {},
   "outputs": [],
   "source": [
    "from core.grads import RuntimeGradientExtractor\n",
    "from core.tracer import GradientNormalize as GN, GradientCosin as GC, GradientBasedTracer as GD\n",
    "import torch.nn.functional as F\n",
    "import pandas as pd\n",
    "from core.aggregation import cal_neibor_matrices\n",
    "from text_classification_problems.convert_result import eval_ckpt, load_datamodule_from_ckpt, loss_fn\n",
    "from text_classification_problems.run_tracing import register_BatchEncoding\n",
    "from core.eval import eval_fn\n",
    "import re"
   ]
  },
  {
   "cell_type": "code",
   "execution_count": 13,
   "metadata": {},
   "outputs": [],
   "source": [
    "register_BatchEncoding()"
   ]
  },
  {
   "cell_type": "markdown",
   "metadata": {},
   "source": [
    "## Comparation"
   ]
  },
  {
   "cell_type": "code",
   "execution_count": 14,
   "metadata": {},
   "outputs": [],
   "source": [
    "tokenizer = AutoTokenizer.from_pretrained(\"bert-base-uncased\", use_fast=True)\n",
    "colected_ks = list(range(50, 1001, 10))\n",
    "sel_sizes = list(range(50, 1310, 50))\n",
    "ckpt_path = \"outputs/imdb/flip0_bert/121_2023-01-02_12-11-48/checkpoints/epoch=09_val_acc=0.8831.ckpt\""
   ]
  },
  {
   "cell_type": "markdown",
   "metadata": {},
   "source": [
    "### Pretrained model"
   ]
  },
  {
   "cell_type": "code",
   "execution_count": null,
   "metadata": {},
   "outputs": [],
   "source": [
    "ckpt = torch.load(ckpt_path, map_location=device)\n",
    "dm = load_datamodule_from_ckpt(ckpt, tokenizer, use_denoised_data=True)\n",
    "dm.prepare_data()\n",
    "dm.setup(\"tracing\")\n",
    "\n",
    "net = hydra.utils.instantiate(cfg.net, num_classes=dm.num_classes)\n",
    "lit_model = TextClassifierModel(\n",
    "    net=net,\n",
    "    num_classes=dm.num_classes,\n",
    "    lr=1e-3,\n",
    ")\n",
    "lit_model.eval()\n",
    "lit_model.to(device);\n",
    "\n",
    "grad_extractor = RuntimeGradientExtractor(\n",
    "    lit_model,\n",
    "    split_params=lambda params: (params[:-2], params[-2:]),\n",
    "    merge_params=lambda w1, w2: w1 + w2,\n",
    "    loss_fn=loss_fn,\n",
    "    input_sample=next(iter(dm.trace_dataloader())),\n",
    ")\n",
    "neibor_inds = cal_neibor_matrices(\n",
    "    lit_model,\n",
    "    ref_loader=dm.train_dataloader(shuffle=False),\n",
    "    trace_loader=dm.trace_dataloader(),\n",
    "    device=device,\n",
    "    k=1000,\n",
    "    is_self_ref=True\n",
    ")\n"
   ]
  },
  {
   "cell_type": "code",
   "execution_count": 22,
   "metadata": {},
   "outputs": [
    {
     "name": "stdout",
     "output_type": "stream",
     "text": [
      "Number of element in each class: [100, 100]\n"
     ]
    },
    {
     "name": "stderr",
     "output_type": "stream",
     "text": [
      "Collect Ref Grads: 1it [00:00,  4.21it/s]\n",
      "Tracing: 100%|██████████| 6/6 [00:02<00:00,  2.26it/s]\n",
      "Loop ref knn: 100%|██████████| 69/69 [00:27<00:00,  2.51it/s]\n",
      "Loop KNN GD: 1000it [00:02, 426.37it/s]\n"
     ]
    }
   ],
   "source": [
    "result_df, all_scores = eval_fn(\n",
    "    dm,\n",
    "    lit_model,\n",
    "    grad_extractor,\n",
    "    label_from_batch=lambda b: b[\"label\"],\n",
    "    neighbor_matrices=neibor_inds,\n",
    "    sel_sizes=sel_sizes,\n",
    "    colected_ks=colected_ks,\n",
    "    is_self_ref=False,\n",
    "    use_cache=False,\n",
    "    cache_file=None\n",
    ")"
   ]
  },
  {
   "cell_type": "code",
   "execution_count": 27,
   "metadata": {},
   "outputs": [
    {
     "ename": "",
     "evalue": "",
     "output_type": "error",
     "traceback": [
      "\u001b[1;31mThe Kernel crashed while executing code in the the current cell or a previous cell. Please review the code in the cell(s) to identify a possible cause of the failure. Click <a href='https://aka.ms/vscodeJupyterKernelCrash'>here</a> for more info. View Jupyter <a href='command:jupyter.viewOutput'>log</a> for further details."
     ]
    }
   ],
   "source": [
    "result_df.to_csv(\"outputs/pretrained_results.csv\", index=False)"
   ]
  },
  {
   "cell_type": "markdown",
   "metadata": {},
   "source": [
    "### Load ckpt"
   ]
  },
  {
   "cell_type": "code",
   "execution_count": 15,
   "metadata": {},
   "outputs": [],
   "source": [
    "# result_df, all_scores = eval_ckpt(tokenizer,\n",
    "#     lit_model,\n",
    "#     ckpt_path,\n",
    "#     use_denoised_data=True,\n",
    "#     is_self_ref=False,\n",
    "#     sel_sizes=sel_sizes,\n",
    "#     colected_ks=colected_ks,\n",
    "#     device=device)"
   ]
  },
  {
   "cell_type": "code",
   "execution_count": 16,
   "metadata": {},
   "outputs": [],
   "source": [
    "# result_df.to_csv(ckpt_path + \".csv\")"
   ]
  },
  {
   "cell_type": "code",
   "execution_count": 17,
   "metadata": {},
   "outputs": [],
   "source": [
    "# torch.save(all_scores, ckpt_path + \".scores\")"
   ]
  },
  {
   "cell_type": "code",
   "execution_count": 18,
   "metadata": {},
   "outputs": [],
   "source": [
    "def get_best_ckpt(checkpoint_dir: Path):\n",
    "    metrics = [(float(re.search('val_acc=([+-]?([0-9]*[.])?[0-9]+)', str(p)).group(1)),p) for p in checkpoint_dir.glob(\"epoch*.ckpt\")]\n",
    "    metrics.sort(reverse=True)\n",
    "    # metrics = [(float(re.search('epoch=([+-]?([0-9]*[.])?[0-9]+)', str(p)).group(1)),p) for p in checkpoint_dir.glob(\"epoch*.ckpt\")]\n",
    "    # metrics.sort(reverse=False)\n",
    "\n",
    "    best_ckpt_path = metrics[0][1]\n",
    "    return best_ckpt_path"
   ]
  },
  {
   "cell_type": "code",
   "execution_count": 19,
   "metadata": {},
   "outputs": [
    {
     "name": "stdout",
     "output_type": "stream",
     "text": [
      "outputs/imdb/flip0_bert/121_2023-01-02_12-11-48/checkpoints/epoch=05_val_acc=0.8744.ckpt\n",
      "{'token_type_ids': torch.Size([256, 128]), 'label': torch.Size([256]), 'input_ids': torch.Size([256, 128]), 'attention_mask': torch.Size([256, 128])}\n",
      "[torch.Size([256, 128]), torch.Size([256]), torch.Size([256, 128]), torch.Size([256, 128])]\n",
      "Load neibor_inds from disk\n",
      "Number of element in each class: [100, 100]\n"
     ]
    },
    {
     "name": "stderr",
     "output_type": "stream",
     "text": [
      "Collect Ref Grads: 1it [00:02,  2.53s/it]\n",
      "Tracing: 100%|██████████| 6/6 [00:04<00:00,  1.21it/s]\n"
     ]
    },
    {
     "name": "stdout",
     "output_type": "stream",
     "text": [
      "Load cache outputs/imdb/flip0_bert/121_2023-01-02_12-11-48/checkpoints/epoch=05_val_acc=0.8744.ckpt.cache\n"
     ]
    },
    {
     "name": "stderr",
     "output_type": "stream",
     "text": [
      "Loop KNN GD: 1000it [00:01, 520.25it/s]\n"
     ]
    },
    {
     "name": "stdout",
     "output_type": "stream",
     "text": [
      "outputs/imdb/flip0_bert/121_2023-01-02_12-11-48/checkpoints/epoch=00_val_acc=0.8616.ckpt\n",
      "{'token_type_ids': torch.Size([256, 128]), 'label': torch.Size([256]), 'input_ids': torch.Size([256, 128]), 'attention_mask': torch.Size([256, 128])}\n",
      "[torch.Size([256, 128]), torch.Size([256]), torch.Size([256, 128]), torch.Size([256, 128])]\n",
      "Load neibor_inds from disk\n",
      "Number of element in each class: [100, 100]\n"
     ]
    },
    {
     "name": "stderr",
     "output_type": "stream",
     "text": [
      "Collect Ref Grads: 1it [00:00,  4.35it/s]\n",
      "Tracing: 100%|██████████| 6/6 [00:04<00:00,  1.26it/s]\n"
     ]
    },
    {
     "name": "stdout",
     "output_type": "stream",
     "text": [
      "Load cache outputs/imdb/flip0_bert/121_2023-01-02_12-11-48/checkpoints/epoch=00_val_acc=0.8616.ckpt.cache\n"
     ]
    },
    {
     "name": "stderr",
     "output_type": "stream",
     "text": [
      "Loop KNN GD: 1000it [00:01, 630.57it/s]\n"
     ]
    },
    {
     "name": "stdout",
     "output_type": "stream",
     "text": [
      "outputs/imdb/flip0_bert/121_2023-01-02_12-11-48/checkpoints/epoch=01_val_acc=0.8531.ckpt\n",
      "{'token_type_ids': torch.Size([256, 128]), 'label': torch.Size([256]), 'input_ids': torch.Size([256, 128]), 'attention_mask': torch.Size([256, 128])}\n",
      "[torch.Size([256, 128]), torch.Size([256]), torch.Size([256, 128]), torch.Size([256, 128])]\n",
      "Load neibor_inds from disk\n",
      "Number of element in each class: [100, 100]\n"
     ]
    },
    {
     "name": "stderr",
     "output_type": "stream",
     "text": [
      "Collect Ref Grads: 1it [00:00,  4.54it/s]\n",
      "Tracing: 100%|██████████| 6/6 [00:04<00:00,  1.25it/s]\n"
     ]
    },
    {
     "name": "stdout",
     "output_type": "stream",
     "text": [
      "Load cache outputs/imdb/flip0_bert/121_2023-01-02_12-11-48/checkpoints/epoch=01_val_acc=0.8531.ckpt.cache\n"
     ]
    },
    {
     "name": "stderr",
     "output_type": "stream",
     "text": [
      "Loop KNN GD: 1000it [00:01, 565.07it/s]\n"
     ]
    },
    {
     "name": "stdout",
     "output_type": "stream",
     "text": [
      "outputs/imdb/flip0_bert/121_2023-01-02_12-11-48/checkpoints/epoch=02_val_acc=0.8799.ckpt\n",
      "{'token_type_ids': torch.Size([256, 128]), 'label': torch.Size([256]), 'input_ids': torch.Size([256, 128]), 'attention_mask': torch.Size([256, 128])}\n",
      "[torch.Size([256, 128]), torch.Size([256]), torch.Size([256, 128]), torch.Size([256, 128])]\n",
      "Load neibor_inds from disk\n",
      "Number of element in each class: [100, 100]\n"
     ]
    },
    {
     "name": "stderr",
     "output_type": "stream",
     "text": [
      "Collect Ref Grads: 1it [00:00,  4.24it/s]\n",
      "Tracing: 100%|██████████| 6/6 [00:04<00:00,  1.25it/s]\n"
     ]
    },
    {
     "name": "stdout",
     "output_type": "stream",
     "text": [
      "Load cache outputs/imdb/flip0_bert/121_2023-01-02_12-11-48/checkpoints/epoch=02_val_acc=0.8799.ckpt.cache\n"
     ]
    },
    {
     "name": "stderr",
     "output_type": "stream",
     "text": [
      "Loop KNN GD: 1000it [00:01, 575.03it/s]\n"
     ]
    },
    {
     "name": "stdout",
     "output_type": "stream",
     "text": [
      "outputs/imdb/flip0_bert/121_2023-01-02_12-11-48/checkpoints/epoch=03_val_acc=0.8812.ckpt\n",
      "{'token_type_ids': torch.Size([256, 128]), 'label': torch.Size([256]), 'input_ids': torch.Size([256, 128]), 'attention_mask': torch.Size([256, 128])}\n",
      "[torch.Size([256, 128]), torch.Size([256]), torch.Size([256, 128]), torch.Size([256, 128])]\n",
      "Load neibor_inds from disk\n",
      "Number of element in each class: [100, 100]\n"
     ]
    },
    {
     "name": "stderr",
     "output_type": "stream",
     "text": [
      "Collect Ref Grads: 1it [00:00,  4.13it/s]\n",
      "Tracing: 100%|██████████| 6/6 [00:04<00:00,  1.25it/s]\n"
     ]
    },
    {
     "name": "stdout",
     "output_type": "stream",
     "text": [
      "Load cache outputs/imdb/flip0_bert/121_2023-01-02_12-11-48/checkpoints/epoch=03_val_acc=0.8812.ckpt.cache\n"
     ]
    },
    {
     "name": "stderr",
     "output_type": "stream",
     "text": [
      "Loop KNN GD: 1000it [00:01, 519.48it/s]\n"
     ]
    },
    {
     "name": "stdout",
     "output_type": "stream",
     "text": [
      "outputs/imdb/flip0_bert/121_2023-01-02_12-11-48/checkpoints/epoch=04_val_acc=0.8716.ckpt\n",
      "{'token_type_ids': torch.Size([256, 128]), 'label': torch.Size([256]), 'input_ids': torch.Size([256, 128]), 'attention_mask': torch.Size([256, 128])}\n",
      "[torch.Size([256, 128]), torch.Size([256]), torch.Size([256, 128]), torch.Size([256, 128])]\n",
      "Load neibor_inds from disk\n",
      "Number of element in each class: [100, 100]\n"
     ]
    },
    {
     "name": "stderr",
     "output_type": "stream",
     "text": [
      "Collect Ref Grads: 1it [00:00,  4.22it/s]\n",
      "Tracing: 100%|██████████| 6/6 [00:04<00:00,  1.25it/s]\n"
     ]
    },
    {
     "name": "stdout",
     "output_type": "stream",
     "text": [
      "Load cache outputs/imdb/flip0_bert/121_2023-01-02_12-11-48/checkpoints/epoch=04_val_acc=0.8716.ckpt.cache\n"
     ]
    },
    {
     "name": "stderr",
     "output_type": "stream",
     "text": [
      "Loop KNN GD: 1000it [00:01, 540.63it/s]\n"
     ]
    },
    {
     "name": "stdout",
     "output_type": "stream",
     "text": [
      "outputs/imdb/flip0_bert/121_2023-01-02_12-11-48/checkpoints/epoch=06_val_acc=0.8788.ckpt\n",
      "{'token_type_ids': torch.Size([256, 128]), 'label': torch.Size([256]), 'input_ids': torch.Size([256, 128]), 'attention_mask': torch.Size([256, 128])}\n",
      "[torch.Size([256, 128]), torch.Size([256]), torch.Size([256, 128]), torch.Size([256, 128])]\n",
      "Load neibor_inds from disk\n",
      "Number of element in each class: [100, 100]\n"
     ]
    },
    {
     "name": "stderr",
     "output_type": "stream",
     "text": [
      "Collect Ref Grads: 1it [00:00,  4.73it/s]\n",
      "Tracing: 100%|██████████| 6/6 [00:04<00:00,  1.25it/s]\n"
     ]
    },
    {
     "name": "stdout",
     "output_type": "stream",
     "text": [
      "Load cache outputs/imdb/flip0_bert/121_2023-01-02_12-11-48/checkpoints/epoch=06_val_acc=0.8788.ckpt.cache\n"
     ]
    },
    {
     "name": "stderr",
     "output_type": "stream",
     "text": [
      "Loop KNN GD: 1000it [00:01, 616.24it/s]\n"
     ]
    },
    {
     "name": "stdout",
     "output_type": "stream",
     "text": [
      "outputs/imdb/flip0_bert/121_2023-01-02_12-11-48/checkpoints/epoch=07_val_acc=0.8775.ckpt\n",
      "{'token_type_ids': torch.Size([256, 128]), 'label': torch.Size([256]), 'input_ids': torch.Size([256, 128]), 'attention_mask': torch.Size([256, 128])}\n",
      "[torch.Size([256, 128]), torch.Size([256]), torch.Size([256, 128]), torch.Size([256, 128])]\n",
      "Load neibor_inds from disk\n",
      "Number of element in each class: [100, 100]\n"
     ]
    },
    {
     "name": "stderr",
     "output_type": "stream",
     "text": [
      "Collect Ref Grads: 1it [00:00,  4.20it/s]\n",
      "Tracing: 100%|██████████| 6/6 [00:04<00:00,  1.25it/s]\n"
     ]
    },
    {
     "name": "stdout",
     "output_type": "stream",
     "text": [
      "Load cache outputs/imdb/flip0_bert/121_2023-01-02_12-11-48/checkpoints/epoch=07_val_acc=0.8775.ckpt.cache\n"
     ]
    },
    {
     "name": "stderr",
     "output_type": "stream",
     "text": [
      "Loop KNN GD: 1000it [00:01, 563.63it/s]\n"
     ]
    },
    {
     "name": "stdout",
     "output_type": "stream",
     "text": [
      "outputs/imdb/flip0_bert/121_2023-01-02_12-11-48/checkpoints/epoch=08_val_acc=0.8824.ckpt\n",
      "{'token_type_ids': torch.Size([256, 128]), 'label': torch.Size([256]), 'input_ids': torch.Size([256, 128]), 'attention_mask': torch.Size([256, 128])}\n",
      "[torch.Size([256, 128]), torch.Size([256]), torch.Size([256, 128]), torch.Size([256, 128])]\n",
      "Load neibor_inds from disk\n",
      "Number of element in each class: [100, 100]\n"
     ]
    },
    {
     "name": "stderr",
     "output_type": "stream",
     "text": [
      "Collect Ref Grads: 1it [00:00,  4.47it/s]\n",
      "Tracing: 100%|██████████| 6/6 [00:04<00:00,  1.25it/s]\n"
     ]
    },
    {
     "name": "stdout",
     "output_type": "stream",
     "text": [
      "Load cache outputs/imdb/flip0_bert/121_2023-01-02_12-11-48/checkpoints/epoch=08_val_acc=0.8824.ckpt.cache\n"
     ]
    },
    {
     "name": "stderr",
     "output_type": "stream",
     "text": [
      "Loop KNN GD: 1000it [00:01, 593.35it/s]\n"
     ]
    },
    {
     "name": "stdout",
     "output_type": "stream",
     "text": [
      "outputs/imdb/flip0_bert/121_2023-01-02_12-11-48/checkpoints/epoch=09_val_acc=0.8831.ckpt\n",
      "{'token_type_ids': torch.Size([256, 128]), 'label': torch.Size([256]), 'input_ids': torch.Size([256, 128]), 'attention_mask': torch.Size([256, 128])}\n",
      "[torch.Size([256, 128]), torch.Size([256]), torch.Size([256, 128]), torch.Size([256, 128])]\n",
      "Load neibor_inds from disk\n",
      "Number of element in each class: [100, 100]\n"
     ]
    },
    {
     "name": "stderr",
     "output_type": "stream",
     "text": [
      "Collect Ref Grads: 1it [00:00,  4.14it/s]\n",
      "Tracing: 100%|██████████| 6/6 [00:04<00:00,  1.24it/s]\n"
     ]
    },
    {
     "name": "stdout",
     "output_type": "stream",
     "text": [
      "Load cache outputs/imdb/flip0_bert/121_2023-01-02_12-11-48/checkpoints/epoch=09_val_acc=0.8831.ckpt.cache\n"
     ]
    },
    {
     "name": "stderr",
     "output_type": "stream",
     "text": [
      "Loop KNN GD: 1000it [00:01, 591.31it/s]\n"
     ]
    },
    {
     "name": "stdout",
     "output_type": "stream",
     "text": [
      "outputs/imdb/flip0_bert/122_2023-01-02_12-11-48/checkpoints/epoch=00_val_acc=0.8723.ckpt\n",
      "{'token_type_ids': torch.Size([256, 128]), 'label': torch.Size([256]), 'input_ids': torch.Size([256, 128]), 'attention_mask': torch.Size([256, 128])}\n",
      "[torch.Size([256, 128]), torch.Size([256]), torch.Size([256, 128]), torch.Size([256, 128])]\n",
      "Load neibor_inds from disk\n",
      "Number of element in each class: [100, 100]\n"
     ]
    },
    {
     "name": "stderr",
     "output_type": "stream",
     "text": [
      "Collect Ref Grads: 1it [00:00,  4.36it/s]\n",
      "Tracing: 100%|██████████| 6/6 [00:04<00:00,  1.26it/s]\n"
     ]
    },
    {
     "name": "stdout",
     "output_type": "stream",
     "text": [
      "Load cache outputs/imdb/flip0_bert/122_2023-01-02_12-11-48/checkpoints/epoch=00_val_acc=0.8723.ckpt.cache\n"
     ]
    },
    {
     "name": "stderr",
     "output_type": "stream",
     "text": [
      "Loop KNN GD: 1000it [00:01, 582.43it/s]\n"
     ]
    },
    {
     "name": "stdout",
     "output_type": "stream",
     "text": [
      "outputs/imdb/flip0_bert/122_2023-01-02_12-11-48/checkpoints/epoch=01_val_acc=0.8777.ckpt\n",
      "{'token_type_ids': torch.Size([256, 128]), 'label': torch.Size([256]), 'input_ids': torch.Size([256, 128]), 'attention_mask': torch.Size([256, 128])}\n",
      "[torch.Size([256, 128]), torch.Size([256]), torch.Size([256, 128]), torch.Size([256, 128])]\n",
      "Load neibor_inds from disk\n",
      "Number of element in each class: [100, 100]\n"
     ]
    },
    {
     "name": "stderr",
     "output_type": "stream",
     "text": [
      "Collect Ref Grads: 1it [00:00,  3.83it/s]\n",
      "Tracing: 100%|██████████| 6/6 [00:04<00:00,  1.22it/s]\n"
     ]
    },
    {
     "name": "stdout",
     "output_type": "stream",
     "text": [
      "Load cache outputs/imdb/flip0_bert/122_2023-01-02_12-11-48/checkpoints/epoch=01_val_acc=0.8777.ckpt.cache\n"
     ]
    },
    {
     "name": "stderr",
     "output_type": "stream",
     "text": [
      "Loop KNN GD: 1000it [00:01, 576.09it/s]\n"
     ]
    },
    {
     "name": "stdout",
     "output_type": "stream",
     "text": [
      "outputs/imdb/flip0_bert/122_2023-01-02_12-11-48/checkpoints/epoch=02_val_acc=0.8753.ckpt\n",
      "{'token_type_ids': torch.Size([256, 128]), 'label': torch.Size([256]), 'input_ids': torch.Size([256, 128]), 'attention_mask': torch.Size([256, 128])}\n",
      "[torch.Size([256, 128]), torch.Size([256]), torch.Size([256, 128]), torch.Size([256, 128])]\n",
      "Load neibor_inds from disk\n",
      "Number of element in each class: [100, 100]\n"
     ]
    },
    {
     "name": "stderr",
     "output_type": "stream",
     "text": [
      "Collect Ref Grads: 1it [00:00,  3.93it/s]\n",
      "Tracing: 100%|██████████| 6/6 [00:04<00:00,  1.23it/s]\n"
     ]
    },
    {
     "name": "stdout",
     "output_type": "stream",
     "text": [
      "Load cache outputs/imdb/flip0_bert/122_2023-01-02_12-11-48/checkpoints/epoch=02_val_acc=0.8753.ckpt.cache\n"
     ]
    },
    {
     "name": "stderr",
     "output_type": "stream",
     "text": [
      "Loop KNN GD: 1000it [00:01, 536.56it/s]\n"
     ]
    },
    {
     "name": "stdout",
     "output_type": "stream",
     "text": [
      "outputs/imdb/flip0_bert/122_2023-01-02_12-11-48/checkpoints/epoch=06_val_acc=0.8720.ckpt\n",
      "{'token_type_ids': torch.Size([256, 128]), 'label': torch.Size([256]), 'input_ids': torch.Size([256, 128]), 'attention_mask': torch.Size([256, 128])}\n",
      "[torch.Size([256, 128]), torch.Size([256]), torch.Size([256, 128]), torch.Size([256, 128])]\n",
      "Load neibor_inds from disk\n",
      "Number of element in each class: [100, 100]\n"
     ]
    },
    {
     "name": "stderr",
     "output_type": "stream",
     "text": [
      "Collect Ref Grads: 1it [00:00,  4.21it/s]\n",
      "Tracing:   0%|          | 0/6 [00:00<?, ?it/s]"
     ]
    }
   ],
   "source": [
    "imdb_real_train_path = Path(\"outputs/imdb/flip0_bert/\")\n",
    "output_dirs = '''121_2023-01-02_12-11-48\n",
    "122_2023-01-02_12-11-48\n",
    "123_2023-01-02_12-11-48\n",
    "124_2023-01-02_12-12-57\n",
    "125_2023-01-02_12-12-57'''\n",
    "\n",
    "# best_ckpt_results = []\n",
    "# for run in output_dirs.split('\\n'):\n",
    "#     run = imdb_real_train_path / run\n",
    "#     ckpt_path = get_best_ckpt(run / \"checkpoints\")\n",
    "for ckpt_path in imdb_real_train_path.rglob(\"checkpoints/epoch=*.ckpt\"):\n",
    "    ckpt_path = str(ckpt_path)\n",
    "    print(ckpt_path)\n",
    "    result_df, all_scores = eval_ckpt(tokenizer,\n",
    "        lit_model,\n",
    "        ckpt_path,\n",
    "        use_denoised_data=True,\n",
    "        is_self_ref=False,\n",
    "        sel_sizes=sel_sizes,\n",
    "        colected_ks=colected_ks,\n",
    "        use_cache=True,\n",
    "        device=device)\n",
    "    result_df.to_csv(ckpt_path+\".csv\")\n",
    "    torch.save(all_scores, ckpt_path + \".scores\")"
   ]
  },
  {
   "cell_type": "code",
   "execution_count": null,
   "metadata": {},
   "outputs": [],
   "source": []
  }
 ],
 "metadata": {
  "interpreter": {
   "hash": "178be3a43525fa8f44392002b19606a8e29ff12ad8e80387bd739ebeb9eb01aa"
  },
  "kernelspec": {
   "display_name": "Python 3.8.10 ('.venv': venv)",
   "language": "python",
   "name": "python3"
  },
  "language_info": {
   "codemirror_mode": {
    "name": "ipython",
    "version": 3
   },
   "file_extension": ".py",
   "mimetype": "text/x-python",
   "name": "python",
   "nbconvert_exporter": "python",
   "pygments_lexer": "ipython3",
   "version": "3.8.10"
  },
  "orig_nbformat": 4
 },
 "nbformat": 4,
 "nbformat_minor": 2
}
