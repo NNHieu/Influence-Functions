{
 "cells": [
  {
   "cell_type": "code",
   "execution_count": 1,
   "metadata": {},
   "outputs": [],
   "source": [
    "%load_ext autoreload\n",
    "%autoreload 2"
   ]
  },
  {
   "cell_type": "markdown",
   "metadata": {},
   "source": [
    "# Setup Paths"
   ]
  },
  {
   "cell_type": "code",
   "execution_count": 2,
   "metadata": {},
   "outputs": [],
   "source": [
    "import os\n",
    "import pyrootutils\n",
    "root = pyrootutils.setup_root(\n",
    "    search_from='.',\n",
    "    indicator=[\".git\", \"pyproject.toml\"],\n",
    "    pythonpath=True,\n",
    "    dotenv=True,\n",
    ")\n",
    "hydra_cfg_path = root / \"text_classification_problems\" / \"configs\"\n",
    "os.chdir(root / \"text_classification_problems\")"
   ]
  },
  {
   "cell_type": "code",
   "execution_count": 3,
   "metadata": {},
   "outputs": [
    {
     "name": "stderr",
     "output_type": "stream",
     "text": [
      "/host/ThangND34/ErrorDetection/.venv/lib/python3.8/site-packages/tqdm/auto.py:22: TqdmWarning: IProgress not found. Please update jupyter and ipywidgets. See https://ipywidgets.readthedocs.io/en/stable/user_install.html\n",
      "  from .autonotebook import tqdm as notebook_tqdm\n"
     ]
    }
   ],
   "source": [
    "import hydra\n",
    "from hydra import compose, initialize\n",
    "\n",
    "from pathlib import Path\n",
    "import numpy as np\n",
    "import torch\n",
    "from core.grads import tree_to_device\n",
    "from core.tracer import KNN, KNNGD, KNNGN\n",
    "from sklearn.neighbors import KNeighborsClassifier\n",
    "from text_classification_problems.datamodule import TextClassifierDataModule\n",
    "from text_classification_problems.modelmodule import TextClassifierModel\n",
    "from transformers import AutoTokenizer\n",
    "from tqdm import tqdm\n",
    "\n",
    "import matplotlib.pyplot as plt"
   ]
  },
  {
   "cell_type": "markdown",
   "metadata": {},
   "source": [
    "# Config  "
   ]
  },
  {
   "cell_type": "code",
   "execution_count": 4,
   "metadata": {},
   "outputs": [],
   "source": [
    "'..' / hydra_cfg_path.relative_to(root)\n",
    "with initialize(version_base=None, config_path= '../configs'):\n",
    "    cfg = compose(config_name=\"tracing\", return_hydra_config=True, overrides=[\"datamodule=snli\", \"tracer=gd\"])"
   ]
  },
  {
   "cell_type": "code",
   "execution_count": 5,
   "metadata": {},
   "outputs": [],
   "source": [
    "device = 'cuda:1'"
   ]
  },
  {
   "cell_type": "markdown",
   "metadata": {},
   "source": [
    "# Load Data and Model"
   ]
  },
  {
   "cell_type": "code",
   "execution_count": 6,
   "metadata": {},
   "outputs": [],
   "source": [
    "from datamodule import TextClassifierDataModule"
   ]
  },
  {
   "cell_type": "code",
   "execution_count": 7,
   "metadata": {},
   "outputs": [],
   "source": [
    "checkpoint = torch.load(\"outputs/imdb/flip0.2_bert/121_2023-01-03_19-26-09/checkpoints/epoch=00_val_acc=0.8185.ckpt\", map_location=device)\n",
    "datamodule_hparams = checkpoint[\"datamodule_hyper_parameters\"] "
   ]
  },
  {
   "cell_type": "code",
   "execution_count": 8,
   "metadata": {},
   "outputs": [],
   "source": [
    "tokenizer = AutoTokenizer.from_pretrained(\"bert-base-uncased\", use_fast=True)\n",
    "dm = TextClassifierDataModule(\n",
    "    data_root=os.environ[\"PYTORCH_DATASET_ROOT\"],\n",
    "    tokenizer=tokenizer,\n",
    "    **datamodule_hparams,\n",
    "    use_denoised_data=True\n",
    ")\n",
    "dm.prepare_data()\n",
    "dm.setup(\"tracing\")"
   ]
  },
  {
   "cell_type": "code",
   "execution_count": 9,
   "metadata": {},
   "outputs": [
    {
     "name": "stderr",
     "output_type": "stream",
     "text": [
      "Some weights of the model checkpoint at bert-base-uncased were not used when initializing BertModel: ['cls.seq_relationship.weight', 'cls.predictions.transform.LayerNorm.weight', 'cls.predictions.transform.LayerNorm.bias', 'cls.predictions.transform.dense.bias', 'cls.predictions.decoder.weight', 'cls.predictions.bias', 'cls.predictions.transform.dense.weight', 'cls.seq_relationship.bias']\n",
      "- This IS expected if you are initializing BertModel from the checkpoint of a model trained on another task or with another architecture (e.g. initializing a BertForSequenceClassification model from a BertForPreTraining model).\n",
      "- This IS NOT expected if you are initializing BertModel from the checkpoint of a model that you expect to be exactly identical (initializing a BertForSequenceClassification model from a BertForSequenceClassification model).\n"
     ]
    }
   ],
   "source": [
    "net = hydra.utils.instantiate(cfg.net, num_classes=dm.num_classes)\n",
    "lit_model = TextClassifierModel(\n",
    "    net=net,\n",
    "    num_classes=dm.num_classes,\n",
    "    lr=1e-3,\n",
    ")\n",
    "lit_model.load_state_dict(checkpoint[\"state_dict\"])\n",
    "net = lit_model.net\n",
    "lit_model.eval()\n",
    "lit_model.to(device);"
   ]
  },
  {
   "cell_type": "code",
   "execution_count": 10,
   "metadata": {},
   "outputs": [],
   "source": [
    "# np.savez_compressed('outputs/train/imdb/knn.npz', neibor_inds.numpy())"
   ]
  },
  {
   "cell_type": "code",
   "execution_count": 11,
   "metadata": {},
   "outputs": [],
   "source": [
    "# neibor_inds = np.load('outputs/train/imdb/knn.npz')['arr_0']"
   ]
  },
  {
   "cell_type": "markdown",
   "metadata": {},
   "source": [
    "## Tracing"
   ]
  },
  {
   "cell_type": "code",
   "execution_count": 12,
   "metadata": {},
   "outputs": [],
   "source": [
    "from core.grads import RuntimeGradientExtractor\n",
    "from core.tracer import GradientNormalize as GN, GradientCosin as GC, GradientBasedTracer as GD\n",
    "import torch.nn.functional as F\n",
    "from text_classification_problems.run_tracing import register_BatchEncoding\n",
    "import pandas as pd\n",
    "from core.aggregation import aggregation\n",
    "from core.eval import eval\n",
    "from core.aggregation import cal_neibor_matrices"
   ]
  },
  {
   "cell_type": "code",
   "execution_count": 13,
   "metadata": {},
   "outputs": [],
   "source": [
    "register_BatchEncoding()"
   ]
  },
  {
   "cell_type": "markdown",
   "metadata": {},
   "source": [
    "## Comparation"
   ]
  },
  {
   "cell_type": "code",
   "execution_count": 14,
   "metadata": {},
   "outputs": [],
   "source": [
    "tokenizer = AutoTokenizer.from_pretrained(\"bert-base-uncased\", use_fast=True)\n",
    "def loss_fn(pred_fn, batch):\n",
    "    labels = batch[\"label\"]\n",
    "    preds = pred_fn(batch)\n",
    "    return F.cross_entropy(preds, labels)\n",
    "def eval_ckpt(ckpt):\n",
    "    ckpt = torch.load(ckpt, map_location=device)\n",
    "    datamodule_hparams = ckpt[\"datamodule_hyper_parameters\"] \n",
    "    datamodule_hparams[\"train_batch_size\"] = 256\n",
    "    \n",
    "    dm = TextClassifierDataModule(\n",
    "        data_root=os.environ[\"PYTORCH_DATASET_ROOT\"],\n",
    "        tokenizer=tokenizer,\n",
    "        **datamodule_hparams,\n",
    "        use_denoised_data=False\n",
    "    )\n",
    "    dm.prepare_data()\n",
    "    dm.setup(\"tracing\")\n",
    "\n",
    "    lit_model.load_state_dict(checkpoint[\"state_dict\"])\n",
    "    \n",
    "    grad_extractor = RuntimeGradientExtractor(\n",
    "        lit_model,\n",
    "        split_params=lambda params: (params[:-2], params[-2:]),\n",
    "        merge_params=lambda w1, w2: w1 + w2,\n",
    "        loss_fn=loss_fn,\n",
    "        input_sample=next(iter(dm.trace_dataloader())),\n",
    "    )\n",
    "    neibor_inds = cal_neibor_matrices(\n",
    "        lit_model,\n",
    "        ref_loader=dm.train_dataloader(shuffle=False),\n",
    "        trace_loader=dm.trace_dataloader(),\n",
    "        device=device,\n",
    "        k=1000,\n",
    "        is_self_ref=True\n",
    "    )\n",
    "    result_df = eval(\n",
    "        dm,\n",
    "        lit_model,\n",
    "        grad_extractor,\n",
    "        label_from_batch=lambda b: b[\"label\"],\n",
    "        neighbor_matrices=neibor_inds,\n",
    "        colected_ks=list(range(50, 1000, 10)),\n",
    "    )\n",
    "    return result_df"
   ]
  },
  {
   "cell_type": "code",
   "execution_count": 15,
   "metadata": {},
   "outputs": [
    {
     "name": "stdout",
     "output_type": "stream",
     "text": [
      "{'token_type_ids': torch.Size([256, 128]), 'label': torch.Size([256]), 'input_ids': torch.Size([256, 128]), 'attention_mask': torch.Size([256, 128])}\n",
      "[torch.Size([256, 128]), torch.Size([256]), torch.Size([256, 128]), torch.Size([256, 128])]\n"
     ]
    },
    {
     "name": "stderr",
     "output_type": "stream",
     "text": [
      "100%|██████████| 69/69 [00:59<00:00,  1.16it/s]\n",
      "100%|██████████| 69/69 [01:49<00:00,  1.59s/it]\n"
     ]
    },
    {
     "name": "stdout",
     "output_type": "stream",
     "text": [
      "Number of element in each class: [100, 100]\n"
     ]
    },
    {
     "name": "stderr",
     "output_type": "stream",
     "text": [
      "Collect Ref Grads: 2it [00:00,  3.21it/s]\n",
      "Tracing: 100%|██████████| 69/69 [01:00<00:00,  1.14it/s]\n",
      "Loop ref knn: 100%|██████████| 69/69 [01:01<00:00,  1.13it/s]\n",
      "Loop KNN GD: 100%|██████████| 1000/1000 [00:41<00:00, 24.31it/s]\n"
     ]
    }
   ],
   "source": [
    "result_df = eval_ckpt(\"outputs/imdb/flip0.2_bert/121_2023-01-03_19-26-09/checkpoints/epoch=01_val_acc=0.8348.ckpt\")"
   ]
  },
  {
   "cell_type": "code",
   "execution_count": 19,
   "metadata": {},
   "outputs": [
    {
     "data": {
      "text/html": [
       "<div>\n",
       "<style scoped>\n",
       "    .dataframe tbody tr th:only-of-type {\n",
       "        vertical-align: middle;\n",
       "    }\n",
       "\n",
       "    .dataframe tbody tr th {\n",
       "        vertical-align: top;\n",
       "    }\n",
       "\n",
       "    .dataframe thead th {\n",
       "        text-align: right;\n",
       "    }\n",
       "</style>\n",
       "<table border=\"1\" class=\"dataframe\">\n",
       "  <thead>\n",
       "    <tr style=\"text-align: right;\">\n",
       "      <th></th>\n",
       "      <th>method</th>\n",
       "      <th>top50</th>\n",
       "      <th>top100</th>\n",
       "      <th>top150</th>\n",
       "      <th>top200</th>\n",
       "      <th>top250</th>\n",
       "      <th>top300</th>\n",
       "      <th>top350</th>\n",
       "      <th>top400</th>\n",
       "      <th>top450</th>\n",
       "      <th>...</th>\n",
       "      <th>top850</th>\n",
       "      <th>top900</th>\n",
       "      <th>top950</th>\n",
       "      <th>top1000</th>\n",
       "      <th>top1050</th>\n",
       "      <th>top1100</th>\n",
       "      <th>top1150</th>\n",
       "      <th>top1200</th>\n",
       "      <th>top1250</th>\n",
       "      <th>top1300</th>\n",
       "    </tr>\n",
       "  </thead>\n",
       "  <tbody>\n",
       "    <tr>\n",
       "      <th>72</th>\n",
       "      <td>KNN_210</td>\n",
       "      <td>100.0</td>\n",
       "      <td>100.000000</td>\n",
       "      <td>99.333334</td>\n",
       "      <td>99.500000</td>\n",
       "      <td>99.199998</td>\n",
       "      <td>98.000002</td>\n",
       "      <td>97.714287</td>\n",
       "      <td>97.250003</td>\n",
       "      <td>97.333336</td>\n",
       "      <td>...</td>\n",
       "      <td>95.411766</td>\n",
       "      <td>94.666666</td>\n",
       "      <td>93.789476</td>\n",
       "      <td>93.300003</td>\n",
       "      <td>92.952383</td>\n",
       "      <td>92.454547</td>\n",
       "      <td>91.913044</td>\n",
       "      <td>91.916668</td>\n",
       "      <td>91.600001</td>\n",
       "      <td>91.384614</td>\n",
       "    </tr>\n",
       "    <tr>\n",
       "      <th>272</th>\n",
       "      <td>KNN_710</td>\n",
       "      <td>100.0</td>\n",
       "      <td>100.000000</td>\n",
       "      <td>98.666668</td>\n",
       "      <td>99.000001</td>\n",
       "      <td>99.199998</td>\n",
       "      <td>98.666668</td>\n",
       "      <td>97.714287</td>\n",
       "      <td>97.000003</td>\n",
       "      <td>96.888888</td>\n",
       "      <td>...</td>\n",
       "      <td>94.823527</td>\n",
       "      <td>94.555557</td>\n",
       "      <td>94.105262</td>\n",
       "      <td>93.400002</td>\n",
       "      <td>92.952383</td>\n",
       "      <td>92.636365</td>\n",
       "      <td>92.173910</td>\n",
       "      <td>92.083335</td>\n",
       "      <td>91.520000</td>\n",
       "      <td>91.153848</td>\n",
       "    </tr>\n",
       "    <tr>\n",
       "      <th>184</th>\n",
       "      <td>KNN_490</td>\n",
       "      <td>100.0</td>\n",
       "      <td>100.000000</td>\n",
       "      <td>99.333334</td>\n",
       "      <td>98.500001</td>\n",
       "      <td>98.799998</td>\n",
       "      <td>98.000002</td>\n",
       "      <td>97.714287</td>\n",
       "      <td>97.750002</td>\n",
       "      <td>96.666664</td>\n",
       "      <td>...</td>\n",
       "      <td>94.823527</td>\n",
       "      <td>94.666666</td>\n",
       "      <td>94.105262</td>\n",
       "      <td>93.699998</td>\n",
       "      <td>93.333334</td>\n",
       "      <td>93.000001</td>\n",
       "      <td>92.173910</td>\n",
       "      <td>91.916668</td>\n",
       "      <td>91.680002</td>\n",
       "      <td>91.538459</td>\n",
       "    </tr>\n",
       "    <tr>\n",
       "      <th>268</th>\n",
       "      <td>KNN_700</td>\n",
       "      <td>100.0</td>\n",
       "      <td>99.000001</td>\n",
       "      <td>99.333334</td>\n",
       "      <td>99.000001</td>\n",
       "      <td>99.199998</td>\n",
       "      <td>98.333335</td>\n",
       "      <td>98.000002</td>\n",
       "      <td>96.749997</td>\n",
       "      <td>96.888888</td>\n",
       "      <td>...</td>\n",
       "      <td>94.941175</td>\n",
       "      <td>94.555557</td>\n",
       "      <td>94.315791</td>\n",
       "      <td>93.199998</td>\n",
       "      <td>92.857140</td>\n",
       "      <td>92.363638</td>\n",
       "      <td>92.173910</td>\n",
       "      <td>91.916668</td>\n",
       "      <td>91.520000</td>\n",
       "      <td>91.153848</td>\n",
       "    </tr>\n",
       "    <tr>\n",
       "      <th>188</th>\n",
       "      <td>KNN_500</td>\n",
       "      <td>100.0</td>\n",
       "      <td>100.000000</td>\n",
       "      <td>98.666668</td>\n",
       "      <td>99.000001</td>\n",
       "      <td>98.799998</td>\n",
       "      <td>98.000002</td>\n",
       "      <td>98.000002</td>\n",
       "      <td>97.250003</td>\n",
       "      <td>96.666664</td>\n",
       "      <td>...</td>\n",
       "      <td>94.705880</td>\n",
       "      <td>94.666666</td>\n",
       "      <td>93.894738</td>\n",
       "      <td>93.699998</td>\n",
       "      <td>93.238097</td>\n",
       "      <td>92.818183</td>\n",
       "      <td>92.173910</td>\n",
       "      <td>91.916668</td>\n",
       "      <td>91.920000</td>\n",
       "      <td>91.461539</td>\n",
       "    </tr>\n",
       "    <tr>\n",
       "      <th>76</th>\n",
       "      <td>KNN_220</td>\n",
       "      <td>100.0</td>\n",
       "      <td>99.000001</td>\n",
       "      <td>99.333334</td>\n",
       "      <td>99.500000</td>\n",
       "      <td>98.799998</td>\n",
       "      <td>98.333335</td>\n",
       "      <td>97.714287</td>\n",
       "      <td>97.500002</td>\n",
       "      <td>96.888888</td>\n",
       "      <td>...</td>\n",
       "      <td>95.294118</td>\n",
       "      <td>94.444442</td>\n",
       "      <td>94.315791</td>\n",
       "      <td>93.900001</td>\n",
       "      <td>93.333334</td>\n",
       "      <td>92.636365</td>\n",
       "      <td>92.260867</td>\n",
       "      <td>91.833335</td>\n",
       "      <td>91.680002</td>\n",
       "      <td>91.461539</td>\n",
       "    </tr>\n",
       "    <tr>\n",
       "      <th>192</th>\n",
       "      <td>KNN_510</td>\n",
       "      <td>100.0</td>\n",
       "      <td>100.000000</td>\n",
       "      <td>100.000000</td>\n",
       "      <td>99.500000</td>\n",
       "      <td>98.799998</td>\n",
       "      <td>98.333335</td>\n",
       "      <td>97.714287</td>\n",
       "      <td>97.500002</td>\n",
       "      <td>97.111112</td>\n",
       "      <td>...</td>\n",
       "      <td>94.588238</td>\n",
       "      <td>94.222224</td>\n",
       "      <td>94.000000</td>\n",
       "      <td>93.500000</td>\n",
       "      <td>93.333334</td>\n",
       "      <td>92.727274</td>\n",
       "      <td>92.173910</td>\n",
       "      <td>92.083335</td>\n",
       "      <td>91.839999</td>\n",
       "      <td>91.769230</td>\n",
       "    </tr>\n",
       "    <tr>\n",
       "      <th>296</th>\n",
       "      <td>KNN_770</td>\n",
       "      <td>100.0</td>\n",
       "      <td>99.000001</td>\n",
       "      <td>98.666668</td>\n",
       "      <td>99.000001</td>\n",
       "      <td>98.799998</td>\n",
       "      <td>98.333335</td>\n",
       "      <td>98.000002</td>\n",
       "      <td>97.250003</td>\n",
       "      <td>97.111112</td>\n",
       "      <td>...</td>\n",
       "      <td>94.941175</td>\n",
       "      <td>94.333333</td>\n",
       "      <td>93.894738</td>\n",
       "      <td>93.300003</td>\n",
       "      <td>92.857140</td>\n",
       "      <td>92.636365</td>\n",
       "      <td>92.260867</td>\n",
       "      <td>91.583335</td>\n",
       "      <td>91.360003</td>\n",
       "      <td>91.076922</td>\n",
       "    </tr>\n",
       "    <tr>\n",
       "      <th>264</th>\n",
       "      <td>KNN_690</td>\n",
       "      <td>100.0</td>\n",
       "      <td>99.000001</td>\n",
       "      <td>98.666668</td>\n",
       "      <td>99.000001</td>\n",
       "      <td>99.199998</td>\n",
       "      <td>98.333335</td>\n",
       "      <td>98.000002</td>\n",
       "      <td>97.250003</td>\n",
       "      <td>96.888888</td>\n",
       "      <td>...</td>\n",
       "      <td>94.941175</td>\n",
       "      <td>94.777775</td>\n",
       "      <td>94.000000</td>\n",
       "      <td>93.400002</td>\n",
       "      <td>92.952383</td>\n",
       "      <td>92.363638</td>\n",
       "      <td>92.260867</td>\n",
       "      <td>91.833335</td>\n",
       "      <td>91.600001</td>\n",
       "      <td>91.307694</td>\n",
       "    </tr>\n",
       "    <tr>\n",
       "      <th>196</th>\n",
       "      <td>KNN_520</td>\n",
       "      <td>100.0</td>\n",
       "      <td>100.000000</td>\n",
       "      <td>100.000000</td>\n",
       "      <td>99.000001</td>\n",
       "      <td>99.199998</td>\n",
       "      <td>98.000002</td>\n",
       "      <td>97.714287</td>\n",
       "      <td>97.500002</td>\n",
       "      <td>96.888888</td>\n",
       "      <td>...</td>\n",
       "      <td>94.588238</td>\n",
       "      <td>94.000000</td>\n",
       "      <td>94.000000</td>\n",
       "      <td>93.699998</td>\n",
       "      <td>93.238097</td>\n",
       "      <td>92.909092</td>\n",
       "      <td>92.260867</td>\n",
       "      <td>91.916668</td>\n",
       "      <td>91.759998</td>\n",
       "      <td>91.615385</td>\n",
       "    </tr>\n",
       "    <tr>\n",
       "      <th>64</th>\n",
       "      <td>KNN_190</td>\n",
       "      <td>100.0</td>\n",
       "      <td>100.000000</td>\n",
       "      <td>98.666668</td>\n",
       "      <td>98.500001</td>\n",
       "      <td>98.799998</td>\n",
       "      <td>98.666668</td>\n",
       "      <td>97.714287</td>\n",
       "      <td>97.500002</td>\n",
       "      <td>96.666664</td>\n",
       "      <td>...</td>\n",
       "      <td>95.176470</td>\n",
       "      <td>94.000000</td>\n",
       "      <td>93.789476</td>\n",
       "      <td>93.500000</td>\n",
       "      <td>93.142855</td>\n",
       "      <td>92.909092</td>\n",
       "      <td>92.521739</td>\n",
       "      <td>92.166668</td>\n",
       "      <td>91.680002</td>\n",
       "      <td>91.000003</td>\n",
       "    </tr>\n",
       "    <tr>\n",
       "      <th>260</th>\n",
       "      <td>KNN_680</td>\n",
       "      <td>100.0</td>\n",
       "      <td>99.000001</td>\n",
       "      <td>99.333334</td>\n",
       "      <td>99.000001</td>\n",
       "      <td>99.199998</td>\n",
       "      <td>98.333335</td>\n",
       "      <td>98.000002</td>\n",
       "      <td>97.250003</td>\n",
       "      <td>96.888888</td>\n",
       "      <td>...</td>\n",
       "      <td>94.823527</td>\n",
       "      <td>94.777775</td>\n",
       "      <td>94.105262</td>\n",
       "      <td>93.699998</td>\n",
       "      <td>92.666668</td>\n",
       "      <td>92.272729</td>\n",
       "      <td>92.173910</td>\n",
       "      <td>91.916668</td>\n",
       "      <td>91.600001</td>\n",
       "      <td>91.230768</td>\n",
       "    </tr>\n",
       "    <tr>\n",
       "      <th>200</th>\n",
       "      <td>KNN_530</td>\n",
       "      <td>100.0</td>\n",
       "      <td>100.000000</td>\n",
       "      <td>100.000000</td>\n",
       "      <td>99.000001</td>\n",
       "      <td>98.799998</td>\n",
       "      <td>98.333335</td>\n",
       "      <td>97.714287</td>\n",
       "      <td>97.500002</td>\n",
       "      <td>97.111112</td>\n",
       "      <td>...</td>\n",
       "      <td>94.470590</td>\n",
       "      <td>94.111109</td>\n",
       "      <td>94.000000</td>\n",
       "      <td>93.699998</td>\n",
       "      <td>93.333334</td>\n",
       "      <td>93.090910</td>\n",
       "      <td>92.173910</td>\n",
       "      <td>91.916668</td>\n",
       "      <td>91.839999</td>\n",
       "      <td>91.769230</td>\n",
       "    </tr>\n",
       "    <tr>\n",
       "      <th>60</th>\n",
       "      <td>KNN_180</td>\n",
       "      <td>100.0</td>\n",
       "      <td>99.000001</td>\n",
       "      <td>99.333334</td>\n",
       "      <td>99.000001</td>\n",
       "      <td>98.799998</td>\n",
       "      <td>98.333335</td>\n",
       "      <td>97.714287</td>\n",
       "      <td>97.750002</td>\n",
       "      <td>97.333336</td>\n",
       "      <td>...</td>\n",
       "      <td>95.176470</td>\n",
       "      <td>94.777775</td>\n",
       "      <td>94.526315</td>\n",
       "      <td>93.699998</td>\n",
       "      <td>93.333334</td>\n",
       "      <td>92.727274</td>\n",
       "      <td>92.434782</td>\n",
       "      <td>92.166668</td>\n",
       "      <td>91.520000</td>\n",
       "      <td>91.076922</td>\n",
       "    </tr>\n",
       "    <tr>\n",
       "      <th>56</th>\n",
       "      <td>KNN_170</td>\n",
       "      <td>100.0</td>\n",
       "      <td>100.000000</td>\n",
       "      <td>100.000000</td>\n",
       "      <td>99.500000</td>\n",
       "      <td>99.199998</td>\n",
       "      <td>99.000001</td>\n",
       "      <td>98.000002</td>\n",
       "      <td>97.250003</td>\n",
       "      <td>96.888888</td>\n",
       "      <td>...</td>\n",
       "      <td>94.941175</td>\n",
       "      <td>94.777775</td>\n",
       "      <td>94.105262</td>\n",
       "      <td>93.900001</td>\n",
       "      <td>93.428570</td>\n",
       "      <td>93.181819</td>\n",
       "      <td>92.434782</td>\n",
       "      <td>92.083335</td>\n",
       "      <td>91.680002</td>\n",
       "      <td>91.230768</td>\n",
       "    </tr>\n",
       "    <tr>\n",
       "      <th>204</th>\n",
       "      <td>KNN_540</td>\n",
       "      <td>100.0</td>\n",
       "      <td>100.000000</td>\n",
       "      <td>99.333334</td>\n",
       "      <td>99.000001</td>\n",
       "      <td>99.199998</td>\n",
       "      <td>98.333335</td>\n",
       "      <td>97.714287</td>\n",
       "      <td>97.250003</td>\n",
       "      <td>97.333336</td>\n",
       "      <td>...</td>\n",
       "      <td>94.117647</td>\n",
       "      <td>94.222224</td>\n",
       "      <td>93.894738</td>\n",
       "      <td>93.400002</td>\n",
       "      <td>93.142855</td>\n",
       "      <td>92.818183</td>\n",
       "      <td>92.000002</td>\n",
       "      <td>91.833335</td>\n",
       "      <td>91.600001</td>\n",
       "      <td>91.461539</td>\n",
       "    </tr>\n",
       "    <tr>\n",
       "      <th>52</th>\n",
       "      <td>KNN_160</td>\n",
       "      <td>100.0</td>\n",
       "      <td>100.000000</td>\n",
       "      <td>99.333334</td>\n",
       "      <td>99.500000</td>\n",
       "      <td>99.599999</td>\n",
       "      <td>99.000001</td>\n",
       "      <td>98.571426</td>\n",
       "      <td>97.500002</td>\n",
       "      <td>97.333336</td>\n",
       "      <td>...</td>\n",
       "      <td>94.941175</td>\n",
       "      <td>94.444442</td>\n",
       "      <td>94.000000</td>\n",
       "      <td>93.599999</td>\n",
       "      <td>93.333334</td>\n",
       "      <td>92.545456</td>\n",
       "      <td>92.086959</td>\n",
       "      <td>91.833335</td>\n",
       "      <td>91.119999</td>\n",
       "      <td>91.076922</td>\n",
       "    </tr>\n",
       "    <tr>\n",
       "      <th>256</th>\n",
       "      <td>KNN_670</td>\n",
       "      <td>100.0</td>\n",
       "      <td>99.000001</td>\n",
       "      <td>98.666668</td>\n",
       "      <td>99.000001</td>\n",
       "      <td>99.199998</td>\n",
       "      <td>98.333335</td>\n",
       "      <td>98.000002</td>\n",
       "      <td>97.250003</td>\n",
       "      <td>96.888888</td>\n",
       "      <td>...</td>\n",
       "      <td>95.058823</td>\n",
       "      <td>94.666666</td>\n",
       "      <td>94.421053</td>\n",
       "      <td>93.500000</td>\n",
       "      <td>92.952383</td>\n",
       "      <td>92.545456</td>\n",
       "      <td>92.260867</td>\n",
       "      <td>92.000002</td>\n",
       "      <td>91.600001</td>\n",
       "      <td>91.384614</td>\n",
       "    </tr>\n",
       "    <tr>\n",
       "      <th>208</th>\n",
       "      <td>KNN_550</td>\n",
       "      <td>100.0</td>\n",
       "      <td>100.000000</td>\n",
       "      <td>100.000000</td>\n",
       "      <td>99.000001</td>\n",
       "      <td>99.199998</td>\n",
       "      <td>98.000002</td>\n",
       "      <td>97.714287</td>\n",
       "      <td>97.000003</td>\n",
       "      <td>97.111112</td>\n",
       "      <td>...</td>\n",
       "      <td>94.470590</td>\n",
       "      <td>94.444442</td>\n",
       "      <td>93.894738</td>\n",
       "      <td>93.699998</td>\n",
       "      <td>93.238097</td>\n",
       "      <td>92.909092</td>\n",
       "      <td>92.347825</td>\n",
       "      <td>92.000002</td>\n",
       "      <td>91.520000</td>\n",
       "      <td>91.461539</td>\n",
       "    </tr>\n",
       "    <tr>\n",
       "      <th>180</th>\n",
       "      <td>KNN_480</td>\n",
       "      <td>100.0</td>\n",
       "      <td>100.000000</td>\n",
       "      <td>99.333334</td>\n",
       "      <td>99.000001</td>\n",
       "      <td>98.400003</td>\n",
       "      <td>98.000002</td>\n",
       "      <td>98.000002</td>\n",
       "      <td>97.250003</td>\n",
       "      <td>96.888888</td>\n",
       "      <td>...</td>\n",
       "      <td>94.705880</td>\n",
       "      <td>94.777775</td>\n",
       "      <td>94.210523</td>\n",
       "      <td>93.800002</td>\n",
       "      <td>93.428570</td>\n",
       "      <td>92.636365</td>\n",
       "      <td>92.608696</td>\n",
       "      <td>91.916668</td>\n",
       "      <td>91.920000</td>\n",
       "      <td>91.769230</td>\n",
       "    </tr>\n",
       "  </tbody>\n",
       "</table>\n",
       "<p>20 rows × 27 columns</p>\n",
       "</div>"
      ],
      "text/plain": [
       "      method  top50      top100      top150     top200     top250     top300  \\\n",
       "72   KNN_210  100.0  100.000000   99.333334  99.500000  99.199998  98.000002   \n",
       "272  KNN_710  100.0  100.000000   98.666668  99.000001  99.199998  98.666668   \n",
       "184  KNN_490  100.0  100.000000   99.333334  98.500001  98.799998  98.000002   \n",
       "268  KNN_700  100.0   99.000001   99.333334  99.000001  99.199998  98.333335   \n",
       "188  KNN_500  100.0  100.000000   98.666668  99.000001  98.799998  98.000002   \n",
       "76   KNN_220  100.0   99.000001   99.333334  99.500000  98.799998  98.333335   \n",
       "192  KNN_510  100.0  100.000000  100.000000  99.500000  98.799998  98.333335   \n",
       "296  KNN_770  100.0   99.000001   98.666668  99.000001  98.799998  98.333335   \n",
       "264  KNN_690  100.0   99.000001   98.666668  99.000001  99.199998  98.333335   \n",
       "196  KNN_520  100.0  100.000000  100.000000  99.000001  99.199998  98.000002   \n",
       "64   KNN_190  100.0  100.000000   98.666668  98.500001  98.799998  98.666668   \n",
       "260  KNN_680  100.0   99.000001   99.333334  99.000001  99.199998  98.333335   \n",
       "200  KNN_530  100.0  100.000000  100.000000  99.000001  98.799998  98.333335   \n",
       "60   KNN_180  100.0   99.000001   99.333334  99.000001  98.799998  98.333335   \n",
       "56   KNN_170  100.0  100.000000  100.000000  99.500000  99.199998  99.000001   \n",
       "204  KNN_540  100.0  100.000000   99.333334  99.000001  99.199998  98.333335   \n",
       "52   KNN_160  100.0  100.000000   99.333334  99.500000  99.599999  99.000001   \n",
       "256  KNN_670  100.0   99.000001   98.666668  99.000001  99.199998  98.333335   \n",
       "208  KNN_550  100.0  100.000000  100.000000  99.000001  99.199998  98.000002   \n",
       "180  KNN_480  100.0  100.000000   99.333334  99.000001  98.400003  98.000002   \n",
       "\n",
       "        top350     top400     top450  ...     top850     top900     top950  \\\n",
       "72   97.714287  97.250003  97.333336  ...  95.411766  94.666666  93.789476   \n",
       "272  97.714287  97.000003  96.888888  ...  94.823527  94.555557  94.105262   \n",
       "184  97.714287  97.750002  96.666664  ...  94.823527  94.666666  94.105262   \n",
       "268  98.000002  96.749997  96.888888  ...  94.941175  94.555557  94.315791   \n",
       "188  98.000002  97.250003  96.666664  ...  94.705880  94.666666  93.894738   \n",
       "76   97.714287  97.500002  96.888888  ...  95.294118  94.444442  94.315791   \n",
       "192  97.714287  97.500002  97.111112  ...  94.588238  94.222224  94.000000   \n",
       "296  98.000002  97.250003  97.111112  ...  94.941175  94.333333  93.894738   \n",
       "264  98.000002  97.250003  96.888888  ...  94.941175  94.777775  94.000000   \n",
       "196  97.714287  97.500002  96.888888  ...  94.588238  94.000000  94.000000   \n",
       "64   97.714287  97.500002  96.666664  ...  95.176470  94.000000  93.789476   \n",
       "260  98.000002  97.250003  96.888888  ...  94.823527  94.777775  94.105262   \n",
       "200  97.714287  97.500002  97.111112  ...  94.470590  94.111109  94.000000   \n",
       "60   97.714287  97.750002  97.333336  ...  95.176470  94.777775  94.526315   \n",
       "56   98.000002  97.250003  96.888888  ...  94.941175  94.777775  94.105262   \n",
       "204  97.714287  97.250003  97.333336  ...  94.117647  94.222224  93.894738   \n",
       "52   98.571426  97.500002  97.333336  ...  94.941175  94.444442  94.000000   \n",
       "256  98.000002  97.250003  96.888888  ...  95.058823  94.666666  94.421053   \n",
       "208  97.714287  97.000003  97.111112  ...  94.470590  94.444442  93.894738   \n",
       "180  98.000002  97.250003  96.888888  ...  94.705880  94.777775  94.210523   \n",
       "\n",
       "       top1000    top1050    top1100    top1150    top1200    top1250  \\\n",
       "72   93.300003  92.952383  92.454547  91.913044  91.916668  91.600001   \n",
       "272  93.400002  92.952383  92.636365  92.173910  92.083335  91.520000   \n",
       "184  93.699998  93.333334  93.000001  92.173910  91.916668  91.680002   \n",
       "268  93.199998  92.857140  92.363638  92.173910  91.916668  91.520000   \n",
       "188  93.699998  93.238097  92.818183  92.173910  91.916668  91.920000   \n",
       "76   93.900001  93.333334  92.636365  92.260867  91.833335  91.680002   \n",
       "192  93.500000  93.333334  92.727274  92.173910  92.083335  91.839999   \n",
       "296  93.300003  92.857140  92.636365  92.260867  91.583335  91.360003   \n",
       "264  93.400002  92.952383  92.363638  92.260867  91.833335  91.600001   \n",
       "196  93.699998  93.238097  92.909092  92.260867  91.916668  91.759998   \n",
       "64   93.500000  93.142855  92.909092  92.521739  92.166668  91.680002   \n",
       "260  93.699998  92.666668  92.272729  92.173910  91.916668  91.600001   \n",
       "200  93.699998  93.333334  93.090910  92.173910  91.916668  91.839999   \n",
       "60   93.699998  93.333334  92.727274  92.434782  92.166668  91.520000   \n",
       "56   93.900001  93.428570  93.181819  92.434782  92.083335  91.680002   \n",
       "204  93.400002  93.142855  92.818183  92.000002  91.833335  91.600001   \n",
       "52   93.599999  93.333334  92.545456  92.086959  91.833335  91.119999   \n",
       "256  93.500000  92.952383  92.545456  92.260867  92.000002  91.600001   \n",
       "208  93.699998  93.238097  92.909092  92.347825  92.000002  91.520000   \n",
       "180  93.800002  93.428570  92.636365  92.608696  91.916668  91.920000   \n",
       "\n",
       "       top1300  \n",
       "72   91.384614  \n",
       "272  91.153848  \n",
       "184  91.538459  \n",
       "268  91.153848  \n",
       "188  91.461539  \n",
       "76   91.461539  \n",
       "192  91.769230  \n",
       "296  91.076922  \n",
       "264  91.307694  \n",
       "196  91.615385  \n",
       "64   91.000003  \n",
       "260  91.230768  \n",
       "200  91.769230  \n",
       "60   91.076922  \n",
       "56   91.230768  \n",
       "204  91.461539  \n",
       "52   91.076922  \n",
       "256  91.384614  \n",
       "208  91.461539  \n",
       "180  91.769230  \n",
       "\n",
       "[20 rows x 27 columns]"
      ]
     },
     "execution_count": 19,
     "metadata": {},
     "output_type": "execute_result"
    }
   ],
   "source": [
    "result_df.sort_values(by=\"top50\", ascending=False).head(20)"
   ]
  },
  {
   "cell_type": "code",
   "execution_count": 69,
   "metadata": {},
   "outputs": [
    {
     "data": {
      "text/html": [
       "<div>\n",
       "<style scoped>\n",
       "    .dataframe tbody tr th:only-of-type {\n",
       "        vertical-align: middle;\n",
       "    }\n",
       "\n",
       "    .dataframe tbody tr th {\n",
       "        vertical-align: top;\n",
       "    }\n",
       "\n",
       "    .dataframe thead th {\n",
       "        text-align: right;\n",
       "    }\n",
       "</style>\n",
       "<table border=\"1\" class=\"dataframe\">\n",
       "  <thead>\n",
       "    <tr style=\"text-align: right;\">\n",
       "      <th></th>\n",
       "      <th>method</th>\n",
       "      <th>top50</th>\n",
       "      <th>top100</th>\n",
       "      <th>top150</th>\n",
       "      <th>top200</th>\n",
       "      <th>top250</th>\n",
       "      <th>top300</th>\n",
       "      <th>top350</th>\n",
       "      <th>top400</th>\n",
       "      <th>top450</th>\n",
       "      <th>...</th>\n",
       "      <th>top850</th>\n",
       "      <th>top900</th>\n",
       "      <th>top950</th>\n",
       "      <th>top1000</th>\n",
       "      <th>top1050</th>\n",
       "      <th>top1100</th>\n",
       "      <th>top1150</th>\n",
       "      <th>top1200</th>\n",
       "      <th>top1250</th>\n",
       "      <th>top1300</th>\n",
       "    </tr>\n",
       "  </thead>\n",
       "  <tbody>\n",
       "    <tr>\n",
       "      <th>152</th>\n",
       "      <td>KNN_410</td>\n",
       "      <td>89.999998</td>\n",
       "      <td>87.000000</td>\n",
       "      <td>83.333331</td>\n",
       "      <td>81.500000</td>\n",
       "      <td>80.800003</td>\n",
       "      <td>78.333336</td>\n",
       "      <td>75.999999</td>\n",
       "      <td>74.500000</td>\n",
       "      <td>74.222225</td>\n",
       "      <td>...</td>\n",
       "      <td>65.647060</td>\n",
       "      <td>65.111113</td>\n",
       "      <td>64.105260</td>\n",
       "      <td>63.200003</td>\n",
       "      <td>62.285715</td>\n",
       "      <td>61.272728</td>\n",
       "      <td>60.173911</td>\n",
       "      <td>58.583331</td>\n",
       "      <td>57.279998</td>\n",
       "      <td>55.692309</td>\n",
       "    </tr>\n",
       "    <tr>\n",
       "      <th>252</th>\n",
       "      <td>KNN_660</td>\n",
       "      <td>88.000000</td>\n",
       "      <td>87.000000</td>\n",
       "      <td>83.333331</td>\n",
       "      <td>80.500001</td>\n",
       "      <td>80.000001</td>\n",
       "      <td>77.666664</td>\n",
       "      <td>75.714284</td>\n",
       "      <td>74.500000</td>\n",
       "      <td>74.222225</td>\n",
       "      <td>...</td>\n",
       "      <td>65.647060</td>\n",
       "      <td>65.444446</td>\n",
       "      <td>64.210528</td>\n",
       "      <td>63.000000</td>\n",
       "      <td>62.285715</td>\n",
       "      <td>61.181819</td>\n",
       "      <td>60.000002</td>\n",
       "      <td>58.666664</td>\n",
       "      <td>57.120001</td>\n",
       "      <td>55.615383</td>\n",
       "    </tr>\n",
       "    <tr>\n",
       "      <th>44</th>\n",
       "      <td>KNN_140</td>\n",
       "      <td>83.999997</td>\n",
       "      <td>87.000000</td>\n",
       "      <td>83.333331</td>\n",
       "      <td>81.999999</td>\n",
       "      <td>80.800003</td>\n",
       "      <td>77.666664</td>\n",
       "      <td>75.999999</td>\n",
       "      <td>74.500000</td>\n",
       "      <td>73.777777</td>\n",
       "      <td>...</td>\n",
       "      <td>65.529412</td>\n",
       "      <td>64.666665</td>\n",
       "      <td>63.789475</td>\n",
       "      <td>63.099998</td>\n",
       "      <td>62.476188</td>\n",
       "      <td>61.363637</td>\n",
       "      <td>59.913045</td>\n",
       "      <td>58.666664</td>\n",
       "      <td>56.879997</td>\n",
       "      <td>55.692309</td>\n",
       "    </tr>\n",
       "    <tr>\n",
       "      <th>4</th>\n",
       "      <td>SA_GN</td>\n",
       "      <td>83.999997</td>\n",
       "      <td>87.000000</td>\n",
       "      <td>82.666665</td>\n",
       "      <td>82.499999</td>\n",
       "      <td>79.200000</td>\n",
       "      <td>75.666666</td>\n",
       "      <td>75.428569</td>\n",
       "      <td>75.000000</td>\n",
       "      <td>73.333335</td>\n",
       "      <td>...</td>\n",
       "      <td>55.764705</td>\n",
       "      <td>55.222225</td>\n",
       "      <td>55.368423</td>\n",
       "      <td>54.799998</td>\n",
       "      <td>54.571426</td>\n",
       "      <td>54.727274</td>\n",
       "      <td>54.608697</td>\n",
       "      <td>54.916668</td>\n",
       "      <td>55.199999</td>\n",
       "      <td>55.230767</td>\n",
       "    </tr>\n",
       "    <tr>\n",
       "      <th>5</th>\n",
       "      <td>SC_GN</td>\n",
       "      <td>83.999997</td>\n",
       "      <td>87.000000</td>\n",
       "      <td>84.666669</td>\n",
       "      <td>81.999999</td>\n",
       "      <td>79.600000</td>\n",
       "      <td>77.333331</td>\n",
       "      <td>74.571431</td>\n",
       "      <td>75.500000</td>\n",
       "      <td>72.666669</td>\n",
       "      <td>...</td>\n",
       "      <td>65.764707</td>\n",
       "      <td>65.222222</td>\n",
       "      <td>64.631581</td>\n",
       "      <td>63.700002</td>\n",
       "      <td>62.666667</td>\n",
       "      <td>61.181819</td>\n",
       "      <td>59.913045</td>\n",
       "      <td>58.666664</td>\n",
       "      <td>57.359999</td>\n",
       "      <td>55.692309</td>\n",
       "    </tr>\n",
       "    <tr>\n",
       "      <th>276</th>\n",
       "      <td>KNN_720</td>\n",
       "      <td>88.000000</td>\n",
       "      <td>87.000000</td>\n",
       "      <td>83.333331</td>\n",
       "      <td>80.500001</td>\n",
       "      <td>80.400002</td>\n",
       "      <td>77.666664</td>\n",
       "      <td>75.999999</td>\n",
       "      <td>74.750000</td>\n",
       "      <td>74.000001</td>\n",
       "      <td>...</td>\n",
       "      <td>65.411764</td>\n",
       "      <td>65.111113</td>\n",
       "      <td>63.999999</td>\n",
       "      <td>63.200003</td>\n",
       "      <td>62.190479</td>\n",
       "      <td>61.181819</td>\n",
       "      <td>59.826088</td>\n",
       "      <td>58.666664</td>\n",
       "      <td>57.200003</td>\n",
       "      <td>55.692309</td>\n",
       "    </tr>\n",
       "    <tr>\n",
       "      <th>280</th>\n",
       "      <td>KNN_730</td>\n",
       "      <td>88.000000</td>\n",
       "      <td>87.000000</td>\n",
       "      <td>83.999997</td>\n",
       "      <td>80.000001</td>\n",
       "      <td>80.400002</td>\n",
       "      <td>77.666664</td>\n",
       "      <td>75.999999</td>\n",
       "      <td>74.750000</td>\n",
       "      <td>74.000001</td>\n",
       "      <td>...</td>\n",
       "      <td>65.529412</td>\n",
       "      <td>65.222222</td>\n",
       "      <td>64.105260</td>\n",
       "      <td>63.099998</td>\n",
       "      <td>62.095237</td>\n",
       "      <td>61.181819</td>\n",
       "      <td>59.913045</td>\n",
       "      <td>58.749998</td>\n",
       "      <td>57.200003</td>\n",
       "      <td>55.538464</td>\n",
       "    </tr>\n",
       "    <tr>\n",
       "      <th>272</th>\n",
       "      <td>KNN_710</td>\n",
       "      <td>88.000000</td>\n",
       "      <td>86.000001</td>\n",
       "      <td>83.333331</td>\n",
       "      <td>80.000001</td>\n",
       "      <td>80.000001</td>\n",
       "      <td>77.999997</td>\n",
       "      <td>75.999999</td>\n",
       "      <td>74.500000</td>\n",
       "      <td>74.222225</td>\n",
       "      <td>...</td>\n",
       "      <td>65.411764</td>\n",
       "      <td>65.222222</td>\n",
       "      <td>63.999999</td>\n",
       "      <td>63.200003</td>\n",
       "      <td>62.190479</td>\n",
       "      <td>61.363637</td>\n",
       "      <td>59.913045</td>\n",
       "      <td>58.666664</td>\n",
       "      <td>57.200003</td>\n",
       "      <td>55.538464</td>\n",
       "    </tr>\n",
       "    <tr>\n",
       "      <th>72</th>\n",
       "      <td>KNN_210</td>\n",
       "      <td>88.000000</td>\n",
       "      <td>86.000001</td>\n",
       "      <td>81.333333</td>\n",
       "      <td>82.499999</td>\n",
       "      <td>80.400002</td>\n",
       "      <td>77.999997</td>\n",
       "      <td>75.714284</td>\n",
       "      <td>74.750000</td>\n",
       "      <td>74.222225</td>\n",
       "      <td>...</td>\n",
       "      <td>66.000003</td>\n",
       "      <td>64.888889</td>\n",
       "      <td>63.578945</td>\n",
       "      <td>63.200003</td>\n",
       "      <td>62.190479</td>\n",
       "      <td>61.272728</td>\n",
       "      <td>60.260868</td>\n",
       "      <td>58.916664</td>\n",
       "      <td>57.120001</td>\n",
       "      <td>55.538464</td>\n",
       "    </tr>\n",
       "    <tr>\n",
       "      <th>68</th>\n",
       "      <td>KNN_200</td>\n",
       "      <td>86.000001</td>\n",
       "      <td>86.000001</td>\n",
       "      <td>82.666665</td>\n",
       "      <td>81.999999</td>\n",
       "      <td>80.800003</td>\n",
       "      <td>78.333336</td>\n",
       "      <td>75.714284</td>\n",
       "      <td>74.250001</td>\n",
       "      <td>74.222225</td>\n",
       "      <td>...</td>\n",
       "      <td>66.000003</td>\n",
       "      <td>64.777780</td>\n",
       "      <td>63.789475</td>\n",
       "      <td>63.099998</td>\n",
       "      <td>62.190479</td>\n",
       "      <td>61.090910</td>\n",
       "      <td>60.173911</td>\n",
       "      <td>58.666664</td>\n",
       "      <td>57.200003</td>\n",
       "      <td>55.769229</td>\n",
       "    </tr>\n",
       "    <tr>\n",
       "      <th>64</th>\n",
       "      <td>KNN_190</td>\n",
       "      <td>86.000001</td>\n",
       "      <td>86.000001</td>\n",
       "      <td>82.666665</td>\n",
       "      <td>81.999999</td>\n",
       "      <td>81.199998</td>\n",
       "      <td>78.333336</td>\n",
       "      <td>75.714284</td>\n",
       "      <td>74.000001</td>\n",
       "      <td>74.222225</td>\n",
       "      <td>...</td>\n",
       "      <td>65.882355</td>\n",
       "      <td>64.999998</td>\n",
       "      <td>63.894737</td>\n",
       "      <td>63.200003</td>\n",
       "      <td>62.476188</td>\n",
       "      <td>61.363637</td>\n",
       "      <td>60.434783</td>\n",
       "      <td>58.999997</td>\n",
       "      <td>57.200003</td>\n",
       "      <td>55.615383</td>\n",
       "    </tr>\n",
       "    <tr>\n",
       "      <th>288</th>\n",
       "      <td>KNN_750</td>\n",
       "      <td>88.000000</td>\n",
       "      <td>86.000001</td>\n",
       "      <td>83.333331</td>\n",
       "      <td>80.500001</td>\n",
       "      <td>80.400002</td>\n",
       "      <td>77.666664</td>\n",
       "      <td>75.999999</td>\n",
       "      <td>74.750000</td>\n",
       "      <td>74.000001</td>\n",
       "      <td>...</td>\n",
       "      <td>65.529412</td>\n",
       "      <td>65.222222</td>\n",
       "      <td>64.105260</td>\n",
       "      <td>63.200003</td>\n",
       "      <td>62.285715</td>\n",
       "      <td>61.363637</td>\n",
       "      <td>60.086954</td>\n",
       "      <td>58.666664</td>\n",
       "      <td>57.200003</td>\n",
       "      <td>55.615383</td>\n",
       "    </tr>\n",
       "    <tr>\n",
       "      <th>0</th>\n",
       "      <td>LossValue</td>\n",
       "      <td>88.000000</td>\n",
       "      <td>86.000001</td>\n",
       "      <td>83.999997</td>\n",
       "      <td>83.999997</td>\n",
       "      <td>79.600000</td>\n",
       "      <td>76.999998</td>\n",
       "      <td>76.285714</td>\n",
       "      <td>75.250000</td>\n",
       "      <td>73.111111</td>\n",
       "      <td>...</td>\n",
       "      <td>65.764707</td>\n",
       "      <td>65.111113</td>\n",
       "      <td>64.736843</td>\n",
       "      <td>63.499999</td>\n",
       "      <td>62.476188</td>\n",
       "      <td>61.272728</td>\n",
       "      <td>59.913045</td>\n",
       "      <td>58.749998</td>\n",
       "      <td>57.359999</td>\n",
       "      <td>55.692309</td>\n",
       "    </tr>\n",
       "    <tr>\n",
       "      <th>176</th>\n",
       "      <td>KNN_470</td>\n",
       "      <td>89.999998</td>\n",
       "      <td>86.000001</td>\n",
       "      <td>83.333331</td>\n",
       "      <td>81.500000</td>\n",
       "      <td>80.000001</td>\n",
       "      <td>77.999997</td>\n",
       "      <td>75.999999</td>\n",
       "      <td>74.750000</td>\n",
       "      <td>74.000001</td>\n",
       "      <td>...</td>\n",
       "      <td>65.529412</td>\n",
       "      <td>65.111113</td>\n",
       "      <td>64.210528</td>\n",
       "      <td>63.200003</td>\n",
       "      <td>62.476188</td>\n",
       "      <td>61.272728</td>\n",
       "      <td>60.000002</td>\n",
       "      <td>58.583331</td>\n",
       "      <td>57.200003</td>\n",
       "      <td>55.615383</td>\n",
       "    </tr>\n",
       "    <tr>\n",
       "      <th>76</th>\n",
       "      <td>KNN_220</td>\n",
       "      <td>88.000000</td>\n",
       "      <td>86.000001</td>\n",
       "      <td>82.666665</td>\n",
       "      <td>81.500000</td>\n",
       "      <td>81.199998</td>\n",
       "      <td>77.666664</td>\n",
       "      <td>75.714284</td>\n",
       "      <td>74.750000</td>\n",
       "      <td>74.000001</td>\n",
       "      <td>...</td>\n",
       "      <td>66.117644</td>\n",
       "      <td>65.111113</td>\n",
       "      <td>63.789475</td>\n",
       "      <td>63.300002</td>\n",
       "      <td>62.380952</td>\n",
       "      <td>61.363637</td>\n",
       "      <td>60.000002</td>\n",
       "      <td>58.749998</td>\n",
       "      <td>57.359999</td>\n",
       "      <td>55.692309</td>\n",
       "    </tr>\n",
       "    <tr>\n",
       "      <th>296</th>\n",
       "      <td>KNN_770</td>\n",
       "      <td>88.000000</td>\n",
       "      <td>86.000001</td>\n",
       "      <td>83.999997</td>\n",
       "      <td>81.000000</td>\n",
       "      <td>80.400002</td>\n",
       "      <td>77.666664</td>\n",
       "      <td>75.999999</td>\n",
       "      <td>74.500000</td>\n",
       "      <td>74.000001</td>\n",
       "      <td>...</td>\n",
       "      <td>65.647060</td>\n",
       "      <td>65.222222</td>\n",
       "      <td>64.105260</td>\n",
       "      <td>63.200003</td>\n",
       "      <td>62.285715</td>\n",
       "      <td>61.090910</td>\n",
       "      <td>60.086954</td>\n",
       "      <td>58.749998</td>\n",
       "      <td>57.120001</td>\n",
       "      <td>55.538464</td>\n",
       "    </tr>\n",
       "    <tr>\n",
       "      <th>304</th>\n",
       "      <td>KNN_790</td>\n",
       "      <td>86.000001</td>\n",
       "      <td>86.000001</td>\n",
       "      <td>83.999997</td>\n",
       "      <td>80.500001</td>\n",
       "      <td>80.400002</td>\n",
       "      <td>77.666664</td>\n",
       "      <td>75.999999</td>\n",
       "      <td>74.750000</td>\n",
       "      <td>74.000001</td>\n",
       "      <td>...</td>\n",
       "      <td>65.529412</td>\n",
       "      <td>65.222222</td>\n",
       "      <td>64.210528</td>\n",
       "      <td>63.099998</td>\n",
       "      <td>62.285715</td>\n",
       "      <td>61.181819</td>\n",
       "      <td>60.086954</td>\n",
       "      <td>58.749998</td>\n",
       "      <td>57.200003</td>\n",
       "      <td>55.538464</td>\n",
       "    </tr>\n",
       "    <tr>\n",
       "      <th>48</th>\n",
       "      <td>KNN_150</td>\n",
       "      <td>83.999997</td>\n",
       "      <td>86.000001</td>\n",
       "      <td>83.999997</td>\n",
       "      <td>82.499999</td>\n",
       "      <td>80.800003</td>\n",
       "      <td>77.999997</td>\n",
       "      <td>75.999999</td>\n",
       "      <td>74.500000</td>\n",
       "      <td>74.000001</td>\n",
       "      <td>...</td>\n",
       "      <td>65.764707</td>\n",
       "      <td>64.777780</td>\n",
       "      <td>63.999999</td>\n",
       "      <td>63.200003</td>\n",
       "      <td>62.476188</td>\n",
       "      <td>61.454546</td>\n",
       "      <td>60.173911</td>\n",
       "      <td>58.666664</td>\n",
       "      <td>57.120001</td>\n",
       "      <td>55.461538</td>\n",
       "    </tr>\n",
       "    <tr>\n",
       "      <th>308</th>\n",
       "      <td>KNN_800</td>\n",
       "      <td>88.000000</td>\n",
       "      <td>86.000001</td>\n",
       "      <td>83.999997</td>\n",
       "      <td>80.000001</td>\n",
       "      <td>80.400002</td>\n",
       "      <td>77.666664</td>\n",
       "      <td>75.999999</td>\n",
       "      <td>75.000000</td>\n",
       "      <td>74.000001</td>\n",
       "      <td>...</td>\n",
       "      <td>65.529412</td>\n",
       "      <td>65.444446</td>\n",
       "      <td>64.210528</td>\n",
       "      <td>63.200003</td>\n",
       "      <td>62.190479</td>\n",
       "      <td>61.000001</td>\n",
       "      <td>60.173911</td>\n",
       "      <td>58.833331</td>\n",
       "      <td>57.279998</td>\n",
       "      <td>55.615383</td>\n",
       "    </tr>\n",
       "    <tr>\n",
       "      <th>172</th>\n",
       "      <td>KNN_460</td>\n",
       "      <td>89.999998</td>\n",
       "      <td>86.000001</td>\n",
       "      <td>82.666665</td>\n",
       "      <td>81.500000</td>\n",
       "      <td>80.000001</td>\n",
       "      <td>77.999997</td>\n",
       "      <td>75.714284</td>\n",
       "      <td>75.000000</td>\n",
       "      <td>74.000001</td>\n",
       "      <td>...</td>\n",
       "      <td>65.529412</td>\n",
       "      <td>65.222222</td>\n",
       "      <td>64.210528</td>\n",
       "      <td>63.200003</td>\n",
       "      <td>62.476188</td>\n",
       "      <td>61.181819</td>\n",
       "      <td>60.000002</td>\n",
       "      <td>58.583331</td>\n",
       "      <td>57.120001</td>\n",
       "      <td>55.615383</td>\n",
       "    </tr>\n",
       "  </tbody>\n",
       "</table>\n",
       "<p>20 rows × 27 columns</p>\n",
       "</div>"
      ],
      "text/plain": [
       "        method      top50     top100     top150     top200     top250  \\\n",
       "152    KNN_410  89.999998  87.000000  83.333331  81.500000  80.800003   \n",
       "252    KNN_660  88.000000  87.000000  83.333331  80.500001  80.000001   \n",
       "44     KNN_140  83.999997  87.000000  83.333331  81.999999  80.800003   \n",
       "4        SA_GN  83.999997  87.000000  82.666665  82.499999  79.200000   \n",
       "5        SC_GN  83.999997  87.000000  84.666669  81.999999  79.600000   \n",
       "276    KNN_720  88.000000  87.000000  83.333331  80.500001  80.400002   \n",
       "280    KNN_730  88.000000  87.000000  83.999997  80.000001  80.400002   \n",
       "272    KNN_710  88.000000  86.000001  83.333331  80.000001  80.000001   \n",
       "72     KNN_210  88.000000  86.000001  81.333333  82.499999  80.400002   \n",
       "68     KNN_200  86.000001  86.000001  82.666665  81.999999  80.800003   \n",
       "64     KNN_190  86.000001  86.000001  82.666665  81.999999  81.199998   \n",
       "288    KNN_750  88.000000  86.000001  83.333331  80.500001  80.400002   \n",
       "0    LossValue  88.000000  86.000001  83.999997  83.999997  79.600000   \n",
       "176    KNN_470  89.999998  86.000001  83.333331  81.500000  80.000001   \n",
       "76     KNN_220  88.000000  86.000001  82.666665  81.500000  81.199998   \n",
       "296    KNN_770  88.000000  86.000001  83.999997  81.000000  80.400002   \n",
       "304    KNN_790  86.000001  86.000001  83.999997  80.500001  80.400002   \n",
       "48     KNN_150  83.999997  86.000001  83.999997  82.499999  80.800003   \n",
       "308    KNN_800  88.000000  86.000001  83.999997  80.000001  80.400002   \n",
       "172    KNN_460  89.999998  86.000001  82.666665  81.500000  80.000001   \n",
       "\n",
       "        top300     top350     top400     top450  ...     top850     top900  \\\n",
       "152  78.333336  75.999999  74.500000  74.222225  ...  65.647060  65.111113   \n",
       "252  77.666664  75.714284  74.500000  74.222225  ...  65.647060  65.444446   \n",
       "44   77.666664  75.999999  74.500000  73.777777  ...  65.529412  64.666665   \n",
       "4    75.666666  75.428569  75.000000  73.333335  ...  55.764705  55.222225   \n",
       "5    77.333331  74.571431  75.500000  72.666669  ...  65.764707  65.222222   \n",
       "276  77.666664  75.999999  74.750000  74.000001  ...  65.411764  65.111113   \n",
       "280  77.666664  75.999999  74.750000  74.000001  ...  65.529412  65.222222   \n",
       "272  77.999997  75.999999  74.500000  74.222225  ...  65.411764  65.222222   \n",
       "72   77.999997  75.714284  74.750000  74.222225  ...  66.000003  64.888889   \n",
       "68   78.333336  75.714284  74.250001  74.222225  ...  66.000003  64.777780   \n",
       "64   78.333336  75.714284  74.000001  74.222225  ...  65.882355  64.999998   \n",
       "288  77.666664  75.999999  74.750000  74.000001  ...  65.529412  65.222222   \n",
       "0    76.999998  76.285714  75.250000  73.111111  ...  65.764707  65.111113   \n",
       "176  77.999997  75.999999  74.750000  74.000001  ...  65.529412  65.111113   \n",
       "76   77.666664  75.714284  74.750000  74.000001  ...  66.117644  65.111113   \n",
       "296  77.666664  75.999999  74.500000  74.000001  ...  65.647060  65.222222   \n",
       "304  77.666664  75.999999  74.750000  74.000001  ...  65.529412  65.222222   \n",
       "48   77.999997  75.999999  74.500000  74.000001  ...  65.764707  64.777780   \n",
       "308  77.666664  75.999999  75.000000  74.000001  ...  65.529412  65.444446   \n",
       "172  77.999997  75.714284  75.000000  74.000001  ...  65.529412  65.222222   \n",
       "\n",
       "        top950    top1000    top1050    top1100    top1150    top1200  \\\n",
       "152  64.105260  63.200003  62.285715  61.272728  60.173911  58.583331   \n",
       "252  64.210528  63.000000  62.285715  61.181819  60.000002  58.666664   \n",
       "44   63.789475  63.099998  62.476188  61.363637  59.913045  58.666664   \n",
       "4    55.368423  54.799998  54.571426  54.727274  54.608697  54.916668   \n",
       "5    64.631581  63.700002  62.666667  61.181819  59.913045  58.666664   \n",
       "276  63.999999  63.200003  62.190479  61.181819  59.826088  58.666664   \n",
       "280  64.105260  63.099998  62.095237  61.181819  59.913045  58.749998   \n",
       "272  63.999999  63.200003  62.190479  61.363637  59.913045  58.666664   \n",
       "72   63.578945  63.200003  62.190479  61.272728  60.260868  58.916664   \n",
       "68   63.789475  63.099998  62.190479  61.090910  60.173911  58.666664   \n",
       "64   63.894737  63.200003  62.476188  61.363637  60.434783  58.999997   \n",
       "288  64.105260  63.200003  62.285715  61.363637  60.086954  58.666664   \n",
       "0    64.736843  63.499999  62.476188  61.272728  59.913045  58.749998   \n",
       "176  64.210528  63.200003  62.476188  61.272728  60.000002  58.583331   \n",
       "76   63.789475  63.300002  62.380952  61.363637  60.000002  58.749998   \n",
       "296  64.105260  63.200003  62.285715  61.090910  60.086954  58.749998   \n",
       "304  64.210528  63.099998  62.285715  61.181819  60.086954  58.749998   \n",
       "48   63.999999  63.200003  62.476188  61.454546  60.173911  58.666664   \n",
       "308  64.210528  63.200003  62.190479  61.000001  60.173911  58.833331   \n",
       "172  64.210528  63.200003  62.476188  61.181819  60.000002  58.583331   \n",
       "\n",
       "       top1250    top1300  \n",
       "152  57.279998  55.692309  \n",
       "252  57.120001  55.615383  \n",
       "44   56.879997  55.692309  \n",
       "4    55.199999  55.230767  \n",
       "5    57.359999  55.692309  \n",
       "276  57.200003  55.692309  \n",
       "280  57.200003  55.538464  \n",
       "272  57.200003  55.538464  \n",
       "72   57.120001  55.538464  \n",
       "68   57.200003  55.769229  \n",
       "64   57.200003  55.615383  \n",
       "288  57.200003  55.615383  \n",
       "0    57.359999  55.692309  \n",
       "176  57.200003  55.615383  \n",
       "76   57.359999  55.692309  \n",
       "296  57.120001  55.538464  \n",
       "304  57.200003  55.538464  \n",
       "48   57.120001  55.461538  \n",
       "308  57.279998  55.615383  \n",
       "172  57.120001  55.615383  \n",
       "\n",
       "[20 rows x 27 columns]"
      ]
     },
     "execution_count": 69,
     "metadata": {},
     "output_type": "execute_result"
    }
   ],
   "source": [
    "result_df.sort_values(by=\"top100\", ascending=False).head(20)"
   ]
  },
  {
   "cell_type": "code",
   "execution_count": 70,
   "metadata": {},
   "outputs": [
    {
     "data": {
      "text/html": [
       "<div>\n",
       "<style scoped>\n",
       "    .dataframe tbody tr th:only-of-type {\n",
       "        vertical-align: middle;\n",
       "    }\n",
       "\n",
       "    .dataframe tbody tr th {\n",
       "        vertical-align: top;\n",
       "    }\n",
       "\n",
       "    .dataframe thead th {\n",
       "        text-align: right;\n",
       "    }\n",
       "</style>\n",
       "<table border=\"1\" class=\"dataframe\">\n",
       "  <thead>\n",
       "    <tr style=\"text-align: right;\">\n",
       "      <th></th>\n",
       "      <th>method</th>\n",
       "      <th>top50</th>\n",
       "      <th>top100</th>\n",
       "      <th>top150</th>\n",
       "      <th>top200</th>\n",
       "      <th>top250</th>\n",
       "      <th>top300</th>\n",
       "      <th>top350</th>\n",
       "      <th>top400</th>\n",
       "      <th>top450</th>\n",
       "      <th>...</th>\n",
       "      <th>top850</th>\n",
       "      <th>top900</th>\n",
       "      <th>top950</th>\n",
       "      <th>top1000</th>\n",
       "      <th>top1050</th>\n",
       "      <th>top1100</th>\n",
       "      <th>top1150</th>\n",
       "      <th>top1200</th>\n",
       "      <th>top1250</th>\n",
       "      <th>top1300</th>\n",
       "    </tr>\n",
       "  </thead>\n",
       "  <tbody>\n",
       "    <tr>\n",
       "      <th>28</th>\n",
       "      <td>KNN_100</td>\n",
       "      <td>86.000001</td>\n",
       "      <td>81.000000</td>\n",
       "      <td>81.333333</td>\n",
       "      <td>81.500000</td>\n",
       "      <td>79.600000</td>\n",
       "      <td>78.666669</td>\n",
       "      <td>76.285714</td>\n",
       "      <td>74.750000</td>\n",
       "      <td>74.222225</td>\n",
       "      <td>...</td>\n",
       "      <td>65.647060</td>\n",
       "      <td>64.333332</td>\n",
       "      <td>63.999999</td>\n",
       "      <td>63.200003</td>\n",
       "      <td>62.761903</td>\n",
       "      <td>61.636364</td>\n",
       "      <td>59.826088</td>\n",
       "      <td>58.499998</td>\n",
       "      <td>57.120001</td>\n",
       "      <td>55.692309</td>\n",
       "    </tr>\n",
       "    <tr>\n",
       "      <th>164</th>\n",
       "      <td>KNN_440</td>\n",
       "      <td>89.999998</td>\n",
       "      <td>85.000002</td>\n",
       "      <td>82.666665</td>\n",
       "      <td>81.500000</td>\n",
       "      <td>80.400002</td>\n",
       "      <td>78.333336</td>\n",
       "      <td>75.714284</td>\n",
       "      <td>74.750000</td>\n",
       "      <td>74.000001</td>\n",
       "      <td>...</td>\n",
       "      <td>65.764707</td>\n",
       "      <td>65.111113</td>\n",
       "      <td>64.315790</td>\n",
       "      <td>63.099998</td>\n",
       "      <td>62.571430</td>\n",
       "      <td>61.181819</td>\n",
       "      <td>60.000002</td>\n",
       "      <td>58.666664</td>\n",
       "      <td>57.200003</td>\n",
       "      <td>55.538464</td>\n",
       "    </tr>\n",
       "    <tr>\n",
       "      <th>3</th>\n",
       "      <td>SC_GD</td>\n",
       "      <td>75.999999</td>\n",
       "      <td>77.999997</td>\n",
       "      <td>79.333335</td>\n",
       "      <td>80.000001</td>\n",
       "      <td>78.799999</td>\n",
       "      <td>78.333336</td>\n",
       "      <td>74.571431</td>\n",
       "      <td>74.250001</td>\n",
       "      <td>73.111111</td>\n",
       "      <td>...</td>\n",
       "      <td>65.647060</td>\n",
       "      <td>65.333331</td>\n",
       "      <td>64.315790</td>\n",
       "      <td>63.599998</td>\n",
       "      <td>62.761903</td>\n",
       "      <td>61.090910</td>\n",
       "      <td>59.826088</td>\n",
       "      <td>58.583331</td>\n",
       "      <td>57.359999</td>\n",
       "      <td>55.692309</td>\n",
       "    </tr>\n",
       "    <tr>\n",
       "      <th>52</th>\n",
       "      <td>KNN_160</td>\n",
       "      <td>86.000001</td>\n",
       "      <td>85.000002</td>\n",
       "      <td>83.999997</td>\n",
       "      <td>82.499999</td>\n",
       "      <td>81.599998</td>\n",
       "      <td>78.333336</td>\n",
       "      <td>75.714284</td>\n",
       "      <td>74.750000</td>\n",
       "      <td>74.000001</td>\n",
       "      <td>...</td>\n",
       "      <td>65.882355</td>\n",
       "      <td>64.777780</td>\n",
       "      <td>63.999999</td>\n",
       "      <td>63.599998</td>\n",
       "      <td>62.476188</td>\n",
       "      <td>61.363637</td>\n",
       "      <td>60.000002</td>\n",
       "      <td>58.666664</td>\n",
       "      <td>56.879997</td>\n",
       "      <td>55.538464</td>\n",
       "    </tr>\n",
       "    <tr>\n",
       "      <th>152</th>\n",
       "      <td>KNN_410</td>\n",
       "      <td>89.999998</td>\n",
       "      <td>87.000000</td>\n",
       "      <td>83.333331</td>\n",
       "      <td>81.500000</td>\n",
       "      <td>80.800003</td>\n",
       "      <td>78.333336</td>\n",
       "      <td>75.999999</td>\n",
       "      <td>74.500000</td>\n",
       "      <td>74.222225</td>\n",
       "      <td>...</td>\n",
       "      <td>65.647060</td>\n",
       "      <td>65.111113</td>\n",
       "      <td>64.105260</td>\n",
       "      <td>63.200003</td>\n",
       "      <td>62.285715</td>\n",
       "      <td>61.272728</td>\n",
       "      <td>60.173911</td>\n",
       "      <td>58.583331</td>\n",
       "      <td>57.279998</td>\n",
       "      <td>55.692309</td>\n",
       "    </tr>\n",
       "    <tr>\n",
       "      <th>64</th>\n",
       "      <td>KNN_190</td>\n",
       "      <td>86.000001</td>\n",
       "      <td>86.000001</td>\n",
       "      <td>82.666665</td>\n",
       "      <td>81.999999</td>\n",
       "      <td>81.199998</td>\n",
       "      <td>78.333336</td>\n",
       "      <td>75.714284</td>\n",
       "      <td>74.000001</td>\n",
       "      <td>74.222225</td>\n",
       "      <td>...</td>\n",
       "      <td>65.882355</td>\n",
       "      <td>64.999998</td>\n",
       "      <td>63.894737</td>\n",
       "      <td>63.200003</td>\n",
       "      <td>62.476188</td>\n",
       "      <td>61.363637</td>\n",
       "      <td>60.434783</td>\n",
       "      <td>58.999997</td>\n",
       "      <td>57.200003</td>\n",
       "      <td>55.615383</td>\n",
       "    </tr>\n",
       "    <tr>\n",
       "      <th>32</th>\n",
       "      <td>KNN_110</td>\n",
       "      <td>83.999997</td>\n",
       "      <td>83.999997</td>\n",
       "      <td>81.999999</td>\n",
       "      <td>81.999999</td>\n",
       "      <td>80.400002</td>\n",
       "      <td>78.333336</td>\n",
       "      <td>76.285714</td>\n",
       "      <td>74.750000</td>\n",
       "      <td>74.000001</td>\n",
       "      <td>...</td>\n",
       "      <td>65.411764</td>\n",
       "      <td>64.555556</td>\n",
       "      <td>64.210528</td>\n",
       "      <td>62.900001</td>\n",
       "      <td>62.380952</td>\n",
       "      <td>61.636364</td>\n",
       "      <td>60.260868</td>\n",
       "      <td>58.499998</td>\n",
       "      <td>57.200003</td>\n",
       "      <td>55.538464</td>\n",
       "    </tr>\n",
       "    <tr>\n",
       "      <th>68</th>\n",
       "      <td>KNN_200</td>\n",
       "      <td>86.000001</td>\n",
       "      <td>86.000001</td>\n",
       "      <td>82.666665</td>\n",
       "      <td>81.999999</td>\n",
       "      <td>80.800003</td>\n",
       "      <td>78.333336</td>\n",
       "      <td>75.714284</td>\n",
       "      <td>74.250001</td>\n",
       "      <td>74.222225</td>\n",
       "      <td>...</td>\n",
       "      <td>66.000003</td>\n",
       "      <td>64.777780</td>\n",
       "      <td>63.789475</td>\n",
       "      <td>63.099998</td>\n",
       "      <td>62.190479</td>\n",
       "      <td>61.090910</td>\n",
       "      <td>60.173911</td>\n",
       "      <td>58.666664</td>\n",
       "      <td>57.200003</td>\n",
       "      <td>55.769229</td>\n",
       "    </tr>\n",
       "    <tr>\n",
       "      <th>36</th>\n",
       "      <td>KNN_120</td>\n",
       "      <td>83.999997</td>\n",
       "      <td>85.000002</td>\n",
       "      <td>83.333331</td>\n",
       "      <td>81.500000</td>\n",
       "      <td>80.800003</td>\n",
       "      <td>77.999997</td>\n",
       "      <td>76.285714</td>\n",
       "      <td>74.750000</td>\n",
       "      <td>74.000001</td>\n",
       "      <td>...</td>\n",
       "      <td>65.764707</td>\n",
       "      <td>64.888889</td>\n",
       "      <td>64.210528</td>\n",
       "      <td>63.000000</td>\n",
       "      <td>62.571430</td>\n",
       "      <td>61.636364</td>\n",
       "      <td>60.521740</td>\n",
       "      <td>58.583331</td>\n",
       "      <td>56.879997</td>\n",
       "      <td>55.538464</td>\n",
       "    </tr>\n",
       "    <tr>\n",
       "      <th>124</th>\n",
       "      <td>KNN_340</td>\n",
       "      <td>88.000000</td>\n",
       "      <td>85.000002</td>\n",
       "      <td>82.666665</td>\n",
       "      <td>81.999999</td>\n",
       "      <td>80.800003</td>\n",
       "      <td>77.999997</td>\n",
       "      <td>75.714284</td>\n",
       "      <td>74.750000</td>\n",
       "      <td>74.000001</td>\n",
       "      <td>...</td>\n",
       "      <td>65.411764</td>\n",
       "      <td>65.555555</td>\n",
       "      <td>64.105260</td>\n",
       "      <td>63.300002</td>\n",
       "      <td>62.285715</td>\n",
       "      <td>61.181819</td>\n",
       "      <td>60.260868</td>\n",
       "      <td>58.833331</td>\n",
       "      <td>57.200003</td>\n",
       "      <td>55.538464</td>\n",
       "    </tr>\n",
       "  </tbody>\n",
       "</table>\n",
       "<p>10 rows × 27 columns</p>\n",
       "</div>"
      ],
      "text/plain": [
       "      method      top50     top100     top150     top200     top250  \\\n",
       "28   KNN_100  86.000001  81.000000  81.333333  81.500000  79.600000   \n",
       "164  KNN_440  89.999998  85.000002  82.666665  81.500000  80.400002   \n",
       "3      SC_GD  75.999999  77.999997  79.333335  80.000001  78.799999   \n",
       "52   KNN_160  86.000001  85.000002  83.999997  82.499999  81.599998   \n",
       "152  KNN_410  89.999998  87.000000  83.333331  81.500000  80.800003   \n",
       "64   KNN_190  86.000001  86.000001  82.666665  81.999999  81.199998   \n",
       "32   KNN_110  83.999997  83.999997  81.999999  81.999999  80.400002   \n",
       "68   KNN_200  86.000001  86.000001  82.666665  81.999999  80.800003   \n",
       "36   KNN_120  83.999997  85.000002  83.333331  81.500000  80.800003   \n",
       "124  KNN_340  88.000000  85.000002  82.666665  81.999999  80.800003   \n",
       "\n",
       "        top300     top350     top400     top450  ...     top850     top900  \\\n",
       "28   78.666669  76.285714  74.750000  74.222225  ...  65.647060  64.333332   \n",
       "164  78.333336  75.714284  74.750000  74.000001  ...  65.764707  65.111113   \n",
       "3    78.333336  74.571431  74.250001  73.111111  ...  65.647060  65.333331   \n",
       "52   78.333336  75.714284  74.750000  74.000001  ...  65.882355  64.777780   \n",
       "152  78.333336  75.999999  74.500000  74.222225  ...  65.647060  65.111113   \n",
       "64   78.333336  75.714284  74.000001  74.222225  ...  65.882355  64.999998   \n",
       "32   78.333336  76.285714  74.750000  74.000001  ...  65.411764  64.555556   \n",
       "68   78.333336  75.714284  74.250001  74.222225  ...  66.000003  64.777780   \n",
       "36   77.999997  76.285714  74.750000  74.000001  ...  65.764707  64.888889   \n",
       "124  77.999997  75.714284  74.750000  74.000001  ...  65.411764  65.555555   \n",
       "\n",
       "        top950    top1000    top1050    top1100    top1150    top1200  \\\n",
       "28   63.999999  63.200003  62.761903  61.636364  59.826088  58.499998   \n",
       "164  64.315790  63.099998  62.571430  61.181819  60.000002  58.666664   \n",
       "3    64.315790  63.599998  62.761903  61.090910  59.826088  58.583331   \n",
       "52   63.999999  63.599998  62.476188  61.363637  60.000002  58.666664   \n",
       "152  64.105260  63.200003  62.285715  61.272728  60.173911  58.583331   \n",
       "64   63.894737  63.200003  62.476188  61.363637  60.434783  58.999997   \n",
       "32   64.210528  62.900001  62.380952  61.636364  60.260868  58.499998   \n",
       "68   63.789475  63.099998  62.190479  61.090910  60.173911  58.666664   \n",
       "36   64.210528  63.000000  62.571430  61.636364  60.521740  58.583331   \n",
       "124  64.105260  63.300002  62.285715  61.181819  60.260868  58.833331   \n",
       "\n",
       "       top1250    top1300  \n",
       "28   57.120001  55.692309  \n",
       "164  57.200003  55.538464  \n",
       "3    57.359999  55.692309  \n",
       "52   56.879997  55.538464  \n",
       "152  57.279998  55.692309  \n",
       "64   57.200003  55.615383  \n",
       "32   57.200003  55.538464  \n",
       "68   57.200003  55.769229  \n",
       "36   56.879997  55.538464  \n",
       "124  57.200003  55.538464  \n",
       "\n",
       "[10 rows x 27 columns]"
      ]
     },
     "execution_count": 70,
     "metadata": {},
     "output_type": "execute_result"
    }
   ],
   "source": [
    "result_df.sort_values(by=\"top300\", ascending=False).head(10)"
   ]
  },
  {
   "cell_type": "code",
   "execution_count": 26,
   "metadata": {},
   "outputs": [],
   "source": [
    "sel_sizes = range(50, 1310, 50)"
   ]
  },
  {
   "cell_type": "code",
   "execution_count": 43,
   "metadata": {},
   "outputs": [
    {
     "data": {
      "text/plain": [
       "[<matplotlib.lines.Line2D at 0x7fb2806f6490>]"
      ]
     },
     "execution_count": 43,
     "metadata": {},
     "output_type": "execute_result"
    },
    {
     "data": {
      "image/png": "[encoded data removed]",
      "text/plain": [
       "<Figure size 640x480 with 1 Axes>"
      ]
     },
     "metadata": {},
     "output_type": "display_data"
    }
   ],
   "source": [
    "# plt.plot(sel_sizes, result_df[result_df[\"method\"] == \"KNN_10\"].values[0, 1:])\n",
    "# plt.plot(sel_sizes, result_df[result_df[\"method\"] == \"KNN_30\"].values[0, 1:])\n",
    "plt.plot(sel_sizes, result_df[result_df[\"method\"] == \"KNN_50\"].values[0, 1:])\n"
   ]
  },
  {
   "cell_type": "code",
   "execution_count": 107,
   "metadata": {},
   "outputs": [],
   "source": [
    "GN = pd.concat((\n",
    "    result_df[result_df[\"method\"] == \"SA_GN\"].iloc[0],\n",
    "    result_df[result_df[\"method\"] == \"SC_GN\"].iloc[0],\n",
    "),\n",
    "    axis=1\n",
    ").T\n",
    "GN = pd.concat(\n",
    "    (GN,\n",
    "        result_df[result_df[\"method\"].str.contains(\"KNN_GN\")].sort_values(by=\"top100\", ascending=False),),\n",
    "    axis=0\n",
    ")"
   ]
  },
  {
   "cell_type": "code",
   "execution_count": 108,
   "metadata": {},
   "outputs": [
    {
     "data": {
      "text/html": [
       "<div>\n",
       "<style scoped>\n",
       "    .dataframe tbody tr th:only-of-type {\n",
       "        vertical-align: middle;\n",
       "    }\n",
       "\n",
       "    .dataframe tbody tr th {\n",
       "        vertical-align: top;\n",
       "    }\n",
       "\n",
       "    .dataframe thead th {\n",
       "        text-align: right;\n",
       "    }\n",
       "</style>\n",
       "<table border=\"1\" class=\"dataframe\">\n",
       "  <thead>\n",
       "    <tr style=\"text-align: right;\">\n",
       "      <th></th>\n",
       "      <th>method</th>\n",
       "      <th>top50</th>\n",
       "      <th>top100</th>\n",
       "      <th>top150</th>\n",
       "      <th>top200</th>\n",
       "      <th>top250</th>\n",
       "      <th>top300</th>\n",
       "      <th>top350</th>\n",
       "      <th>top400</th>\n",
       "      <th>top450</th>\n",
       "      <th>...</th>\n",
       "      <th>top850</th>\n",
       "      <th>top900</th>\n",
       "      <th>top950</th>\n",
       "      <th>top1000</th>\n",
       "      <th>top1050</th>\n",
       "      <th>top1100</th>\n",
       "      <th>top1150</th>\n",
       "      <th>top1200</th>\n",
       "      <th>top1250</th>\n",
       "      <th>top1300</th>\n",
       "    </tr>\n",
       "  </thead>\n",
       "  <tbody>\n",
       "    <tr>\n",
       "      <th>4</th>\n",
       "      <td>SA_GN</td>\n",
       "      <td>83.999997</td>\n",
       "      <td>87.0</td>\n",
       "      <td>82.666665</td>\n",
       "      <td>82.499999</td>\n",
       "      <td>79.2</td>\n",
       "      <td>75.666666</td>\n",
       "      <td>75.428569</td>\n",
       "      <td>75.0</td>\n",
       "      <td>73.333335</td>\n",
       "      <td>...</td>\n",
       "      <td>55.764705</td>\n",
       "      <td>55.222225</td>\n",
       "      <td>55.368423</td>\n",
       "      <td>54.799998</td>\n",
       "      <td>54.571426</td>\n",
       "      <td>54.727274</td>\n",
       "      <td>54.608697</td>\n",
       "      <td>54.916668</td>\n",
       "      <td>55.199999</td>\n",
       "      <td>55.230767</td>\n",
       "    </tr>\n",
       "    <tr>\n",
       "      <th>5</th>\n",
       "      <td>SC_GN</td>\n",
       "      <td>83.999997</td>\n",
       "      <td>87.0</td>\n",
       "      <td>84.666669</td>\n",
       "      <td>81.999999</td>\n",
       "      <td>79.6</td>\n",
       "      <td>77.333331</td>\n",
       "      <td>74.571431</td>\n",
       "      <td>75.5</td>\n",
       "      <td>72.666669</td>\n",
       "      <td>...</td>\n",
       "      <td>65.764707</td>\n",
       "      <td>65.222222</td>\n",
       "      <td>64.631581</td>\n",
       "      <td>63.700002</td>\n",
       "      <td>62.666667</td>\n",
       "      <td>61.181819</td>\n",
       "      <td>59.913045</td>\n",
       "      <td>58.666664</td>\n",
       "      <td>57.359999</td>\n",
       "      <td>55.692309</td>\n",
       "    </tr>\n",
       "    <tr>\n",
       "      <th>78</th>\n",
       "      <td>KNN_GN_220</td>\n",
       "      <td>81.999999</td>\n",
       "      <td>86.000001</td>\n",
       "      <td>81.333333</td>\n",
       "      <td>78.500003</td>\n",
       "      <td>77.600002</td>\n",
       "      <td>74.666667</td>\n",
       "      <td>73.428571</td>\n",
       "      <td>72.250003</td>\n",
       "      <td>69.999999</td>\n",
       "      <td>...</td>\n",
       "      <td>53.176469</td>\n",
       "      <td>53.444445</td>\n",
       "      <td>53.263158</td>\n",
       "      <td>52.999997</td>\n",
       "      <td>52.857143</td>\n",
       "      <td>53.27273</td>\n",
       "      <td>53.30435</td>\n",
       "      <td>54.000002</td>\n",
       "      <td>54.320002</td>\n",
       "      <td>55.076921</td>\n",
       "    </tr>\n",
       "    <tr>\n",
       "      <th>74</th>\n",
       "      <td>KNN_GN_210</td>\n",
       "      <td>81.999999</td>\n",
       "      <td>85.000002</td>\n",
       "      <td>81.999999</td>\n",
       "      <td>79.500002</td>\n",
       "      <td>77.600002</td>\n",
       "      <td>75.0</td>\n",
       "      <td>74.285716</td>\n",
       "      <td>71.499997</td>\n",
       "      <td>69.555557</td>\n",
       "      <td>...</td>\n",
       "      <td>53.058821</td>\n",
       "      <td>53.222221</td>\n",
       "      <td>52.947366</td>\n",
       "      <td>52.8</td>\n",
       "      <td>52.666664</td>\n",
       "      <td>52.999997</td>\n",
       "      <td>53.217393</td>\n",
       "      <td>53.916669</td>\n",
       "      <td>54.479998</td>\n",
       "      <td>55.076921</td>\n",
       "    </tr>\n",
       "    <tr>\n",
       "      <th>322</th>\n",
       "      <td>KNN_GN_830</td>\n",
       "      <td>81.999999</td>\n",
       "      <td>85.000002</td>\n",
       "      <td>82.666665</td>\n",
       "      <td>81.5</td>\n",
       "      <td>77.999997</td>\n",
       "      <td>76.666665</td>\n",
       "      <td>74.285716</td>\n",
       "      <td>73.000002</td>\n",
       "      <td>71.333331</td>\n",
       "      <td>...</td>\n",
       "      <td>54.000002</td>\n",
       "      <td>53.666669</td>\n",
       "      <td>53.894734</td>\n",
       "      <td>53.799999</td>\n",
       "      <td>53.428572</td>\n",
       "      <td>53.727275</td>\n",
       "      <td>53.652173</td>\n",
       "      <td>54.000002</td>\n",
       "      <td>54.640001</td>\n",
       "      <td>55.076921</td>\n",
       "    </tr>\n",
       "    <tr>\n",
       "      <th>...</th>\n",
       "      <td>...</td>\n",
       "      <td>...</td>\n",
       "      <td>...</td>\n",
       "      <td>...</td>\n",
       "      <td>...</td>\n",
       "      <td>...</td>\n",
       "      <td>...</td>\n",
       "      <td>...</td>\n",
       "      <td>...</td>\n",
       "      <td>...</td>\n",
       "      <td>...</td>\n",
       "      <td>...</td>\n",
       "      <td>...</td>\n",
       "      <td>...</td>\n",
       "      <td>...</td>\n",
       "      <td>...</td>\n",
       "      <td>...</td>\n",
       "      <td>...</td>\n",
       "      <td>...</td>\n",
       "      <td>...</td>\n",
       "      <td>...</td>\n",
       "    </tr>\n",
       "    <tr>\n",
       "      <th>30</th>\n",
       "      <td>KNN_GN_100</td>\n",
       "      <td>83.999997</td>\n",
       "      <td>81.0</td>\n",
       "      <td>80.000001</td>\n",
       "      <td>76.999998</td>\n",
       "      <td>75.999999</td>\n",
       "      <td>74.333334</td>\n",
       "      <td>72.857141</td>\n",
       "      <td>71.499997</td>\n",
       "      <td>68.000001</td>\n",
       "      <td>...</td>\n",
       "      <td>52.470589</td>\n",
       "      <td>52.555555</td>\n",
       "      <td>52.210528</td>\n",
       "      <td>52.3</td>\n",
       "      <td>52.285713</td>\n",
       "      <td>52.545452</td>\n",
       "      <td>52.956522</td>\n",
       "      <td>53.666669</td>\n",
       "      <td>54.24</td>\n",
       "      <td>55.076921</td>\n",
       "    </tr>\n",
       "    <tr>\n",
       "      <th>22</th>\n",
       "      <td>KNN_GN_80</td>\n",
       "      <td>83.999997</td>\n",
       "      <td>81.0</td>\n",
       "      <td>80.000001</td>\n",
       "      <td>76.499999</td>\n",
       "      <td>74.800003</td>\n",
       "      <td>74.666667</td>\n",
       "      <td>72.000003</td>\n",
       "      <td>70.249999</td>\n",
       "      <td>68.000001</td>\n",
       "      <td>...</td>\n",
       "      <td>52.352941</td>\n",
       "      <td>52.444446</td>\n",
       "      <td>52.315789</td>\n",
       "      <td>52.200001</td>\n",
       "      <td>52.09524</td>\n",
       "      <td>52.454543</td>\n",
       "      <td>52.782607</td>\n",
       "      <td>53.333336</td>\n",
       "      <td>54.000002</td>\n",
       "      <td>55.000001</td>\n",
       "    </tr>\n",
       "    <tr>\n",
       "      <th>14</th>\n",
       "      <td>KNN_GN_60</td>\n",
       "      <td>83.999997</td>\n",
       "      <td>81.0</td>\n",
       "      <td>78.666669</td>\n",
       "      <td>77.499998</td>\n",
       "      <td>74.800003</td>\n",
       "      <td>74.000001</td>\n",
       "      <td>72.285712</td>\n",
       "      <td>70.999998</td>\n",
       "      <td>68.666667</td>\n",
       "      <td>...</td>\n",
       "      <td>52.588236</td>\n",
       "      <td>52.333331</td>\n",
       "      <td>52.315789</td>\n",
       "      <td>52.200001</td>\n",
       "      <td>52.285713</td>\n",
       "      <td>52.636361</td>\n",
       "      <td>53.130436</td>\n",
       "      <td>53.916669</td>\n",
       "      <td>54.079998</td>\n",
       "      <td>55.000001</td>\n",
       "    </tr>\n",
       "    <tr>\n",
       "      <th>10</th>\n",
       "      <td>KNN_GN_50</td>\n",
       "      <td>83.999997</td>\n",
       "      <td>81.0</td>\n",
       "      <td>81.333333</td>\n",
       "      <td>77.499998</td>\n",
       "      <td>74.400002</td>\n",
       "      <td>74.000001</td>\n",
       "      <td>73.428571</td>\n",
       "      <td>70.999998</td>\n",
       "      <td>68.222225</td>\n",
       "      <td>...</td>\n",
       "      <td>52.588236</td>\n",
       "      <td>52.444446</td>\n",
       "      <td>52.210528</td>\n",
       "      <td>52.499998</td>\n",
       "      <td>52.761906</td>\n",
       "      <td>52.545452</td>\n",
       "      <td>53.043479</td>\n",
       "      <td>53.666669</td>\n",
       "      <td>53.839999</td>\n",
       "      <td>55.000001</td>\n",
       "    </tr>\n",
       "    <tr>\n",
       "      <th>26</th>\n",
       "      <td>KNN_GN_90</td>\n",
       "      <td>81.999999</td>\n",
       "      <td>80.000001</td>\n",
       "      <td>80.000001</td>\n",
       "      <td>77.499998</td>\n",
       "      <td>75.599998</td>\n",
       "      <td>74.000001</td>\n",
       "      <td>72.857141</td>\n",
       "      <td>71.749997</td>\n",
       "      <td>68.888891</td>\n",
       "      <td>...</td>\n",
       "      <td>52.470589</td>\n",
       "      <td>52.666664</td>\n",
       "      <td>52.526313</td>\n",
       "      <td>52.499998</td>\n",
       "      <td>52.285713</td>\n",
       "      <td>52.545452</td>\n",
       "      <td>53.130436</td>\n",
       "      <td>53.583336</td>\n",
       "      <td>54.079998</td>\n",
       "      <td>55.076921</td>\n",
       "    </tr>\n",
       "  </tbody>\n",
       "</table>\n",
       "<p>97 rows × 27 columns</p>\n",
       "</div>"
      ],
      "text/plain": [
       "         method      top50     top100     top150     top200     top250  \\\n",
       "4         SA_GN  83.999997       87.0  82.666665  82.499999       79.2   \n",
       "5         SC_GN  83.999997       87.0  84.666669  81.999999       79.6   \n",
       "78   KNN_GN_220  81.999999  86.000001  81.333333  78.500003  77.600002   \n",
       "74   KNN_GN_210  81.999999  85.000002  81.999999  79.500002  77.600002   \n",
       "322  KNN_GN_830  81.999999  85.000002  82.666665       81.5  77.999997   \n",
       "..          ...        ...        ...        ...        ...        ...   \n",
       "30   KNN_GN_100  83.999997       81.0  80.000001  76.999998  75.999999   \n",
       "22    KNN_GN_80  83.999997       81.0  80.000001  76.499999  74.800003   \n",
       "14    KNN_GN_60  83.999997       81.0  78.666669  77.499998  74.800003   \n",
       "10    KNN_GN_50  83.999997       81.0  81.333333  77.499998  74.400002   \n",
       "26    KNN_GN_90  81.999999  80.000001  80.000001  77.499998  75.599998   \n",
       "\n",
       "        top300     top350     top400     top450  ...     top850     top900  \\\n",
       "4    75.666666  75.428569       75.0  73.333335  ...  55.764705  55.222225   \n",
       "5    77.333331  74.571431       75.5  72.666669  ...  65.764707  65.222222   \n",
       "78   74.666667  73.428571  72.250003  69.999999  ...  53.176469  53.444445   \n",
       "74        75.0  74.285716  71.499997  69.555557  ...  53.058821  53.222221   \n",
       "322  76.666665  74.285716  73.000002  71.333331  ...  54.000002  53.666669   \n",
       "..         ...        ...        ...        ...  ...        ...        ...   \n",
       "30   74.333334  72.857141  71.499997  68.000001  ...  52.470589  52.555555   \n",
       "22   74.666667  72.000003  70.249999  68.000001  ...  52.352941  52.444446   \n",
       "14   74.000001  72.285712  70.999998  68.666667  ...  52.588236  52.333331   \n",
       "10   74.000001  73.428571  70.999998  68.222225  ...  52.588236  52.444446   \n",
       "26   74.000001  72.857141  71.749997  68.888891  ...  52.470589  52.666664   \n",
       "\n",
       "        top950    top1000    top1050    top1100    top1150    top1200  \\\n",
       "4    55.368423  54.799998  54.571426  54.727274  54.608697  54.916668   \n",
       "5    64.631581  63.700002  62.666667  61.181819  59.913045  58.666664   \n",
       "78   53.263158  52.999997  52.857143   53.27273   53.30435  54.000002   \n",
       "74   52.947366       52.8  52.666664  52.999997  53.217393  53.916669   \n",
       "322  53.894734  53.799999  53.428572  53.727275  53.652173  54.000002   \n",
       "..         ...        ...        ...        ...        ...        ...   \n",
       "30   52.210528       52.3  52.285713  52.545452  52.956522  53.666669   \n",
       "22   52.315789  52.200001   52.09524  52.454543  52.782607  53.333336   \n",
       "14   52.315789  52.200001  52.285713  52.636361  53.130436  53.916669   \n",
       "10   52.210528  52.499998  52.761906  52.545452  53.043479  53.666669   \n",
       "26   52.526313  52.499998  52.285713  52.545452  53.130436  53.583336   \n",
       "\n",
       "       top1250    top1300  \n",
       "4    55.199999  55.230767  \n",
       "5    57.359999  55.692309  \n",
       "78   54.320002  55.076921  \n",
       "74   54.479998  55.076921  \n",
       "322  54.640001  55.076921  \n",
       "..         ...        ...  \n",
       "30       54.24  55.076921  \n",
       "22   54.000002  55.000001  \n",
       "14   54.079998  55.000001  \n",
       "10   53.839999  55.000001  \n",
       "26   54.079998  55.076921  \n",
       "\n",
       "[97 rows x 27 columns]"
      ]
     },
     "execution_count": 108,
     "metadata": {},
     "output_type": "execute_result"
    }
   ],
   "source": [
    "GN"
   ]
  },
  {
   "cell_type": "code",
   "execution_count": 109,
   "metadata": {},
   "outputs": [
    {
     "name": "stdout",
     "output_type": "stream",
     "text": [
      "outputs/imdb/flip0_bert/121_2023-01-02_12-11-48/checkpoints/epoch=00_val_acc=0.8616.ckpt\n",
      "{'token_type_ids': torch.Size([64, 128]), 'label': torch.Size([64]), 'input_ids': torch.Size([64, 128]), 'attention_mask': torch.Size([64, 128])}\n",
      "[torch.Size([64, 128]), torch.Size([64]), torch.Size([64, 128]), torch.Size([64, 128])]\n"
     ]
    },
    {
     "name": "stderr",
     "output_type": "stream",
     "text": [
      "100%|██████████| 69/69 [00:25<00:00,  2.67it/s]\n",
      "100%|██████████| 6/6 [00:04<00:00,  1.21it/s]\n"
     ]
    },
    {
     "name": "stdout",
     "output_type": "stream",
     "text": [
      "Number of element in each class: [100, 100]\n"
     ]
    },
    {
     "name": "stderr",
     "output_type": "stream",
     "text": [
      "Collect Ref Grads: 2it [00:00,  5.33it/s]\n",
      "Tracing: 100%|██████████| 6/6 [00:02<00:00,  2.16it/s]\n",
      "Loop ref knn: 100%|██████████| 69/69 [00:29<00:00,  2.38it/s]\n",
      "Loop KNN GD: 100%|██████████| 1001/1001 [00:01<00:00, 584.83it/s]\n"
     ]
    },
    {
     "name": "stdout",
     "output_type": "stream",
     "text": [
      "outputs/imdb/flip0_bert/121_2023-01-02_12-11-48/checkpoints/epoch=01_val_acc=0.8531.ckpt\n",
      "{'token_type_ids': torch.Size([64, 128]), 'label': torch.Size([64]), 'input_ids': torch.Size([64, 128]), 'attention_mask': torch.Size([64, 128])}\n",
      "[torch.Size([64, 128]), torch.Size([64]), torch.Size([64, 128]), torch.Size([64, 128])]\n"
     ]
    },
    {
     "name": "stderr",
     "output_type": "stream",
     "text": [
      "100%|██████████| 69/69 [00:27<00:00,  2.49it/s]\n",
      "100%|██████████| 6/6 [00:05<00:00,  1.14it/s]\n"
     ]
    },
    {
     "name": "stdout",
     "output_type": "stream",
     "text": [
      "Number of element in each class: [100, 100]\n"
     ]
    },
    {
     "name": "stderr",
     "output_type": "stream",
     "text": [
      "Collect Ref Grads: 2it [00:00,  5.53it/s]\n",
      "Tracing: 100%|██████████| 6/6 [00:02<00:00,  2.16it/s]\n",
      "Loop ref knn: 100%|██████████| 69/69 [00:30<00:00,  2.27it/s]\n",
      "Loop KNN GD: 100%|██████████| 1001/1001 [00:01<00:00, 636.42it/s]\n"
     ]
    },
    {
     "name": "stdout",
     "output_type": "stream",
     "text": [
      "outputs/imdb/flip0_bert/121_2023-01-02_12-11-48/checkpoints/epoch=02_val_acc=0.8799.ckpt\n",
      "{'token_type_ids': torch.Size([64, 128]), 'label': torch.Size([64]), 'input_ids': torch.Size([64, 128]), 'attention_mask': torch.Size([64, 128])}\n",
      "[torch.Size([64, 128]), torch.Size([64]), torch.Size([64, 128]), torch.Size([64, 128])]\n"
     ]
    },
    {
     "name": "stderr",
     "output_type": "stream",
     "text": [
      "100%|██████████| 69/69 [00:28<00:00,  2.45it/s]\n",
      "100%|██████████| 6/6 [00:04<00:00,  1.33it/s]\n"
     ]
    },
    {
     "name": "stdout",
     "output_type": "stream",
     "text": [
      "Number of element in each class: [100, 100]\n"
     ]
    },
    {
     "name": "stderr",
     "output_type": "stream",
     "text": [
      "Collect Ref Grads: 2it [00:00,  5.39it/s]\n",
      "Tracing: 100%|██████████| 6/6 [00:02<00:00,  2.11it/s]\n",
      "Loop ref knn: 100%|██████████| 69/69 [00:30<00:00,  2.28it/s]\n",
      "Loop KNN GD: 100%|██████████| 1001/1001 [00:01<00:00, 598.76it/s]\n"
     ]
    },
    {
     "name": "stdout",
     "output_type": "stream",
     "text": [
      "outputs/imdb/flip0_bert/121_2023-01-02_12-11-48/checkpoints/epoch=03_val_acc=0.8812.ckpt\n",
      "{'token_type_ids': torch.Size([64, 128]), 'label': torch.Size([64]), 'input_ids': torch.Size([64, 128]), 'attention_mask': torch.Size([64, 128])}\n",
      "[torch.Size([64, 128]), torch.Size([64]), torch.Size([64, 128]), torch.Size([64, 128])]\n"
     ]
    },
    {
     "name": "stderr",
     "output_type": "stream",
     "text": [
      "100%|██████████| 69/69 [00:28<00:00,  2.41it/s]\n",
      "100%|██████████| 6/6 [00:05<00:00,  1.18it/s]\n"
     ]
    },
    {
     "name": "stdout",
     "output_type": "stream",
     "text": [
      "Number of element in each class: [100, 100]\n"
     ]
    },
    {
     "name": "stderr",
     "output_type": "stream",
     "text": [
      "Collect Ref Grads: 2it [00:00,  5.53it/s]\n",
      "Tracing: 100%|██████████| 6/6 [00:02<00:00,  2.12it/s]\n",
      "Loop ref knn: 100%|██████████| 69/69 [00:30<00:00,  2.25it/s]\n",
      "Loop KNN GD: 100%|██████████| 1001/1001 [00:01<00:00, 618.67it/s]\n"
     ]
    },
    {
     "name": "stdout",
     "output_type": "stream",
     "text": [
      "outputs/imdb/flip0_bert/121_2023-01-02_12-11-48/checkpoints/epoch=04_val_acc=0.8716.ckpt\n",
      "{'token_type_ids': torch.Size([64, 128]), 'label': torch.Size([64]), 'input_ids': torch.Size([64, 128]), 'attention_mask': torch.Size([64, 128])}\n",
      "[torch.Size([64, 128]), torch.Size([64]), torch.Size([64, 128]), torch.Size([64, 128])]\n"
     ]
    },
    {
     "name": "stderr",
     "output_type": "stream",
     "text": [
      "100%|██████████| 69/69 [00:28<00:00,  2.38it/s]\n",
      "100%|██████████| 6/6 [00:05<00:00,  1.16it/s]\n"
     ]
    },
    {
     "name": "stdout",
     "output_type": "stream",
     "text": [
      "Number of element in each class: [100, 100]\n"
     ]
    },
    {
     "name": "stderr",
     "output_type": "stream",
     "text": [
      "Collect Ref Grads: 2it [00:00,  5.63it/s]\n",
      "Tracing: 100%|██████████| 6/6 [00:02<00:00,  2.10it/s]\n",
      "Loop ref knn: 100%|██████████| 69/69 [00:31<00:00,  2.19it/s]\n",
      "Loop KNN GD: 100%|██████████| 1001/1001 [00:01<00:00, 595.44it/s]\n"
     ]
    },
    {
     "name": "stdout",
     "output_type": "stream",
     "text": [
      "outputs/imdb/flip0_bert/121_2023-01-02_12-11-48/checkpoints/epoch=05_val_acc=0.8744.ckpt\n",
      "{'token_type_ids': torch.Size([64, 128]), 'label': torch.Size([64]), 'input_ids': torch.Size([64, 128]), 'attention_mask': torch.Size([64, 128])}\n",
      "[torch.Size([64, 128]), torch.Size([64]), torch.Size([64, 128]), torch.Size([64, 128])]\n"
     ]
    },
    {
     "name": "stderr",
     "output_type": "stream",
     "text": [
      "100%|██████████| 69/69 [00:29<00:00,  2.38it/s]\n",
      "100%|██████████| 6/6 [00:05<00:00,  1.20it/s]\n"
     ]
    },
    {
     "name": "stdout",
     "output_type": "stream",
     "text": [
      "Number of element in each class: [100, 100]\n"
     ]
    },
    {
     "name": "stderr",
     "output_type": "stream",
     "text": [
      "Collect Ref Grads: 2it [00:00,  5.39it/s]\n",
      "Tracing: 100%|██████████| 6/6 [00:02<00:00,  2.00it/s]\n",
      "Loop ref knn: 100%|██████████| 69/69 [00:30<00:00,  2.24it/s]\n",
      "Loop KNN GD: 100%|██████████| 1001/1001 [00:01<00:00, 590.49it/s]\n"
     ]
    },
    {
     "name": "stdout",
     "output_type": "stream",
     "text": [
      "outputs/imdb/flip0_bert/121_2023-01-02_12-11-48/checkpoints/epoch=06_val_acc=0.8788.ckpt\n",
      "{'token_type_ids': torch.Size([64, 128]), 'label': torch.Size([64]), 'input_ids': torch.Size([64, 128]), 'attention_mask': torch.Size([64, 128])}\n",
      "[torch.Size([64, 128]), torch.Size([64]), torch.Size([64, 128]), torch.Size([64, 128])]\n"
     ]
    },
    {
     "name": "stderr",
     "output_type": "stream",
     "text": [
      "100%|██████████| 69/69 [00:29<00:00,  2.37it/s]\n",
      "100%|██████████| 6/6 [00:04<00:00,  1.26it/s]\n"
     ]
    },
    {
     "name": "stdout",
     "output_type": "stream",
     "text": [
      "Number of element in each class: [100, 100]\n"
     ]
    },
    {
     "name": "stderr",
     "output_type": "stream",
     "text": [
      "Collect Ref Grads: 2it [00:00,  5.78it/s]\n",
      "Tracing: 100%|██████████| 6/6 [00:02<00:00,  2.10it/s]\n",
      "Loop ref knn: 100%|██████████| 69/69 [00:30<00:00,  2.24it/s]\n",
      "Loop KNN GD: 100%|██████████| 1001/1001 [00:01<00:00, 635.21it/s]\n"
     ]
    },
    {
     "name": "stdout",
     "output_type": "stream",
     "text": [
      "outputs/imdb/flip0_bert/121_2023-01-02_12-11-48/checkpoints/epoch=07_val_acc=0.8775.ckpt\n",
      "{'token_type_ids': torch.Size([64, 128]), 'label': torch.Size([64]), 'input_ids': torch.Size([64, 128]), 'attention_mask': torch.Size([64, 128])}\n",
      "[torch.Size([64, 128]), torch.Size([64]), torch.Size([64, 128]), torch.Size([64, 128])]\n"
     ]
    },
    {
     "name": "stderr",
     "output_type": "stream",
     "text": [
      "100%|██████████| 69/69 [00:29<00:00,  2.36it/s]\n",
      "100%|██████████| 6/6 [00:05<00:00,  1.20it/s]\n"
     ]
    },
    {
     "name": "stdout",
     "output_type": "stream",
     "text": [
      "Number of element in each class: [100, 100]\n"
     ]
    },
    {
     "name": "stderr",
     "output_type": "stream",
     "text": [
      "Collect Ref Grads: 2it [00:00,  5.41it/s]\n",
      "Tracing: 100%|██████████| 6/6 [00:02<00:00,  2.11it/s]\n",
      "Loop ref knn: 100%|██████████| 69/69 [00:30<00:00,  2.23it/s]\n",
      "Loop KNN GD: 100%|██████████| 1001/1001 [00:01<00:00, 636.67it/s]\n"
     ]
    },
    {
     "name": "stdout",
     "output_type": "stream",
     "text": [
      "outputs/imdb/flip0_bert/121_2023-01-02_12-11-48/checkpoints/epoch=08_val_acc=0.8824.ckpt\n",
      "{'token_type_ids': torch.Size([64, 128]), 'label': torch.Size([64]), 'input_ids': torch.Size([64, 128]), 'attention_mask': torch.Size([64, 128])}\n",
      "[torch.Size([64, 128]), torch.Size([64]), torch.Size([64, 128]), torch.Size([64, 128])]\n"
     ]
    },
    {
     "name": "stderr",
     "output_type": "stream",
     "text": [
      "100%|██████████| 69/69 [00:29<00:00,  2.35it/s]\n",
      "100%|██████████| 6/6 [00:04<00:00,  1.25it/s]\n"
     ]
    },
    {
     "name": "stdout",
     "output_type": "stream",
     "text": [
      "Number of element in each class: [100, 100]\n"
     ]
    },
    {
     "name": "stderr",
     "output_type": "stream",
     "text": [
      "Collect Ref Grads: 2it [00:00,  5.39it/s]\n",
      "Tracing: 100%|██████████| 6/6 [00:03<00:00,  1.83it/s]\n",
      "Loop ref knn: 100%|██████████| 69/69 [00:31<00:00,  2.22it/s]\n",
      "Loop KNN GD: 100%|██████████| 1001/1001 [00:01<00:00, 607.83it/s]\n"
     ]
    },
    {
     "name": "stdout",
     "output_type": "stream",
     "text": [
      "outputs/imdb/flip0_bert/121_2023-01-02_12-11-48/checkpoints/epoch=09_val_acc=0.8831.ckpt\n",
      "{'token_type_ids': torch.Size([64, 128]), 'label': torch.Size([64]), 'input_ids': torch.Size([64, 128]), 'attention_mask': torch.Size([64, 128])}\n",
      "[torch.Size([64, 128]), torch.Size([64]), torch.Size([64, 128]), torch.Size([64, 128])]\n"
     ]
    },
    {
     "name": "stderr",
     "output_type": "stream",
     "text": [
      "100%|██████████| 69/69 [00:29<00:00,  2.35it/s]\n",
      "100%|██████████| 6/6 [00:04<00:00,  1.27it/s]\n"
     ]
    },
    {
     "name": "stdout",
     "output_type": "stream",
     "text": [
      "Number of element in each class: [100, 100]\n"
     ]
    },
    {
     "name": "stderr",
     "output_type": "stream",
     "text": [
      "Collect Ref Grads: 2it [00:00,  5.46it/s]\n",
      "Tracing: 100%|██████████| 6/6 [00:02<00:00,  2.07it/s]\n",
      "Loop ref knn: 100%|██████████| 69/69 [00:31<00:00,  2.22it/s]\n",
      "Loop KNN GD: 100%|██████████| 1001/1001 [00:01<00:00, 620.24it/s]\n"
     ]
    },
    {
     "name": "stdout",
     "output_type": "stream",
     "text": [
      "outputs/imdb/flip0_bert/122_2023-01-02_12-11-48/checkpoints/epoch=00_val_acc=0.8723.ckpt\n",
      "{'token_type_ids': torch.Size([64, 128]), 'label': torch.Size([64]), 'input_ids': torch.Size([64, 128]), 'attention_mask': torch.Size([64, 128])}\n",
      "[torch.Size([64, 128]), torch.Size([64]), torch.Size([64, 128]), torch.Size([64, 128])]\n"
     ]
    },
    {
     "name": "stderr",
     "output_type": "stream",
     "text": [
      "100%|██████████| 69/69 [00:29<00:00,  2.37it/s]\n",
      "100%|██████████| 6/6 [00:07<00:00,  1.29s/it]\n"
     ]
    },
    {
     "name": "stdout",
     "output_type": "stream",
     "text": [
      "Number of element in each class: [100, 100]\n"
     ]
    },
    {
     "name": "stderr",
     "output_type": "stream",
     "text": [
      "Collect Ref Grads: 2it [00:00,  5.14it/s]\n",
      "Tracing: 100%|██████████| 6/6 [00:02<00:00,  2.12it/s]\n",
      "Loop ref knn: 100%|██████████| 69/69 [00:31<00:00,  2.22it/s]\n",
      "Loop KNN GD: 100%|██████████| 1001/1001 [00:01<00:00, 628.63it/s]\n"
     ]
    },
    {
     "name": "stdout",
     "output_type": "stream",
     "text": [
      "outputs/imdb/flip0_bert/122_2023-01-02_12-11-48/checkpoints/epoch=01_val_acc=0.8777.ckpt\n",
      "{'token_type_ids': torch.Size([64, 128]), 'label': torch.Size([64]), 'input_ids': torch.Size([64, 128]), 'attention_mask': torch.Size([64, 128])}\n",
      "[torch.Size([64, 128]), torch.Size([64]), torch.Size([64, 128]), torch.Size([64, 128])]\n"
     ]
    },
    {
     "name": "stderr",
     "output_type": "stream",
     "text": [
      "100%|██████████| 69/69 [00:28<00:00,  2.39it/s]\n",
      "100%|██████████| 6/6 [00:06<00:00,  1.13s/it]\n"
     ]
    },
    {
     "name": "stdout",
     "output_type": "stream",
     "text": [
      "Number of element in each class: [100, 100]\n"
     ]
    },
    {
     "name": "stderr",
     "output_type": "stream",
     "text": [
      "Collect Ref Grads: 2it [00:00,  5.30it/s]\n",
      "Tracing: 100%|██████████| 6/6 [00:02<00:00,  2.09it/s]\n",
      "Loop ref knn: 100%|██████████| 69/69 [00:30<00:00,  2.25it/s]\n",
      "Loop KNN GD: 100%|██████████| 1001/1001 [00:01<00:00, 628.94it/s]\n"
     ]
    },
    {
     "name": "stdout",
     "output_type": "stream",
     "text": [
      "outputs/imdb/flip0_bert/122_2023-01-02_12-11-48/checkpoints/epoch=02_val_acc=0.8753.ckpt\n",
      "{'token_type_ids': torch.Size([64, 128]), 'label': torch.Size([64]), 'input_ids': torch.Size([64, 128]), 'attention_mask': torch.Size([64, 128])}\n",
      "[torch.Size([64, 128]), torch.Size([64]), torch.Size([64, 128]), torch.Size([64, 128])]\n"
     ]
    },
    {
     "name": "stderr",
     "output_type": "stream",
     "text": [
      "100%|██████████| 69/69 [00:29<00:00,  2.38it/s]\n",
      "100%|██████████| 6/6 [00:06<00:00,  1.13s/it]\n"
     ]
    },
    {
     "name": "stdout",
     "output_type": "stream",
     "text": [
      "Number of element in each class: [100, 100]\n"
     ]
    },
    {
     "name": "stderr",
     "output_type": "stream",
     "text": [
      "Collect Ref Grads: 2it [00:00,  5.25it/s]\n",
      "Tracing: 100%|██████████| 6/6 [00:02<00:00,  2.08it/s]\n",
      "Loop ref knn: 100%|██████████| 69/69 [00:30<00:00,  2.24it/s]\n",
      "Loop KNN GD: 100%|██████████| 1001/1001 [00:01<00:00, 611.59it/s]\n"
     ]
    },
    {
     "name": "stdout",
     "output_type": "stream",
     "text": [
      "outputs/imdb/flip0_bert/122_2023-01-02_12-11-48/checkpoints/epoch=03_val_acc=0.8779.ckpt\n",
      "{'token_type_ids': torch.Size([64, 128]), 'label': torch.Size([64]), 'input_ids': torch.Size([64, 128]), 'attention_mask': torch.Size([64, 128])}\n",
      "[torch.Size([64, 128]), torch.Size([64]), torch.Size([64, 128]), torch.Size([64, 128])]\n"
     ]
    },
    {
     "name": "stderr",
     "output_type": "stream",
     "text": [
      "100%|██████████| 69/69 [00:29<00:00,  2.37it/s]\n",
      "100%|██████████| 6/6 [00:06<00:00,  1.04s/it]\n"
     ]
    },
    {
     "name": "stdout",
     "output_type": "stream",
     "text": [
      "Number of element in each class: [100, 100]\n"
     ]
    },
    {
     "name": "stderr",
     "output_type": "stream",
     "text": [
      "Collect Ref Grads: 2it [00:00,  5.55it/s]\n",
      "Tracing: 100%|██████████| 6/6 [00:02<00:00,  2.09it/s]\n",
      "Loop ref knn: 100%|██████████| 69/69 [00:30<00:00,  2.23it/s]\n",
      "Loop KNN GD: 100%|██████████| 1001/1001 [00:01<00:00, 634.97it/s]\n"
     ]
    },
    {
     "name": "stdout",
     "output_type": "stream",
     "text": [
      "outputs/imdb/flip0_bert/122_2023-01-02_12-11-48/checkpoints/epoch=04_val_acc=0.8836.ckpt\n",
      "{'token_type_ids': torch.Size([64, 128]), 'label': torch.Size([64]), 'input_ids': torch.Size([64, 128]), 'attention_mask': torch.Size([64, 128])}\n",
      "[torch.Size([64, 128]), torch.Size([64]), torch.Size([64, 128]), torch.Size([64, 128])]\n"
     ]
    },
    {
     "name": "stderr",
     "output_type": "stream",
     "text": [
      "100%|██████████| 69/69 [00:29<00:00,  2.37it/s]\n",
      "100%|██████████| 6/6 [00:06<00:00,  1.03s/it]\n"
     ]
    },
    {
     "name": "stdout",
     "output_type": "stream",
     "text": [
      "Number of element in each class: [100, 100]\n"
     ]
    },
    {
     "name": "stderr",
     "output_type": "stream",
     "text": [
      "Collect Ref Grads: 2it [00:00,  5.65it/s]\n",
      "Tracing: 100%|██████████| 6/6 [00:02<00:00,  2.11it/s]\n",
      "Loop ref knn: 100%|██████████| 69/69 [00:30<00:00,  2.26it/s]\n",
      "Loop KNN GD: 100%|██████████| 1001/1001 [00:01<00:00, 612.14it/s]\n"
     ]
    },
    {
     "name": "stdout",
     "output_type": "stream",
     "text": [
      "outputs/imdb/flip0_bert/122_2023-01-02_12-11-48/checkpoints/epoch=05_val_acc=0.8793.ckpt\n",
      "{'token_type_ids': torch.Size([64, 128]), 'label': torch.Size([64]), 'input_ids': torch.Size([64, 128]), 'attention_mask': torch.Size([64, 128])}\n",
      "[torch.Size([64, 128]), torch.Size([64]), torch.Size([64, 128]), torch.Size([64, 128])]\n"
     ]
    },
    {
     "name": "stderr",
     "output_type": "stream",
     "text": [
      "100%|██████████| 69/69 [00:29<00:00,  2.37it/s]\n",
      "100%|██████████| 6/6 [00:06<00:00,  1.06s/it]\n"
     ]
    },
    {
     "name": "stdout",
     "output_type": "stream",
     "text": [
      "Number of element in each class: [100, 100]\n"
     ]
    },
    {
     "name": "stderr",
     "output_type": "stream",
     "text": [
      "Collect Ref Grads: 2it [00:00,  5.71it/s]\n",
      "Tracing: 100%|██████████| 6/6 [00:02<00:00,  2.10it/s]\n",
      "Loop ref knn: 100%|██████████| 69/69 [00:31<00:00,  2.20it/s]\n",
      "Loop KNN GD: 100%|██████████| 1001/1001 [00:01<00:00, 578.14it/s]\n"
     ]
    },
    {
     "name": "stdout",
     "output_type": "stream",
     "text": [
      "outputs/imdb/flip0_bert/122_2023-01-02_12-11-48/checkpoints/epoch=06_val_acc=0.8720.ckpt\n",
      "{'token_type_ids': torch.Size([64, 128]), 'label': torch.Size([64]), 'input_ids': torch.Size([64, 128]), 'attention_mask': torch.Size([64, 128])}\n",
      "[torch.Size([64, 128]), torch.Size([64]), torch.Size([64, 128]), torch.Size([64, 128])]\n"
     ]
    },
    {
     "name": "stderr",
     "output_type": "stream",
     "text": [
      "100%|██████████| 69/69 [00:29<00:00,  2.37it/s]\n",
      "100%|██████████| 6/6 [00:06<00:00,  1.01s/it]\n"
     ]
    },
    {
     "name": "stdout",
     "output_type": "stream",
     "text": [
      "Number of element in each class: [100, 100]\n"
     ]
    },
    {
     "name": "stderr",
     "output_type": "stream",
     "text": [
      "Collect Ref Grads: 2it [00:00,  5.77it/s]\n",
      "Tracing: 100%|██████████| 6/6 [00:03<00:00,  1.85it/s]\n",
      "Loop ref knn: 100%|██████████| 69/69 [00:30<00:00,  2.24it/s]\n",
      "Loop KNN GD: 100%|██████████| 1001/1001 [00:01<00:00, 604.23it/s]\n"
     ]
    },
    {
     "name": "stdout",
     "output_type": "stream",
     "text": [
      "outputs/imdb/flip0_bert/122_2023-01-02_12-11-48/checkpoints/epoch=07_val_acc=0.8796.ckpt\n",
      "{'token_type_ids': torch.Size([64, 128]), 'label': torch.Size([64]), 'input_ids': torch.Size([64, 128]), 'attention_mask': torch.Size([64, 128])}\n",
      "[torch.Size([64, 128]), torch.Size([64]), torch.Size([64, 128]), torch.Size([64, 128])]\n"
     ]
    },
    {
     "name": "stderr",
     "output_type": "stream",
     "text": [
      "100%|██████████| 69/69 [00:29<00:00,  2.37it/s]\n",
      "100%|██████████| 6/6 [00:05<00:00,  1.01it/s]\n"
     ]
    },
    {
     "name": "stdout",
     "output_type": "stream",
     "text": [
      "Number of element in each class: [100, 100]\n"
     ]
    },
    {
     "name": "stderr",
     "output_type": "stream",
     "text": [
      "Collect Ref Grads: 2it [00:00,  5.24it/s]\n",
      "Tracing: 100%|██████████| 6/6 [00:02<00:00,  2.09it/s]\n",
      "Loop ref knn: 100%|██████████| 69/69 [00:30<00:00,  2.24it/s]\n",
      "Loop KNN GD: 100%|██████████| 1001/1001 [00:01<00:00, 602.83it/s]\n"
     ]
    },
    {
     "name": "stdout",
     "output_type": "stream",
     "text": [
      "outputs/imdb/flip0_bert/122_2023-01-02_12-11-48/checkpoints/epoch=08_val_acc=0.8813.ckpt\n",
      "{'token_type_ids': torch.Size([64, 128]), 'label': torch.Size([64]), 'input_ids': torch.Size([64, 128]), 'attention_mask': torch.Size([64, 128])}\n",
      "[torch.Size([64, 128]), torch.Size([64]), torch.Size([64, 128]), torch.Size([64, 128])]\n"
     ]
    },
    {
     "name": "stderr",
     "output_type": "stream",
     "text": [
      "100%|██████████| 69/69 [00:29<00:00,  2.37it/s]\n",
      "100%|██████████| 6/6 [00:05<00:00,  1.04it/s]\n"
     ]
    },
    {
     "name": "stdout",
     "output_type": "stream",
     "text": [
      "Number of element in each class: [100, 100]\n"
     ]
    },
    {
     "name": "stderr",
     "output_type": "stream",
     "text": [
      "Collect Ref Grads: 2it [00:00,  5.43it/s]\n",
      "Tracing: 100%|██████████| 6/6 [00:02<00:00,  2.11it/s]\n",
      "Loop ref knn: 100%|██████████| 69/69 [00:30<00:00,  2.25it/s]\n",
      "Loop KNN GD: 100%|██████████| 1001/1001 [00:01<00:00, 606.49it/s]\n"
     ]
    },
    {
     "name": "stdout",
     "output_type": "stream",
     "text": [
      "outputs/imdb/flip0_bert/122_2023-01-02_12-11-48/checkpoints/epoch=09_val_acc=0.8811.ckpt\n",
      "{'token_type_ids': torch.Size([64, 128]), 'label': torch.Size([64]), 'input_ids': torch.Size([64, 128]), 'attention_mask': torch.Size([64, 128])}\n",
      "[torch.Size([64, 128]), torch.Size([64]), torch.Size([64, 128]), torch.Size([64, 128])]\n"
     ]
    },
    {
     "name": "stderr",
     "output_type": "stream",
     "text": [
      "100%|██████████| 69/69 [00:28<00:00,  2.39it/s]\n",
      "100%|██████████| 6/6 [00:05<00:00,  1.00it/s]\n"
     ]
    },
    {
     "name": "stdout",
     "output_type": "stream",
     "text": [
      "Number of element in each class: [100, 100]\n"
     ]
    },
    {
     "name": "stderr",
     "output_type": "stream",
     "text": [
      "Collect Ref Grads: 2it [00:00,  5.27it/s]\n",
      "Tracing: 100%|██████████| 6/6 [00:02<00:00,  2.12it/s]\n",
      "Loop ref knn: 100%|██████████| 69/69 [00:30<00:00,  2.24it/s]\n",
      "Loop KNN GD: 100%|██████████| 1001/1001 [00:01<00:00, 604.37it/s]\n"
     ]
    },
    {
     "name": "stdout",
     "output_type": "stream",
     "text": [
      "outputs/imdb/flip0_bert/123_2023-01-02_12-11-48/checkpoints/epoch=00_val_acc=0.8711.ckpt\n",
      "{'token_type_ids': torch.Size([64, 128]), 'label': torch.Size([64]), 'input_ids': torch.Size([64, 128]), 'attention_mask': torch.Size([64, 128])}\n",
      "[torch.Size([64, 128]), torch.Size([64]), torch.Size([64, 128]), torch.Size([64, 128])]\n"
     ]
    },
    {
     "name": "stderr",
     "output_type": "stream",
     "text": [
      "100%|██████████| 69/69 [00:29<00:00,  2.37it/s]\n",
      "100%|██████████| 6/6 [00:04<00:00,  1.24it/s]\n"
     ]
    },
    {
     "name": "stdout",
     "output_type": "stream",
     "text": [
      "Number of element in each class: [100, 100]\n"
     ]
    },
    {
     "name": "stderr",
     "output_type": "stream",
     "text": [
      "Collect Ref Grads: 2it [00:00,  5.59it/s]\n",
      "Tracing: 100%|██████████| 6/6 [00:02<00:00,  2.06it/s]\n",
      "Loop ref knn: 100%|██████████| 69/69 [00:31<00:00,  2.21it/s]\n",
      "Loop KNN GD: 100%|██████████| 1001/1001 [00:01<00:00, 598.23it/s]\n"
     ]
    },
    {
     "name": "stdout",
     "output_type": "stream",
     "text": [
      "outputs/imdb/flip0_bert/123_2023-01-02_12-11-48/checkpoints/epoch=01_val_acc=0.8775.ckpt\n",
      "{'token_type_ids': torch.Size([64, 128]), 'label': torch.Size([64]), 'input_ids': torch.Size([64, 128]), 'attention_mask': torch.Size([64, 128])}\n",
      "[torch.Size([64, 128]), torch.Size([64]), torch.Size([64, 128]), torch.Size([64, 128])]\n"
     ]
    },
    {
     "name": "stderr",
     "output_type": "stream",
     "text": [
      "100%|██████████| 69/69 [00:29<00:00,  2.35it/s]\n",
      "100%|██████████| 6/6 [00:04<00:00,  1.23it/s]\n"
     ]
    },
    {
     "name": "stdout",
     "output_type": "stream",
     "text": [
      "Number of element in each class: [100, 100]\n"
     ]
    },
    {
     "name": "stderr",
     "output_type": "stream",
     "text": [
      "Collect Ref Grads: 2it [00:00,  5.52it/s]\n",
      "Tracing: 100%|██████████| 6/6 [00:02<00:00,  2.09it/s]\n",
      "Loop ref knn: 100%|██████████| 69/69 [00:31<00:00,  2.21it/s]\n",
      "Loop KNN GD: 100%|██████████| 1001/1001 [00:01<00:00, 625.77it/s]\n"
     ]
    },
    {
     "name": "stdout",
     "output_type": "stream",
     "text": [
      "outputs/imdb/flip0_bert/123_2023-01-02_12-11-48/checkpoints/epoch=02_val_acc=0.8777.ckpt\n",
      "{'token_type_ids': torch.Size([64, 128]), 'label': torch.Size([64]), 'input_ids': torch.Size([64, 128]), 'attention_mask': torch.Size([64, 128])}\n",
      "[torch.Size([64, 128]), torch.Size([64]), torch.Size([64, 128]), torch.Size([64, 128])]\n"
     ]
    },
    {
     "name": "stderr",
     "output_type": "stream",
     "text": [
      "100%|██████████| 69/69 [00:29<00:00,  2.35it/s]\n",
      "100%|██████████| 6/6 [00:05<00:00,  1.05it/s]\n"
     ]
    },
    {
     "name": "stdout",
     "output_type": "stream",
     "text": [
      "Number of element in each class: [100, 100]\n"
     ]
    },
    {
     "name": "stderr",
     "output_type": "stream",
     "text": [
      "Collect Ref Grads: 2it [00:00,  5.58it/s]\n",
      "Tracing: 100%|██████████| 6/6 [00:02<00:00,  2.07it/s]\n",
      "Loop ref knn: 100%|██████████| 69/69 [00:31<00:00,  2.23it/s]\n",
      "Loop KNN GD: 100%|██████████| 1001/1001 [00:01<00:00, 635.34it/s]\n"
     ]
    },
    {
     "name": "stdout",
     "output_type": "stream",
     "text": [
      "outputs/imdb/flip0_bert/123_2023-01-02_12-11-48/checkpoints/epoch=03_val_acc=0.8869.ckpt\n",
      "{'token_type_ids': torch.Size([64, 128]), 'label': torch.Size([64]), 'input_ids': torch.Size([64, 128]), 'attention_mask': torch.Size([64, 128])}\n",
      "[torch.Size([64, 128]), torch.Size([64]), torch.Size([64, 128]), torch.Size([64, 128])]\n"
     ]
    },
    {
     "name": "stderr",
     "output_type": "stream",
     "text": [
      "100%|██████████| 69/69 [00:29<00:00,  2.36it/s]\n",
      "100%|██████████| 6/6 [00:05<00:00,  1.16it/s]\n"
     ]
    },
    {
     "name": "stdout",
     "output_type": "stream",
     "text": [
      "Number of element in each class: [100, 100]\n"
     ]
    },
    {
     "name": "stderr",
     "output_type": "stream",
     "text": [
      "Collect Ref Grads: 2it [00:00,  5.35it/s]\n",
      "Tracing: 100%|██████████| 6/6 [00:02<00:00,  2.06it/s]\n",
      "Loop ref knn: 100%|██████████| 69/69 [00:31<00:00,  2.21it/s]\n",
      "Loop KNN GD: 100%|██████████| 1001/1001 [00:01<00:00, 642.02it/s]\n"
     ]
    },
    {
     "name": "stdout",
     "output_type": "stream",
     "text": [
      "outputs/imdb/flip0_bert/123_2023-01-02_12-11-48/checkpoints/epoch=04_val_acc=0.8829.ckpt\n",
      "{'token_type_ids': torch.Size([64, 128]), 'label': torch.Size([64]), 'input_ids': torch.Size([64, 128]), 'attention_mask': torch.Size([64, 128])}\n",
      "[torch.Size([64, 128]), torch.Size([64]), torch.Size([64, 128]), torch.Size([64, 128])]\n"
     ]
    },
    {
     "name": "stderr",
     "output_type": "stream",
     "text": [
      "100%|██████████| 69/69 [00:29<00:00,  2.36it/s]\n",
      "100%|██████████| 6/6 [00:05<00:00,  1.09it/s]\n"
     ]
    },
    {
     "name": "stdout",
     "output_type": "stream",
     "text": [
      "Number of element in each class: [100, 100]\n"
     ]
    },
    {
     "name": "stderr",
     "output_type": "stream",
     "text": [
      "Collect Ref Grads: 2it [00:00,  5.39it/s]\n",
      "Tracing: 100%|██████████| 6/6 [00:02<00:00,  2.09it/s]\n",
      "Loop ref knn: 100%|██████████| 69/69 [00:30<00:00,  2.23it/s]\n",
      "Loop KNN GD: 100%|██████████| 1001/1001 [00:01<00:00, 639.47it/s]\n"
     ]
    },
    {
     "name": "stdout",
     "output_type": "stream",
     "text": [
      "outputs/imdb/flip0_bert/123_2023-01-02_12-11-48/checkpoints/epoch=05_val_acc=0.8776.ckpt\n",
      "{'token_type_ids': torch.Size([64, 128]), 'label': torch.Size([64]), 'input_ids': torch.Size([64, 128]), 'attention_mask': torch.Size([64, 128])}\n",
      "[torch.Size([64, 128]), torch.Size([64]), torch.Size([64, 128]), torch.Size([64, 128])]\n"
     ]
    },
    {
     "name": "stderr",
     "output_type": "stream",
     "text": [
      "100%|██████████| 69/69 [00:29<00:00,  2.36it/s]\n",
      "100%|██████████| 6/6 [00:05<00:00,  1.15it/s]\n"
     ]
    },
    {
     "name": "stdout",
     "output_type": "stream",
     "text": [
      "Number of element in each class: [100, 100]\n"
     ]
    },
    {
     "name": "stderr",
     "output_type": "stream",
     "text": [
      "Collect Ref Grads: 2it [00:00,  5.38it/s]\n",
      "Tracing: 100%|██████████| 6/6 [00:02<00:00,  2.06it/s]\n",
      "Loop ref knn: 100%|██████████| 69/69 [00:31<00:00,  2.22it/s]\n",
      "Loop KNN GD: 100%|██████████| 1001/1001 [00:01<00:00, 614.80it/s]\n"
     ]
    },
    {
     "name": "stdout",
     "output_type": "stream",
     "text": [
      "outputs/imdb/flip0_bert/123_2023-01-02_12-11-48/checkpoints/epoch=06_val_acc=0.8795.ckpt\n",
      "{'token_type_ids': torch.Size([64, 128]), 'label': torch.Size([64]), 'input_ids': torch.Size([64, 128]), 'attention_mask': torch.Size([64, 128])}\n",
      "[torch.Size([64, 128]), torch.Size([64]), torch.Size([64, 128]), torch.Size([64, 128])]\n"
     ]
    },
    {
     "name": "stderr",
     "output_type": "stream",
     "text": [
      "100%|██████████| 69/69 [00:29<00:00,  2.34it/s]\n",
      "100%|██████████| 6/6 [00:05<00:00,  1.16it/s]\n"
     ]
    },
    {
     "name": "stdout",
     "output_type": "stream",
     "text": [
      "Number of element in each class: [100, 100]\n"
     ]
    },
    {
     "name": "stderr",
     "output_type": "stream",
     "text": [
      "Collect Ref Grads: 2it [00:00,  5.48it/s]\n",
      "Tracing: 100%|██████████| 6/6 [00:02<00:00,  2.06it/s]\n",
      "Loop ref knn: 100%|██████████| 69/69 [00:32<00:00,  2.15it/s]\n",
      "Loop KNN GD: 100%|██████████| 1001/1001 [00:01<00:00, 613.57it/s]\n"
     ]
    },
    {
     "name": "stdout",
     "output_type": "stream",
     "text": [
      "outputs/imdb/flip0_bert/123_2023-01-02_12-11-48/checkpoints/epoch=07_val_acc=0.8728.ckpt\n",
      "{'token_type_ids': torch.Size([64, 128]), 'label': torch.Size([64]), 'input_ids': torch.Size([64, 128]), 'attention_mask': torch.Size([64, 128])}\n",
      "[torch.Size([64, 128]), torch.Size([64]), torch.Size([64, 128]), torch.Size([64, 128])]\n"
     ]
    },
    {
     "name": "stderr",
     "output_type": "stream",
     "text": [
      "100%|██████████| 69/69 [00:29<00:00,  2.35it/s]\n",
      "100%|██████████| 6/6 [00:05<00:00,  1.12it/s]\n"
     ]
    },
    {
     "name": "stdout",
     "output_type": "stream",
     "text": [
      "Number of element in each class: [100, 100]\n"
     ]
    },
    {
     "name": "stderr",
     "output_type": "stream",
     "text": [
      "Collect Ref Grads: 2it [00:00,  5.69it/s]\n",
      "Tracing: 100%|██████████| 6/6 [00:03<00:00,  1.92it/s]\n",
      "Loop ref knn: 100%|██████████| 69/69 [00:30<00:00,  2.23it/s]\n",
      "Loop KNN GD: 100%|██████████| 1001/1001 [00:01<00:00, 637.60it/s]\n"
     ]
    },
    {
     "name": "stdout",
     "output_type": "stream",
     "text": [
      "outputs/imdb/flip0_bert/123_2023-01-02_12-11-48/checkpoints/epoch=08_val_acc=0.8689.ckpt\n",
      "{'token_type_ids': torch.Size([64, 128]), 'label': torch.Size([64]), 'input_ids': torch.Size([64, 128]), 'attention_mask': torch.Size([64, 128])}\n",
      "[torch.Size([64, 128]), torch.Size([64]), torch.Size([64, 128]), torch.Size([64, 128])]\n"
     ]
    },
    {
     "name": "stderr",
     "output_type": "stream",
     "text": [
      "100%|██████████| 69/69 [00:29<00:00,  2.37it/s]\n",
      "100%|██████████| 6/6 [00:04<00:00,  1.21it/s]\n"
     ]
    },
    {
     "name": "stdout",
     "output_type": "stream",
     "text": [
      "Number of element in each class: [100, 100]\n"
     ]
    },
    {
     "name": "stderr",
     "output_type": "stream",
     "text": [
      "Collect Ref Grads: 2it [00:00,  5.13it/s]\n",
      "Tracing: 100%|██████████| 6/6 [00:02<00:00,  2.08it/s]\n",
      "Loop ref knn: 100%|██████████| 69/69 [00:31<00:00,  2.23it/s]\n",
      "Loop KNN GD: 100%|██████████| 1001/1001 [00:01<00:00, 632.14it/s]\n"
     ]
    },
    {
     "name": "stdout",
     "output_type": "stream",
     "text": [
      "outputs/imdb/flip0_bert/123_2023-01-02_12-11-48/checkpoints/epoch=09_val_acc=0.8781.ckpt\n",
      "{'token_type_ids': torch.Size([64, 128]), 'label': torch.Size([64]), 'input_ids': torch.Size([64, 128]), 'attention_mask': torch.Size([64, 128])}\n",
      "[torch.Size([64, 128]), torch.Size([64]), torch.Size([64, 128]), torch.Size([64, 128])]\n"
     ]
    },
    {
     "name": "stderr",
     "output_type": "stream",
     "text": [
      "100%|██████████| 69/69 [00:29<00:00,  2.37it/s]\n",
      "100%|██████████| 6/6 [00:04<00:00,  1.24it/s]\n"
     ]
    },
    {
     "name": "stdout",
     "output_type": "stream",
     "text": [
      "Number of element in each class: [100, 100]\n"
     ]
    },
    {
     "name": "stderr",
     "output_type": "stream",
     "text": [
      "Collect Ref Grads: 2it [00:00,  5.42it/s]\n",
      "Tracing: 100%|██████████| 6/6 [00:03<00:00,  1.84it/s]\n",
      "Loop ref knn: 100%|██████████| 69/69 [00:30<00:00,  2.23it/s]\n",
      "Loop KNN GD: 100%|██████████| 1001/1001 [00:01<00:00, 652.11it/s]\n"
     ]
    },
    {
     "name": "stdout",
     "output_type": "stream",
     "text": [
      "outputs/imdb/flip0_bert/124_2023-01-02_12-12-57/checkpoints/epoch=00_val_acc=0.8719.ckpt\n",
      "{'token_type_ids': torch.Size([64, 128]), 'label': torch.Size([64]), 'input_ids': torch.Size([64, 128]), 'attention_mask': torch.Size([64, 128])}\n",
      "[torch.Size([64, 128]), torch.Size([64]), torch.Size([64, 128]), torch.Size([64, 128])]\n"
     ]
    },
    {
     "name": "stderr",
     "output_type": "stream",
     "text": [
      "100%|██████████| 69/69 [00:29<00:00,  2.36it/s]\n",
      "100%|██████████| 6/6 [00:06<00:00,  1.15s/it]\n"
     ]
    },
    {
     "name": "stdout",
     "output_type": "stream",
     "text": [
      "Number of element in each class: [100, 100]\n"
     ]
    },
    {
     "name": "stderr",
     "output_type": "stream",
     "text": [
      "Collect Ref Grads: 2it [00:00,  5.30it/s]\n",
      "Tracing: 100%|██████████| 6/6 [00:03<00:00,  1.92it/s]\n",
      "Loop ref knn: 100%|██████████| 69/69 [00:31<00:00,  2.22it/s]\n",
      "Loop KNN GD: 100%|██████████| 1001/1001 [00:01<00:00, 674.91it/s]\n"
     ]
    },
    {
     "name": "stdout",
     "output_type": "stream",
     "text": [
      "outputs/imdb/flip0_bert/124_2023-01-02_12-12-57/checkpoints/epoch=01_val_acc=0.8803.ckpt\n",
      "{'token_type_ids': torch.Size([64, 128]), 'label': torch.Size([64]), 'input_ids': torch.Size([64, 128]), 'attention_mask': torch.Size([64, 128])}\n",
      "[torch.Size([64, 128]), torch.Size([64]), torch.Size([64, 128]), torch.Size([64, 128])]\n"
     ]
    },
    {
     "name": "stderr",
     "output_type": "stream",
     "text": [
      "100%|██████████| 69/69 [00:28<00:00,  2.39it/s]\n",
      "100%|██████████| 6/6 [00:06<00:00,  1.16s/it]\n"
     ]
    },
    {
     "name": "stdout",
     "output_type": "stream",
     "text": [
      "Number of element in each class: [100, 100]\n"
     ]
    },
    {
     "name": "stderr",
     "output_type": "stream",
     "text": [
      "Collect Ref Grads: 2it [00:00,  5.59it/s]\n",
      "Tracing: 100%|██████████| 6/6 [00:02<00:00,  2.07it/s]\n",
      "Loop ref knn: 100%|██████████| 69/69 [00:30<00:00,  2.26it/s]\n",
      "Loop KNN GD: 100%|██████████| 1001/1001 [00:01<00:00, 640.19it/s]\n"
     ]
    },
    {
     "name": "stdout",
     "output_type": "stream",
     "text": [
      "outputs/imdb/flip0_bert/124_2023-01-02_12-12-57/checkpoints/epoch=02_val_acc=0.8765.ckpt\n",
      "{'token_type_ids': torch.Size([64, 128]), 'label': torch.Size([64]), 'input_ids': torch.Size([64, 128]), 'attention_mask': torch.Size([64, 128])}\n",
      "[torch.Size([64, 128]), torch.Size([64]), torch.Size([64, 128]), torch.Size([64, 128])]\n"
     ]
    },
    {
     "name": "stderr",
     "output_type": "stream",
     "text": [
      "100%|██████████| 69/69 [00:29<00:00,  2.37it/s]\n",
      "100%|██████████| 6/6 [00:05<00:00,  1.04it/s]\n"
     ]
    },
    {
     "name": "stdout",
     "output_type": "stream",
     "text": [
      "Number of element in each class: [100, 100]\n"
     ]
    },
    {
     "name": "stderr",
     "output_type": "stream",
     "text": [
      "Collect Ref Grads: 2it [00:00,  5.29it/s]\n",
      "Tracing: 100%|██████████| 6/6 [00:02<00:00,  2.07it/s]\n",
      "Loop ref knn: 100%|██████████| 69/69 [00:31<00:00,  2.23it/s]\n",
      "Loop KNN GD: 100%|██████████| 1001/1001 [00:01<00:00, 650.56it/s]\n"
     ]
    },
    {
     "name": "stdout",
     "output_type": "stream",
     "text": [
      "outputs/imdb/flip0_bert/124_2023-01-02_12-12-57/checkpoints/epoch=03_val_acc=0.8801.ckpt\n",
      "{'token_type_ids': torch.Size([64, 128]), 'label': torch.Size([64]), 'input_ids': torch.Size([64, 128]), 'attention_mask': torch.Size([64, 128])}\n",
      "[torch.Size([64, 128]), torch.Size([64]), torch.Size([64, 128]), torch.Size([64, 128])]\n"
     ]
    },
    {
     "name": "stderr",
     "output_type": "stream",
     "text": [
      "100%|██████████| 69/69 [00:29<00:00,  2.36it/s]\n",
      "100%|██████████| 6/6 [00:05<00:00,  1.00it/s]\n"
     ]
    },
    {
     "name": "stdout",
     "output_type": "stream",
     "text": [
      "Number of element in each class: [100, 100]\n"
     ]
    },
    {
     "name": "stderr",
     "output_type": "stream",
     "text": [
      "Collect Ref Grads: 2it [00:00,  5.36it/s]\n",
      "Tracing: 100%|██████████| 6/6 [00:02<00:00,  2.07it/s]\n",
      "Loop ref knn: 100%|██████████| 69/69 [00:31<00:00,  2.19it/s]\n",
      "Loop KNN GD: 100%|██████████| 1001/1001 [00:01<00:00, 630.32it/s]\n"
     ]
    },
    {
     "name": "stdout",
     "output_type": "stream",
     "text": [
      "outputs/imdb/flip0_bert/124_2023-01-02_12-12-57/checkpoints/epoch=04_val_acc=0.8656.ckpt\n",
      "{'token_type_ids': torch.Size([64, 128]), 'label': torch.Size([64]), 'input_ids': torch.Size([64, 128]), 'attention_mask': torch.Size([64, 128])}\n",
      "[torch.Size([64, 128]), torch.Size([64]), torch.Size([64, 128]), torch.Size([64, 128])]\n"
     ]
    },
    {
     "name": "stderr",
     "output_type": "stream",
     "text": [
      "100%|██████████| 69/69 [00:29<00:00,  2.36it/s]\n",
      "100%|██████████| 6/6 [00:05<00:00,  1.06it/s]\n"
     ]
    },
    {
     "name": "stdout",
     "output_type": "stream",
     "text": [
      "Number of element in each class: [100, 100]\n"
     ]
    },
    {
     "name": "stderr",
     "output_type": "stream",
     "text": [
      "Collect Ref Grads: 2it [00:00,  5.48it/s]\n",
      "Tracing: 100%|██████████| 6/6 [00:02<00:00,  2.08it/s]\n",
      "Loop ref knn: 100%|██████████| 69/69 [00:31<00:00,  2.22it/s]\n",
      "Loop KNN GD: 100%|██████████| 1001/1001 [00:01<00:00, 645.12it/s]\n"
     ]
    },
    {
     "name": "stdout",
     "output_type": "stream",
     "text": [
      "outputs/imdb/flip0_bert/124_2023-01-02_12-12-57/checkpoints/epoch=05_val_acc=0.8733.ckpt\n",
      "{'token_type_ids': torch.Size([64, 128]), 'label': torch.Size([64]), 'input_ids': torch.Size([64, 128]), 'attention_mask': torch.Size([64, 128])}\n",
      "[torch.Size([64, 128]), torch.Size([64]), torch.Size([64, 128]), torch.Size([64, 128])]\n"
     ]
    },
    {
     "name": "stderr",
     "output_type": "stream",
     "text": [
      "100%|██████████| 69/69 [00:29<00:00,  2.35it/s]\n",
      "100%|██████████| 6/6 [00:05<00:00,  1.07it/s]\n"
     ]
    },
    {
     "name": "stdout",
     "output_type": "stream",
     "text": [
      "Number of element in each class: [100, 100]\n"
     ]
    },
    {
     "name": "stderr",
     "output_type": "stream",
     "text": [
      "Collect Ref Grads: 2it [00:00,  5.42it/s]\n",
      "Tracing: 100%|██████████| 6/6 [00:02<00:00,  2.10it/s]\n",
      "Loop ref knn: 100%|██████████| 69/69 [00:31<00:00,  2.21it/s]\n",
      "Loop KNN GD: 100%|██████████| 1001/1001 [00:01<00:00, 650.99it/s]\n"
     ]
    },
    {
     "name": "stdout",
     "output_type": "stream",
     "text": [
      "outputs/imdb/flip0_bert/124_2023-01-02_12-12-57/checkpoints/epoch=06_val_acc=0.8763.ckpt\n",
      "{'token_type_ids': torch.Size([64, 128]), 'label': torch.Size([64]), 'input_ids': torch.Size([64, 128]), 'attention_mask': torch.Size([64, 128])}\n",
      "[torch.Size([64, 128]), torch.Size([64]), torch.Size([64, 128]), torch.Size([64, 128])]\n"
     ]
    },
    {
     "name": "stderr",
     "output_type": "stream",
     "text": [
      "100%|██████████| 69/69 [00:29<00:00,  2.36it/s]\n",
      "100%|██████████| 6/6 [00:05<00:00,  1.16it/s]\n"
     ]
    },
    {
     "name": "stdout",
     "output_type": "stream",
     "text": [
      "Number of element in each class: [100, 100]\n"
     ]
    },
    {
     "name": "stderr",
     "output_type": "stream",
     "text": [
      "Collect Ref Grads: 2it [00:00,  5.46it/s]\n",
      "Tracing: 100%|██████████| 6/6 [00:03<00:00,  1.93it/s]\n",
      "Loop ref knn: 100%|██████████| 69/69 [00:31<00:00,  2.22it/s]\n",
      "Loop KNN GD: 100%|██████████| 1001/1001 [00:01<00:00, 640.40it/s]\n"
     ]
    },
    {
     "name": "stdout",
     "output_type": "stream",
     "text": [
      "outputs/imdb/flip0_bert/124_2023-01-02_12-12-57/checkpoints/epoch=07_val_acc=0.8732.ckpt\n",
      "{'token_type_ids': torch.Size([64, 128]), 'label': torch.Size([64]), 'input_ids': torch.Size([64, 128]), 'attention_mask': torch.Size([64, 128])}\n",
      "[torch.Size([64, 128]), torch.Size([64]), torch.Size([64, 128]), torch.Size([64, 128])]\n"
     ]
    },
    {
     "name": "stderr",
     "output_type": "stream",
     "text": [
      "100%|██████████| 69/69 [00:29<00:00,  2.37it/s]\n",
      "100%|██████████| 6/6 [00:05<00:00,  1.10it/s]\n"
     ]
    },
    {
     "name": "stdout",
     "output_type": "stream",
     "text": [
      "Number of element in each class: [100, 100]\n"
     ]
    },
    {
     "name": "stderr",
     "output_type": "stream",
     "text": [
      "Collect Ref Grads: 2it [00:00,  5.46it/s]\n",
      "Tracing: 100%|██████████| 6/6 [00:02<00:00,  2.10it/s]\n",
      "Loop ref knn: 100%|██████████| 69/69 [00:31<00:00,  2.20it/s]\n",
      "Loop KNN GD: 100%|██████████| 1001/1001 [00:01<00:00, 622.12it/s]\n"
     ]
    },
    {
     "name": "stdout",
     "output_type": "stream",
     "text": [
      "outputs/imdb/flip0_bert/124_2023-01-02_12-12-57/checkpoints/epoch=08_val_acc=0.8788.ckpt\n",
      "{'token_type_ids': torch.Size([64, 128]), 'label': torch.Size([64]), 'input_ids': torch.Size([64, 128]), 'attention_mask': torch.Size([64, 128])}\n",
      "[torch.Size([64, 128]), torch.Size([64]), torch.Size([64, 128]), torch.Size([64, 128])]\n"
     ]
    },
    {
     "name": "stderr",
     "output_type": "stream",
     "text": [
      "100%|██████████| 69/69 [00:29<00:00,  2.37it/s]\n",
      "100%|██████████| 6/6 [00:04<00:00,  1.21it/s]\n"
     ]
    },
    {
     "name": "stdout",
     "output_type": "stream",
     "text": [
      "Number of element in each class: [100, 100]\n"
     ]
    },
    {
     "name": "stderr",
     "output_type": "stream",
     "text": [
      "Collect Ref Grads: 2it [00:00,  5.23it/s]\n",
      "Tracing: 100%|██████████| 6/6 [00:03<00:00,  1.85it/s]\n",
      "Loop ref knn: 100%|██████████| 69/69 [00:30<00:00,  2.23it/s]\n",
      "Loop KNN GD: 100%|██████████| 1001/1001 [00:01<00:00, 628.77it/s]\n"
     ]
    },
    {
     "name": "stdout",
     "output_type": "stream",
     "text": [
      "outputs/imdb/flip0_bert/124_2023-01-02_12-12-57/checkpoints/epoch=09_val_acc=0.8783.ckpt\n",
      "{'token_type_ids': torch.Size([64, 128]), 'label': torch.Size([64]), 'input_ids': torch.Size([64, 128]), 'attention_mask': torch.Size([64, 128])}\n",
      "[torch.Size([64, 128]), torch.Size([64]), torch.Size([64, 128]), torch.Size([64, 128])]\n"
     ]
    },
    {
     "name": "stderr",
     "output_type": "stream",
     "text": [
      "100%|██████████| 69/69 [00:29<00:00,  2.36it/s]\n",
      "100%|██████████| 6/6 [00:05<00:00,  1.13it/s]\n"
     ]
    },
    {
     "name": "stdout",
     "output_type": "stream",
     "text": [
      "Number of element in each class: [100, 100]\n"
     ]
    },
    {
     "name": "stderr",
     "output_type": "stream",
     "text": [
      "Collect Ref Grads: 2it [00:00,  5.35it/s]\n",
      "Tracing: 100%|██████████| 6/6 [00:02<00:00,  2.08it/s]\n",
      "Loop ref knn: 100%|██████████| 69/69 [00:30<00:00,  2.23it/s]\n",
      "Loop KNN GD: 100%|██████████| 1001/1001 [00:01<00:00, 628.32it/s]\n"
     ]
    },
    {
     "name": "stdout",
     "output_type": "stream",
     "text": [
      "outputs/imdb/flip0_bert/125_2023-01-02_12-12-57/checkpoints/epoch=00_val_acc=0.8709.ckpt\n",
      "{'token_type_ids': torch.Size([64, 128]), 'label': torch.Size([64]), 'input_ids': torch.Size([64, 128]), 'attention_mask': torch.Size([64, 128])}\n",
      "[torch.Size([64, 128]), torch.Size([64]), torch.Size([64, 128]), torch.Size([64, 128])]\n"
     ]
    },
    {
     "name": "stderr",
     "output_type": "stream",
     "text": [
      "100%|██████████| 69/69 [00:29<00:00,  2.35it/s]\n",
      "100%|██████████| 6/6 [00:05<00:00,  1.12it/s]\n"
     ]
    },
    {
     "name": "stdout",
     "output_type": "stream",
     "text": [
      "Number of element in each class: [100, 100]\n"
     ]
    },
    {
     "name": "stderr",
     "output_type": "stream",
     "text": [
      "Collect Ref Grads: 2it [00:00,  5.44it/s]\n",
      "Tracing: 100%|██████████| 6/6 [00:02<00:00,  2.06it/s]\n",
      "Loop ref knn: 100%|██████████| 69/69 [00:31<00:00,  2.22it/s]\n",
      "Loop KNN GD: 100%|██████████| 1001/1001 [00:01<00:00, 628.72it/s]\n"
     ]
    },
    {
     "name": "stdout",
     "output_type": "stream",
     "text": [
      "outputs/imdb/flip0_bert/125_2023-01-02_12-12-57/checkpoints/epoch=01_val_acc=0.8592.ckpt\n",
      "{'token_type_ids': torch.Size([64, 128]), 'label': torch.Size([64]), 'input_ids': torch.Size([64, 128]), 'attention_mask': torch.Size([64, 128])}\n",
      "[torch.Size([64, 128]), torch.Size([64]), torch.Size([64, 128]), torch.Size([64, 128])]\n"
     ]
    },
    {
     "name": "stderr",
     "output_type": "stream",
     "text": [
      "100%|██████████| 69/69 [00:29<00:00,  2.35it/s]\n",
      "100%|██████████| 6/6 [00:05<00:00,  1.19it/s]\n"
     ]
    },
    {
     "name": "stdout",
     "output_type": "stream",
     "text": [
      "Number of element in each class: [100, 100]\n"
     ]
    },
    {
     "name": "stderr",
     "output_type": "stream",
     "text": [
      "Collect Ref Grads: 2it [00:00,  5.34it/s]\n",
      "Tracing: 100%|██████████| 6/6 [00:02<00:00,  2.06it/s]\n",
      "Loop ref knn: 100%|██████████| 69/69 [00:30<00:00,  2.23it/s]\n",
      "Loop KNN GD: 100%|██████████| 1001/1001 [00:01<00:00, 657.51it/s]\n"
     ]
    },
    {
     "name": "stdout",
     "output_type": "stream",
     "text": [
      "outputs/imdb/flip0_bert/125_2023-01-02_12-12-57/checkpoints/epoch=02_val_acc=0.8791.ckpt\n",
      "{'token_type_ids': torch.Size([64, 128]), 'label': torch.Size([64]), 'input_ids': torch.Size([64, 128]), 'attention_mask': torch.Size([64, 128])}\n",
      "[torch.Size([64, 128]), torch.Size([64]), torch.Size([64, 128]), torch.Size([64, 128])]\n"
     ]
    },
    {
     "name": "stderr",
     "output_type": "stream",
     "text": [
      "100%|██████████| 69/69 [00:29<00:00,  2.35it/s]\n",
      "100%|██████████| 6/6 [00:04<00:00,  1.26it/s]\n"
     ]
    },
    {
     "name": "stdout",
     "output_type": "stream",
     "text": [
      "Number of element in each class: [100, 100]\n"
     ]
    },
    {
     "name": "stderr",
     "output_type": "stream",
     "text": [
      "Collect Ref Grads: 2it [00:00,  5.66it/s]\n",
      "Tracing: 100%|██████████| 6/6 [00:02<00:00,  2.08it/s]\n",
      "Loop ref knn: 100%|██████████| 69/69 [00:31<00:00,  2.23it/s]\n",
      "Loop KNN GD: 100%|██████████| 1001/1001 [00:01<00:00, 652.98it/s]\n"
     ]
    },
    {
     "name": "stdout",
     "output_type": "stream",
     "text": [
      "outputs/imdb/flip0_bert/125_2023-01-02_12-12-57/checkpoints/epoch=03_val_acc=0.8764.ckpt\n",
      "{'token_type_ids': torch.Size([64, 128]), 'label': torch.Size([64]), 'input_ids': torch.Size([64, 128]), 'attention_mask': torch.Size([64, 128])}\n",
      "[torch.Size([64, 128]), torch.Size([64]), torch.Size([64, 128]), torch.Size([64, 128])]\n"
     ]
    },
    {
     "name": "stderr",
     "output_type": "stream",
     "text": [
      "100%|██████████| 69/69 [00:29<00:00,  2.36it/s]\n",
      "100%|██████████| 6/6 [00:05<00:00,  1.16it/s]\n"
     ]
    },
    {
     "name": "stdout",
     "output_type": "stream",
     "text": [
      "Number of element in each class: [100, 100]\n"
     ]
    },
    {
     "name": "stderr",
     "output_type": "stream",
     "text": [
      "Collect Ref Grads: 2it [00:00,  5.39it/s]\n",
      "Tracing: 100%|██████████| 6/6 [00:02<00:00,  2.09it/s]\n",
      "Loop ref knn: 100%|██████████| 69/69 [00:31<00:00,  2.21it/s]\n",
      "Loop KNN GD: 100%|██████████| 1001/1001 [00:01<00:00, 629.92it/s]\n"
     ]
    },
    {
     "name": "stdout",
     "output_type": "stream",
     "text": [
      "outputs/imdb/flip0_bert/125_2023-01-02_12-12-57/checkpoints/epoch=04_val_acc=0.8707.ckpt\n",
      "{'token_type_ids': torch.Size([64, 128]), 'label': torch.Size([64]), 'input_ids': torch.Size([64, 128]), 'attention_mask': torch.Size([64, 128])}\n",
      "[torch.Size([64, 128]), torch.Size([64]), torch.Size([64, 128]), torch.Size([64, 128])]\n"
     ]
    },
    {
     "name": "stderr",
     "output_type": "stream",
     "text": [
      "100%|██████████| 69/69 [00:29<00:00,  2.37it/s]\n",
      "100%|██████████| 6/6 [00:04<00:00,  1.26it/s]\n"
     ]
    },
    {
     "name": "stdout",
     "output_type": "stream",
     "text": [
      "Number of element in each class: [100, 100]\n"
     ]
    },
    {
     "name": "stderr",
     "output_type": "stream",
     "text": [
      "Collect Ref Grads: 2it [00:00,  5.54it/s]\n",
      "Tracing: 100%|██████████| 6/6 [00:02<00:00,  2.06it/s]\n",
      "Loop ref knn: 100%|██████████| 69/69 [00:31<00:00,  2.18it/s]\n",
      "Loop KNN GD: 100%|██████████| 1001/1001 [00:01<00:00, 626.57it/s]\n"
     ]
    },
    {
     "name": "stdout",
     "output_type": "stream",
     "text": [
      "outputs/imdb/flip0_bert/125_2023-01-02_12-12-57/checkpoints/epoch=05_val_acc=0.8769.ckpt\n",
      "{'token_type_ids': torch.Size([64, 128]), 'label': torch.Size([64]), 'input_ids': torch.Size([64, 128]), 'attention_mask': torch.Size([64, 128])}\n",
      "[torch.Size([64, 128]), torch.Size([64]), torch.Size([64, 128]), torch.Size([64, 128])]\n"
     ]
    },
    {
     "name": "stderr",
     "output_type": "stream",
     "text": [
      "100%|██████████| 69/69 [00:29<00:00,  2.38it/s]\n",
      "100%|██████████| 6/6 [00:05<00:00,  1.19it/s]\n"
     ]
    },
    {
     "name": "stdout",
     "output_type": "stream",
     "text": [
      "Number of element in each class: [100, 100]\n"
     ]
    },
    {
     "name": "stderr",
     "output_type": "stream",
     "text": [
      "Collect Ref Grads: 2it [00:00,  5.58it/s]\n",
      "Tracing: 100%|██████████| 6/6 [00:02<00:00,  2.06it/s]\n",
      "Loop ref knn: 100%|██████████| 69/69 [00:30<00:00,  2.23it/s]\n",
      "Loop KNN GD: 100%|██████████| 1001/1001 [00:01<00:00, 667.74it/s]\n"
     ]
    },
    {
     "name": "stdout",
     "output_type": "stream",
     "text": [
      "outputs/imdb/flip0_bert/125_2023-01-02_12-12-57/checkpoints/epoch=06_val_acc=0.8796.ckpt\n",
      "{'token_type_ids': torch.Size([64, 128]), 'label': torch.Size([64]), 'input_ids': torch.Size([64, 128]), 'attention_mask': torch.Size([64, 128])}\n",
      "[torch.Size([64, 128]), torch.Size([64]), torch.Size([64, 128]), torch.Size([64, 128])]\n"
     ]
    },
    {
     "name": "stderr",
     "output_type": "stream",
     "text": [
      "100%|██████████| 69/69 [00:29<00:00,  2.37it/s]\n",
      "100%|██████████| 6/6 [00:04<00:00,  1.31it/s]\n"
     ]
    },
    {
     "name": "stdout",
     "output_type": "stream",
     "text": [
      "Number of element in each class: [100, 100]\n"
     ]
    },
    {
     "name": "stderr",
     "output_type": "stream",
     "text": [
      "Collect Ref Grads: 2it [00:00,  5.20it/s]\n",
      "Tracing: 100%|██████████| 6/6 [00:02<00:00,  2.07it/s]\n",
      "Loop ref knn: 100%|██████████| 69/69 [00:31<00:00,  2.22it/s]\n",
      "Loop KNN GD: 100%|██████████| 1001/1001 [00:01<00:00, 682.02it/s]\n"
     ]
    },
    {
     "name": "stdout",
     "output_type": "stream",
     "text": [
      "outputs/imdb/flip0_bert/125_2023-01-02_12-12-57/checkpoints/epoch=07_val_acc=0.8708.ckpt\n",
      "{'token_type_ids': torch.Size([64, 128]), 'label': torch.Size([64]), 'input_ids': torch.Size([64, 128]), 'attention_mask': torch.Size([64, 128])}\n",
      "[torch.Size([64, 128]), torch.Size([64]), torch.Size([64, 128]), torch.Size([64, 128])]\n"
     ]
    },
    {
     "name": "stderr",
     "output_type": "stream",
     "text": [
      "100%|██████████| 69/69 [00:29<00:00,  2.37it/s]\n",
      "100%|██████████| 6/6 [00:04<00:00,  1.23it/s]\n"
     ]
    },
    {
     "name": "stdout",
     "output_type": "stream",
     "text": [
      "Number of element in each class: [100, 100]\n"
     ]
    },
    {
     "name": "stderr",
     "output_type": "stream",
     "text": [
      "Collect Ref Grads: 2it [00:00,  4.93it/s]\n",
      "Tracing: 100%|██████████| 6/6 [00:02<00:00,  2.08it/s]\n",
      "Loop ref knn: 100%|██████████| 69/69 [00:31<00:00,  2.21it/s]\n",
      "Loop KNN GD: 100%|██████████| 1001/1001 [00:01<00:00, 688.08it/s]\n"
     ]
    },
    {
     "name": "stdout",
     "output_type": "stream",
     "text": [
      "outputs/imdb/flip0_bert/125_2023-01-02_12-12-57/checkpoints/epoch=08_val_acc=0.8792.ckpt\n",
      "{'token_type_ids': torch.Size([64, 128]), 'label': torch.Size([64]), 'input_ids': torch.Size([64, 128]), 'attention_mask': torch.Size([64, 128])}\n",
      "[torch.Size([64, 128]), torch.Size([64]), torch.Size([64, 128]), torch.Size([64, 128])]\n"
     ]
    },
    {
     "name": "stderr",
     "output_type": "stream",
     "text": [
      "100%|██████████| 69/69 [00:29<00:00,  2.37it/s]\n",
      "100%|██████████| 6/6 [00:04<00:00,  1.23it/s]\n"
     ]
    },
    {
     "name": "stdout",
     "output_type": "stream",
     "text": [
      "Number of element in each class: [100, 100]\n"
     ]
    },
    {
     "name": "stderr",
     "output_type": "stream",
     "text": [
      "Collect Ref Grads: 2it [00:00,  5.50it/s]\n",
      "Tracing: 100%|██████████| 6/6 [00:03<00:00,  1.92it/s]\n",
      "Loop ref knn: 100%|██████████| 69/69 [00:30<00:00,  2.23it/s]\n",
      "Loop KNN GD: 100%|██████████| 1001/1001 [00:01<00:00, 662.58it/s]\n"
     ]
    },
    {
     "name": "stdout",
     "output_type": "stream",
     "text": [
      "outputs/imdb/flip0_bert/125_2023-01-02_12-12-57/checkpoints/epoch=09_val_acc=0.8811.ckpt\n",
      "{'token_type_ids': torch.Size([64, 128]), 'label': torch.Size([64]), 'input_ids': torch.Size([64, 128]), 'attention_mask': torch.Size([64, 128])}\n",
      "[torch.Size([64, 128]), torch.Size([64]), torch.Size([64, 128]), torch.Size([64, 128])]\n"
     ]
    },
    {
     "name": "stderr",
     "output_type": "stream",
     "text": [
      "100%|██████████| 69/69 [00:29<00:00,  2.37it/s]\n",
      "100%|██████████| 6/6 [00:04<00:00,  1.33it/s]\n"
     ]
    },
    {
     "name": "stdout",
     "output_type": "stream",
     "text": [
      "Number of element in each class: [100, 100]\n"
     ]
    },
    {
     "name": "stderr",
     "output_type": "stream",
     "text": [
      "Collect Ref Grads: 2it [00:00,  5.76it/s]\n",
      "Tracing: 100%|██████████| 6/6 [00:02<00:00,  2.09it/s]\n",
      "Loop ref knn: 100%|██████████| 69/69 [00:31<00:00,  2.22it/s]\n",
      "Loop KNN GD: 100%|██████████| 1001/1001 [00:01<00:00, 677.59it/s]\n"
     ]
    }
   ],
   "source": [
    "imdb_real_train_path = Path(\"outputs/imdb/flip0_bert/\")\n",
    "for ckpt in imdb_real_train_path.rglob(\"checkpoints/epoch=*.ckpt\"):\n",
    "    print(ckpt)\n",
    "    result_df = eval_ckpt(ckpt)\n",
    "    result_df.to_csv(str(ckpt)+\".csv\")"
   ]
  },
  {
   "cell_type": "code",
   "execution_count": null,
   "metadata": {},
   "outputs": [],
   "source": []
  }
 ],
 "metadata": {
  "interpreter": {
   "hash": "178be3a43525fa8f44392002b19606a8e29ff12ad8e80387bd739ebeb9eb01aa"
  },
  "kernelspec": {
   "display_name": "Python 3.8.10 ('.venv': venv)",
   "language": "python",
   "name": "python3"
  },
  "language_info": {
   "codemirror_mode": {
    "name": "ipython",
    "version": 3
   },
   "file_extension": ".py",
   "mimetype": "text/x-python",
   "name": "python",
   "nbconvert_exporter": "python",
   "pygments_lexer": "ipython3",
   "version": "3.8.10"
  },
  "orig_nbformat": 4
 },
 "nbformat": 4,
 "nbformat_minor": 2
}
