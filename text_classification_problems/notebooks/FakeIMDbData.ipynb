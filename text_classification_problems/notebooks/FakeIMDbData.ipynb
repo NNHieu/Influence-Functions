{
 "cells": [
  {
   "cell_type": "code",
   "execution_count": 1,
   "metadata": {},
   "outputs": [],
   "source": [
    "%load_ext autoreload\n",
    "%autoreload 2"
   ]
  },
  {
   "cell_type": "markdown",
   "metadata": {},
   "source": [
    "# Setup Paths"
   ]
  },
  {
   "cell_type": "code",
   "execution_count": 2,
   "metadata": {},
   "outputs": [],
   "source": [
    "import os\n",
    "import pyrootutils\n",
    "root = pyrootutils.setup_root(\n",
    "    search_from='.',\n",
    "    indicator=[\".git\", \"pyproject.toml\"],\n",
    "    pythonpath=True,\n",
    "    dotenv=True,\n",
    ")\n",
    "hydra_cfg_path = root / \"text_classification_problems\" / \"configs\"\n",
    "os.chdir(root / \"text_classification_problems\")"
   ]
  },
  {
   "cell_type": "code",
   "execution_count": 3,
   "metadata": {},
   "outputs": [
    {
     "name": "stderr",
     "output_type": "stream",
     "text": [
      "/host/ThangND34/ErrorDetection/.venv/lib/python3.8/site-packages/tqdm/auto.py:22: TqdmWarning: IProgress not found. Please update jupyter and ipywidgets. See https://ipywidgets.readthedocs.io/en/stable/user_install.html\n",
      "  from .autonotebook import tqdm as notebook_tqdm\n"
     ]
    }
   ],
   "source": [
    "import hydra\n",
    "from hydra import compose, initialize\n",
    "\n",
    "from pathlib import Path\n",
    "import numpy as np\n",
    "import torch\n",
    "from core.grads import tree_to_device\n",
    "from core.tracer import KNN, KNNGD, KNNGN\n",
    "from sklearn.neighbors import KNeighborsClassifier\n",
    "from text_classification_problems.datamodule import TextClassifierDataModule\n",
    "from text_classification_problems.modelmodule import TextClassifierModel\n",
    "from transformers import AutoTokenizer\n",
    "from tqdm import tqdm\n",
    "\n",
    "import matplotlib.pyplot as plt"
   ]
  },
  {
   "cell_type": "markdown",
   "metadata": {},
   "source": [
    "# Config  "
   ]
  },
  {
   "cell_type": "code",
   "execution_count": 4,
   "metadata": {},
   "outputs": [],
   "source": [
    "'..' / hydra_cfg_path.relative_to(root)\n",
    "with initialize(version_base=None, config_path= '../configs'):\n",
    "    cfg = compose(config_name=\"tracing\", return_hydra_config=True, overrides=[\"datamodule=imdb\", \"tracer=gd\"])"
   ]
  },
  {
   "cell_type": "code",
   "execution_count": 5,
   "metadata": {},
   "outputs": [],
   "source": [
    "device = 'cuda:1'"
   ]
  },
  {
   "cell_type": "markdown",
   "metadata": {},
   "source": [
    "# Load Data and Model"
   ]
  },
  {
   "cell_type": "code",
   "execution_count": 6,
   "metadata": {},
   "outputs": [],
   "source": [
    "from datamodule import TextClassifierDataModule"
   ]
  },
  {
   "cell_type": "code",
   "execution_count": 7,
   "metadata": {},
   "outputs": [],
   "source": [
    "checkpoint = torch.load(\"outputs/imdb/flip0.2_bert/121_2023-01-03_19-26-09/checkpoints/epoch=00_val_acc=0.8185.ckpt\", map_location=device)\n",
    "datamodule_hparams = checkpoint[\"datamodule_hyper_parameters\"] "
   ]
  },
  {
   "cell_type": "code",
   "execution_count": 8,
   "metadata": {},
   "outputs": [],
   "source": [
    "tokenizer = AutoTokenizer.from_pretrained(\"bert-base-uncased\", use_fast=True)\n",
    "dm = TextClassifierDataModule(\n",
    "    data_root=os.environ[\"PYTORCH_DATASET_ROOT\"],\n",
    "    tokenizer=tokenizer,\n",
    "    **datamodule_hparams,\n",
    "    use_denoised_data=True\n",
    ")\n",
    "dm.prepare_data()\n",
    "dm.setup(\"tracing\")"
   ]
  },
  {
   "cell_type": "code",
   "execution_count": 9,
   "metadata": {},
   "outputs": [
    {
     "name": "stderr",
     "output_type": "stream",
     "text": [
      "Some weights of the model checkpoint at bert-base-uncased were not used when initializing BertModel: ['cls.predictions.transform.dense.bias', 'cls.predictions.transform.dense.weight', 'cls.seq_relationship.bias', 'cls.predictions.decoder.weight', 'cls.predictions.transform.LayerNorm.weight', 'cls.predictions.transform.LayerNorm.bias', 'cls.predictions.bias', 'cls.seq_relationship.weight']\n",
      "- This IS expected if you are initializing BertModel from the checkpoint of a model trained on another task or with another architecture (e.g. initializing a BertForSequenceClassification model from a BertForPreTraining model).\n",
      "- This IS NOT expected if you are initializing BertModel from the checkpoint of a model that you expect to be exactly identical (initializing a BertForSequenceClassification model from a BertForSequenceClassification model).\n"
     ]
    }
   ],
   "source": [
    "net = hydra.utils.instantiate(cfg.net, num_classes=dm.num_classes)\n",
    "lit_model = TextClassifierModel(\n",
    "    net=net,\n",
    "    num_classes=dm.num_classes,\n",
    "    lr=1e-3,\n",
    ")\n",
    "lit_model.load_state_dict(checkpoint[\"state_dict\"])\n",
    "net = lit_model.net\n",
    "lit_model.eval()\n",
    "lit_model.to(device);"
   ]
  },
  {
   "cell_type": "code",
   "execution_count": 10,
   "metadata": {},
   "outputs": [],
   "source": [
    "# np.savez_compressed('outputs/train/imdb/knn.npz', neibor_inds.numpy())"
   ]
  },
  {
   "cell_type": "code",
   "execution_count": 11,
   "metadata": {},
   "outputs": [],
   "source": [
    "# neibor_inds = np.load('outputs/train/imdb/knn.npz')['arr_0']"
   ]
  },
  {
   "cell_type": "markdown",
   "metadata": {},
   "source": [
    "## Tracing"
   ]
  },
  {
   "cell_type": "code",
   "execution_count": 12,
   "metadata": {},
   "outputs": [],
   "source": [
    "from core.grads import RuntimeGradientExtractor\n",
    "from core.tracer import GradientNormalize as GN, GradientCosin as GC, GradientBasedTracer as GD\n",
    "import torch.nn.functional as F\n",
    "from text_classification_problems.run_tracing import register_BatchEncoding\n",
    "import pandas as pd\n",
    "from core.aggregation import aggregation\n",
    "from core.aggregation import cal_neibor_matrices\n",
    "from text_classification_problems.convert_result import eval_ckpt\n",
    "from transformers import AutoTokenizer\n",
    "import re"
   ]
  },
  {
   "cell_type": "code",
   "execution_count": 13,
   "metadata": {},
   "outputs": [],
   "source": [
    "register_BatchEncoding()"
   ]
  },
  {
   "cell_type": "markdown",
   "metadata": {},
   "source": [
    "## Comparation"
   ]
  },
  {
   "cell_type": "code",
   "execution_count": 14,
   "metadata": {},
   "outputs": [],
   "source": [
    "tokenizer = AutoTokenizer.from_pretrained(\"bert-base-uncased\", use_fast=True)\n",
    "colected_ks = list(range(50, 1001, 10))\n",
    "sel_sizes = list(range(50, 3500, 50))\n",
    "ckpt_path = \"outputs/imdb/flip0.2_bert/121_2023-01-03_19-26-09/checkpoints/epoch=01_val_acc=0.8348.ckpt\""
   ]
  },
  {
   "cell_type": "code",
   "execution_count": 15,
   "metadata": {},
   "outputs": [],
   "source": [
    "# result_df, all_scores = eval_ckpt(tokenizer,\n",
    "#     lit_model,\n",
    "#     ckpt_path,\n",
    "#     use_denoised_data=False,\n",
    "#     is_self_ref=True,\n",
    "#     sel_sizes=sel_sizes,\n",
    "#     colected_ks=colected_ks,\n",
    "#     device=device)\n",
    "# torch.save(all_scores, ckpt_path + \".scores\")"
   ]
  },
  {
   "cell_type": "code",
   "execution_count": 16,
   "metadata": {},
   "outputs": [],
   "source": [
    "def get_best_ckpt(checkpoint_dir: Path):\n",
    "    metrics = [(float(re.search('val_acc=([+-]?([0-9]*[.])?[0-9]+)', str(p)).group(1)),p) for p in checkpoint_dir.glob(\"epoch*.ckpt\")]\n",
    "    metrics.sort(reverse=True)\n",
    "    # metrics = [(float(re.search('epoch=([+-]?([0-9]*[.])?[0-9]+)', str(p)).group(1)),p) for p in checkpoint_dir.glob(\"epoch*.ckpt\")]\n",
    "    # metrics.sort(reverse=False)\n",
    "\n",
    "    best_ckpt_path = metrics[0][1]\n",
    "    return best_ckpt_path"
   ]
  },
  {
   "cell_type": "code",
   "execution_count": 18,
   "metadata": {},
   "outputs": [
    {
     "name": "stdout",
     "output_type": "stream",
     "text": [
      "outputs/imdb/flip0.2_bert/121_2023-01-03_19-26-09/checkpoints/epoch=01_val_acc=0.8348.ckpt\n",
      "{'token_type_ids': torch.Size([256, 128]), 'label': torch.Size([256]), 'input_ids': torch.Size([256, 128]), 'attention_mask': torch.Size([256, 128])}\n",
      "[torch.Size([256, 128]), torch.Size([256]), torch.Size([256, 128]), torch.Size([256, 128])]\n",
      "Load neibor_inds from disk\n",
      "Number of element in each class: [100, 100]\n"
     ]
    },
    {
     "name": "stderr",
     "output_type": "stream",
     "text": [
      "Collect Ref Grads: 1it [00:00,  5.03it/s]\n",
      "Tracing: 100%|██████████| 69/69 [00:27<00:00,  2.50it/s]\n",
      "Loop ref knn: 100%|██████████| 69/69 [00:02<00:00, 23.63it/s]\n",
      "Loop KNN GD: 1000it [01:13, 13.59it/s]\n"
     ]
    },
    {
     "name": "stdout",
     "output_type": "stream",
     "text": [
      "outputs/imdb/flip0.2_bert/122_2023-01-03_19-26-09/checkpoints/epoch=01_val_acc=0.8616.ckpt\n",
      "{'token_type_ids': torch.Size([256, 128]), 'label': torch.Size([256]), 'input_ids': torch.Size([256, 128]), 'attention_mask': torch.Size([256, 128])}\n",
      "[torch.Size([256, 128]), torch.Size([256]), torch.Size([256, 128]), torch.Size([256, 128])]\n",
      "Compute neibor_inds\n"
     ]
    },
    {
     "name": "stderr",
     "output_type": "stream",
     "text": [
      "100%|██████████| 69/69 [00:25<00:00,  2.66it/s]\n",
      "100%|██████████| 69/69 [01:15<00:00,  1.10s/it]\n"
     ]
    },
    {
     "name": "stdout",
     "output_type": "stream",
     "text": [
      "Saving neibor_inds\n",
      "Number of element in each class: [100, 100]\n"
     ]
    },
    {
     "name": "stderr",
     "output_type": "stream",
     "text": [
      "Collect Ref Grads: 1it [00:00,  4.38it/s]\n",
      "Tracing: 100%|██████████| 69/69 [00:28<00:00,  2.39it/s]\n",
      "Loop ref knn: 100%|██████████| 69/69 [00:02<00:00, 23.24it/s]\n",
      "Loop KNN GD: 1000it [01:29, 11.14it/s]\n"
     ]
    },
    {
     "name": "stdout",
     "output_type": "stream",
     "text": [
      "outputs/imdb/flip0.2_bert/123_2023-01-03_19-26-09/checkpoints/epoch=00_val_acc=0.8487.ckpt\n",
      "{'token_type_ids': torch.Size([256, 128]), 'label': torch.Size([256]), 'input_ids': torch.Size([256, 128]), 'attention_mask': torch.Size([256, 128])}\n",
      "[torch.Size([256, 128]), torch.Size([256]), torch.Size([256, 128]), torch.Size([256, 128])]\n",
      "Compute neibor_inds\n"
     ]
    },
    {
     "name": "stderr",
     "output_type": "stream",
     "text": [
      "100%|██████████| 69/69 [00:25<00:00,  2.66it/s]\n",
      "100%|██████████| 69/69 [01:01<00:00,  1.12it/s]\n"
     ]
    },
    {
     "name": "stdout",
     "output_type": "stream",
     "text": [
      "Saving neibor_inds\n",
      "Number of element in each class: [100, 100]\n"
     ]
    },
    {
     "name": "stderr",
     "output_type": "stream",
     "text": [
      "Collect Ref Grads: 1it [00:00,  4.11it/s]\n",
      "Tracing: 100%|██████████| 69/69 [00:28<00:00,  2.38it/s]\n",
      "Loop ref knn: 100%|██████████| 69/69 [00:02<00:00, 23.14it/s]\n",
      "Loop KNN GD: 1000it [01:25, 11.64it/s]\n"
     ]
    },
    {
     "name": "stdout",
     "output_type": "stream",
     "text": [
      "outputs/imdb/flip0.2_bert/124_2023-01-03_19-26-09/checkpoints/epoch=01_val_acc=0.8553.ckpt\n",
      "{'token_type_ids': torch.Size([256, 128]), 'label': torch.Size([256]), 'input_ids': torch.Size([256, 128]), 'attention_mask': torch.Size([256, 128])}\n",
      "[torch.Size([256, 128]), torch.Size([256]), torch.Size([256, 128]), torch.Size([256, 128])]\n",
      "Compute neibor_inds\n"
     ]
    },
    {
     "name": "stderr",
     "output_type": "stream",
     "text": [
      "100%|██████████| 69/69 [00:26<00:00,  2.65it/s]\n",
      "100%|██████████| 69/69 [01:15<00:00,  1.10s/it]\n"
     ]
    },
    {
     "name": "stdout",
     "output_type": "stream",
     "text": [
      "Saving neibor_inds\n",
      "Number of element in each class: [100, 100]\n"
     ]
    },
    {
     "name": "stderr",
     "output_type": "stream",
     "text": [
      "Collect Ref Grads: 1it [00:00,  4.54it/s]\n",
      "Tracing: 100%|██████████| 69/69 [00:28<00:00,  2.40it/s]\n",
      "Loop ref knn: 100%|██████████| 69/69 [00:02<00:00, 23.59it/s]\n",
      "Loop KNN GD: 1000it [01:26, 11.58it/s]\n"
     ]
    },
    {
     "name": "stdout",
     "output_type": "stream",
     "text": [
      "outputs/imdb/flip0.2_bert/125_2023-01-03_19-26-09/checkpoints/epoch=00_val_acc=0.8535.ckpt\n",
      "{'token_type_ids': torch.Size([256, 128]), 'label': torch.Size([256]), 'input_ids': torch.Size([256, 128]), 'attention_mask': torch.Size([256, 128])}\n",
      "[torch.Size([256, 128]), torch.Size([256]), torch.Size([256, 128]), torch.Size([256, 128])]\n",
      "Compute neibor_inds\n"
     ]
    },
    {
     "name": "stderr",
     "output_type": "stream",
     "text": [
      "100%|██████████| 69/69 [00:25<00:00,  2.66it/s]\n",
      "100%|██████████| 69/69 [00:59<00:00,  1.17it/s]\n"
     ]
    },
    {
     "name": "stdout",
     "output_type": "stream",
     "text": [
      "Saving neibor_inds\n",
      "Number of element in each class: [100, 100]\n"
     ]
    },
    {
     "name": "stderr",
     "output_type": "stream",
     "text": [
      "Collect Ref Grads: 1it [00:00,  4.29it/s]\n",
      "Tracing: 100%|██████████| 69/69 [00:29<00:00,  2.38it/s]\n",
      "Loop ref knn: 100%|██████████| 69/69 [00:02<00:00, 23.01it/s]\n",
      "Loop KNN GD: 1000it [01:27, 11.43it/s]\n"
     ]
    }
   ],
   "source": [
    "imdb_real_train_path = Path(\"outputs/imdb/flip0.2_bert/\")\n",
    "output_dirs = '''121_2023-01-03_19-26-09\n",
    "122_2023-01-03_19-26-09\n",
    "123_2023-01-03_19-26-09\n",
    "124_2023-01-03_19-26-09\n",
    "125_2023-01-03_19-26-09'''\n",
    "\n",
    "best_ckpt_results = []\n",
    "for run in output_dirs.split('\\n'):\n",
    "    run = imdb_real_train_path / run\n",
    "    ckpt_path = get_best_ckpt(run / \"checkpoints\")\n",
    "# for ckpt_path in imdb_real_train_path.rglob(\"checkpoints/epoch=*.ckpt\"):\n",
    "    ckpt_path = str(ckpt_path)\n",
    "    print(ckpt_path)\n",
    "    result_df, all_scores = eval_ckpt(tokenizer,\n",
    "        lit_model,\n",
    "        ckpt_path,\n",
    "        use_denoised_data=False,\n",
    "        is_self_ref=True,\n",
    "        sel_sizes=sel_sizes,\n",
    "        colected_ks=colected_ks,\n",
    "        use_cache=True,\n",
    "        device=device)\n",
    "    result_df.to_csv(ckpt_path+\".csv\")\n",
    "    torch.save(all_scores, ckpt_path + \".scores\")"
   ]
  },
  {
   "cell_type": "code",
   "execution_count": null,
   "metadata": {},
   "outputs": [],
   "source": []
  }
 ],
 "metadata": {
  "interpreter": {
   "hash": "178be3a43525fa8f44392002b19606a8e29ff12ad8e80387bd739ebeb9eb01aa"
  },
  "kernelspec": {
   "display_name": "Python 3.8.10 ('.venv': venv)",
   "language": "python",
   "name": "python3"
  },
  "language_info": {
   "codemirror_mode": {
    "name": "ipython",
    "version": 3
   },
   "file_extension": ".py",
   "mimetype": "text/x-python",
   "name": "python",
   "nbconvert_exporter": "python",
   "pygments_lexer": "ipython3",
   "version": "3.8.10"
  },
  "orig_nbformat": 4
 },
 "nbformat": 4,
 "nbformat_minor": 2
}
