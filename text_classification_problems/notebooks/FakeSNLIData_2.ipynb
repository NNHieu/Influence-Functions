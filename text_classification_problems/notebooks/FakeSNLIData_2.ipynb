{
 "cells": [
  {
   "cell_type": "code",
   "execution_count": 1,
   "metadata": {},
   "outputs": [],
   "source": [
    "%load_ext autoreload\n",
    "%autoreload 2"
   ]
  },
  {
   "cell_type": "markdown",
   "metadata": {},
   "source": [
    "# Setup Paths"
   ]
  },
  {
   "cell_type": "code",
   "execution_count": 2,
   "metadata": {},
   "outputs": [],
   "source": [
    "import os\n",
    "import pyrootutils\n",
    "root = pyrootutils.setup_root(\n",
    "    search_from='.',\n",
    "    indicator=[\".git\", \"pyproject.toml\"],\n",
    "    pythonpath=True,\n",
    "    dotenv=True,\n",
    ")\n",
    "hydra_cfg_path = root / \"text_classification_problems\" / \"configs\"\n",
    "os.chdir(root / \"text_classification_problems\")"
   ]
  },
  {
   "cell_type": "code",
   "execution_count": 3,
   "metadata": {},
   "outputs": [
    {
     "name": "stderr",
     "output_type": "stream",
     "text": [
      "/host/ThangND34/ErrorDetection/.venv/lib/python3.8/site-packages/tqdm/auto.py:22: TqdmWarning: IProgress not found. Please update jupyter and ipywidgets. See https://ipywidgets.readthedocs.io/en/stable/user_install.html\n",
      "  from .autonotebook import tqdm as notebook_tqdm\n"
     ]
    }
   ],
   "source": [
    "import hydra\n",
    "from hydra import compose, initialize\n",
    "\n",
    "from pathlib import Path\n",
    "import numpy as np\n",
    "import torch\n",
    "from core.grads import tree_to_device\n",
    "from core.tracer import KNN, KNNGD, KNNGN\n",
    "from sklearn.neighbors import KNeighborsClassifier\n",
    "from text_classification_problems.datamodule import TextClassifierDataModule\n",
    "from text_classification_problems.modelmodule import TextClassifierModel\n",
    "from transformers import AutoTokenizer\n",
    "from tqdm import tqdm\n",
    "\n",
    "import matplotlib.pyplot as plt"
   ]
  },
  {
   "cell_type": "markdown",
   "metadata": {},
   "source": [
    "# Config  "
   ]
  },
  {
   "cell_type": "code",
   "execution_count": 4,
   "metadata": {},
   "outputs": [],
   "source": [
    "'..' / hydra_cfg_path.relative_to(root)\n",
    "with initialize(version_base=None, config_path= '../configs'):\n",
    "    cfg = compose(config_name=\"tracing\", return_hydra_config=True, overrides=[\"datamodule=snli\", \"tracer=gd\"])"
   ]
  },
  {
   "cell_type": "code",
   "execution_count": 5,
   "metadata": {},
   "outputs": [],
   "source": [
    "device = 'cuda:1'"
   ]
  },
  {
   "cell_type": "markdown",
   "metadata": {},
   "source": [
    "# Load Data and Model"
   ]
  },
  {
   "cell_type": "code",
   "execution_count": 6,
   "metadata": {},
   "outputs": [],
   "source": [
    "from datamodule import TextClassifierDataModule"
   ]
  },
  {
   "cell_type": "code",
   "execution_count": 7,
   "metadata": {},
   "outputs": [],
   "source": [
    "checkpoint = torch.load(\"outputs/train/snli/multirun/flip0.2_bert/122_2023-01-08_00-01-22/checkpoints/epoch=00_val_acc=0.8712.ckpt\", map_location=device)\n",
    "datamodule_hparams = checkpoint[\"datamodule_hyper_parameters\"] \n",
    "datamodule_hparams[\"use_denoised_data\"] = False"
   ]
  },
  {
   "cell_type": "code",
   "execution_count": 8,
   "metadata": {},
   "outputs": [],
   "source": [
    "tokenizer = AutoTokenizer.from_pretrained(\"bert-base-uncased\", use_fast=True)\n",
    "dm = TextClassifierDataModule(\n",
    "    data_root=os.environ[\"PYTORCH_DATASET_ROOT\"],\n",
    "    tokenizer=tokenizer,\n",
    "    **datamodule_hparams,\n",
    ")\n",
    "dm.prepare_data()\n",
    "dm.setup(\"tracing\")"
   ]
  },
  {
   "cell_type": "code",
   "execution_count": 9,
   "metadata": {},
   "outputs": [
    {
     "name": "stderr",
     "output_type": "stream",
     "text": [
      "Some weights of the model checkpoint at bert-base-uncased were not used when initializing BertModel: ['cls.seq_relationship.weight', 'cls.predictions.transform.dense.weight', 'cls.seq_relationship.bias', 'cls.predictions.bias', 'cls.predictions.transform.LayerNorm.weight', 'cls.predictions.transform.dense.bias', 'cls.predictions.transform.LayerNorm.bias', 'cls.predictions.decoder.weight']\n",
      "- This IS expected if you are initializing BertModel from the checkpoint of a model trained on another task or with another architecture (e.g. initializing a BertForSequenceClassification model from a BertForPreTraining model).\n",
      "- This IS NOT expected if you are initializing BertModel from the checkpoint of a model that you expect to be exactly identical (initializing a BertForSequenceClassification model from a BertForSequenceClassification model).\n"
     ]
    }
   ],
   "source": [
    "net = hydra.utils.instantiate(cfg.net, num_classes=dm.num_classes)\n",
    "lit_model = TextClassifierModel(\n",
    "    net=net,\n",
    "    num_classes=dm.num_classes,\n",
    "    lr=1e-3,\n",
    ")\n",
    "lit_model.load_state_dict(checkpoint[\"state_dict\"])\n",
    "net = lit_model.net\n",
    "lit_model.eval()\n",
    "lit_model.to(device);"
   ]
  },
  {
   "cell_type": "code",
   "execution_count": 10,
   "metadata": {},
   "outputs": [],
   "source": [
    "# np.savez_compressed('outputs/train/imdb/knn.npz', neibor_inds.numpy())"
   ]
  },
  {
   "cell_type": "code",
   "execution_count": 11,
   "metadata": {},
   "outputs": [],
   "source": [
    "# neibor_inds = np.load('outputs/train/imdb/knn.npz')['arr_0']"
   ]
  },
  {
   "cell_type": "markdown",
   "metadata": {},
   "source": [
    "## Tracing"
   ]
  },
  {
   "cell_type": "code",
   "execution_count": 12,
   "metadata": {},
   "outputs": [],
   "source": [
    "from core.grads import RuntimeGradientExtractor\n",
    "from core.tracer import GradientNormalize as GN, GradientCosin as GC, GradientBasedTracer as GD\n",
    "import torch.nn.functional as F\n",
    "import pandas as pd\n",
    "from core.aggregation import cal_neibor_matrices\n",
    "from text_classification_problems.convert_result import eval_ckpt\n",
    "from text_classification_problems.run_tracing import register_BatchEncoding\n",
    "import re"
   ]
  },
  {
   "cell_type": "code",
   "execution_count": 13,
   "metadata": {},
   "outputs": [],
   "source": [
    "register_BatchEncoding()"
   ]
  },
  {
   "cell_type": "markdown",
   "metadata": {},
   "source": [
    "## Comparation"
   ]
  },
  {
   "cell_type": "code",
   "execution_count": 14,
   "metadata": {},
   "outputs": [],
   "source": [
    "tokenizer = AutoTokenizer.from_pretrained(\"bert-base-uncased\", use_fast=True)\n",
    "colected_ks = list(range(50, 1001, 10))\n",
    "sel_sizes = list(range(100, 5000, 100))\n",
    "ckpt_path = \"outputs/train/snli/multirun/flip0.2_bert/122_2023-01-08_00-01-22/checkpoints/epoch=00_val_acc=0.8712.ckpt\""
   ]
  },
  {
   "cell_type": "code",
   "execution_count": null,
   "metadata": {},
   "outputs": [],
   "source": [
    "result_df, all_scores = eval_ckpt(tokenizer,\n",
    "    lit_model,\n",
    "    ckpt_path,\n",
    "    use_denoised_data=False,\n",
    "    is_self_ref=True,\n",
    "    sel_sizes=sel_sizes,\n",
    "    colected_ks=colected_ks,\n",
    "    use_cache=True,\n",
    "    device=device)"
   ]
  },
  {
   "cell_type": "code",
   "execution_count": null,
   "metadata": {},
   "outputs": [],
   "source": [
    "result_df.to_csv(ckpt_path + \".csv\")"
   ]
  },
  {
   "cell_type": "code",
   "execution_count": null,
   "metadata": {},
   "outputs": [],
   "source": [
    "torch.save(all_scores, ckpt_path + \".scores\")"
   ]
  },
  {
   "cell_type": "code",
   "execution_count": 17,
   "metadata": {},
   "outputs": [],
   "source": [
    "def get_best_ckpt(checkpoint_dir: Path):\n",
    "    metrics = [(float(re.search('val_acc=([+-]?([0-9]*[.])?[0-9]+)', str(p)).group(1)),p) for p in checkpoint_dir.glob(\"epoch*.ckpt\")]\n",
    "    metrics.sort(reverse=True)\n",
    "    # metrics = [(float(re.search('epoch=([+-]?([0-9]*[.])?[0-9]+)', str(p)).group(1)),p) for p in checkpoint_dir.glob(\"epoch*.ckpt\")]\n",
    "    # metrics.sort(reverse=False)\n",
    "\n",
    "    best_ckpt_path = metrics[0][1]\n",
    "    return best_ckpt_path"
   ]
  },
  {
   "cell_type": "code",
   "execution_count": 18,
   "metadata": {},
   "outputs": [
    {
     "name": "stdout",
     "output_type": "stream",
     "text": [
      "outputs/imdb/flip0.2_bert/121_2023-01-03_19-26-09/checkpoints/epoch=01_val_acc=0.8348.ckpt\n"
     ]
    },
    {
     "ename": "RuntimeError",
     "evalue": "Error(s) in loading state_dict for TextClassifierModel:\n\tsize mismatch for net.fc.weight: copying a param with shape torch.Size([2, 768]) from checkpoint, the shape in current model is torch.Size([3, 768]).\n\tsize mismatch for net.fc.bias: copying a param with shape torch.Size([2]) from checkpoint, the shape in current model is torch.Size([3]).",
     "output_type": "error",
     "traceback": [
      "\u001b[0;31m---------------------------------------------------------------------------\u001b[0m",
      "\u001b[0;31mRuntimeError\u001b[0m                              Traceback (most recent call last)",
      "Cell \u001b[0;32mIn[18], line 15\u001b[0m\n\u001b[1;32m     13\u001b[0m ckpt_path \u001b[39m=\u001b[39m \u001b[39mstr\u001b[39m(ckpt_path)\n\u001b[1;32m     14\u001b[0m \u001b[39mprint\u001b[39m(ckpt_path)\n\u001b[0;32m---> 15\u001b[0m result_df, all_scores \u001b[39m=\u001b[39m eval_ckpt(tokenizer,\n\u001b[1;32m     16\u001b[0m     lit_model,\n\u001b[1;32m     17\u001b[0m     ckpt_path,\n\u001b[1;32m     18\u001b[0m     use_denoised_data\u001b[39m=\u001b[39;49m\u001b[39mTrue\u001b[39;49;00m,\n\u001b[1;32m     19\u001b[0m     is_self_ref\u001b[39m=\u001b[39;49m\u001b[39mFalse\u001b[39;49;00m,\n\u001b[1;32m     20\u001b[0m     sel_sizes\u001b[39m=\u001b[39;49msel_sizes,\n\u001b[1;32m     21\u001b[0m     colected_ks\u001b[39m=\u001b[39;49mcolected_ks,\n\u001b[1;32m     22\u001b[0m     use_cache\u001b[39m=\u001b[39;49m\u001b[39mTrue\u001b[39;49;00m,\n\u001b[1;32m     23\u001b[0m     device\u001b[39m=\u001b[39;49mdevice)\n\u001b[1;32m     24\u001b[0m result_df\u001b[39m.\u001b[39mto_csv(ckpt_path\u001b[39m+\u001b[39m\u001b[39m\"\u001b[39m\u001b[39m.csv\u001b[39m\u001b[39m\"\u001b[39m)\n\u001b[1;32m     25\u001b[0m torch\u001b[39m.\u001b[39msave(all_scores, ckpt_path \u001b[39m+\u001b[39m \u001b[39m\"\u001b[39m\u001b[39m.scores\u001b[39m\u001b[39m\"\u001b[39m)\n",
      "File \u001b[0;32m/host/ThangND34/ErrorDetection/text_classification_problems/convert_result.py:47\u001b[0m, in \u001b[0;36meval_ckpt\u001b[0;34m(tokenizer, lit_model, ckpt_path, use_denoised_data, is_self_ref, sel_sizes, colected_ks, use_cache, device)\u001b[0m\n\u001b[1;32m     44\u001b[0m dm\u001b[39m.\u001b[39mprepare_data()\n\u001b[1;32m     45\u001b[0m dm\u001b[39m.\u001b[39msetup(\u001b[39m\"\u001b[39m\u001b[39mtracing\u001b[39m\u001b[39m\"\u001b[39m)\n\u001b[0;32m---> 47\u001b[0m lit_model\u001b[39m.\u001b[39;49mload_state_dict(ckpt[\u001b[39m\"\u001b[39;49m\u001b[39mstate_dict\u001b[39;49m\u001b[39m\"\u001b[39;49m])\n\u001b[1;32m     49\u001b[0m grad_extractor \u001b[39m=\u001b[39m RuntimeGradientExtractor(\n\u001b[1;32m     50\u001b[0m     lit_model,\n\u001b[1;32m     51\u001b[0m     split_params\u001b[39m=\u001b[39m\u001b[39mlambda\u001b[39;00m params: (params[:\u001b[39m-\u001b[39m\u001b[39m2\u001b[39m], params[\u001b[39m-\u001b[39m\u001b[39m2\u001b[39m:]),\n\u001b[0;32m   (...)\u001b[0m\n\u001b[1;32m     54\u001b[0m     input_sample\u001b[39m=\u001b[39m\u001b[39mnext\u001b[39m(\u001b[39miter\u001b[39m(dm\u001b[39m.\u001b[39mtrace_dataloader())),\n\u001b[1;32m     55\u001b[0m )\n\u001b[1;32m     56\u001b[0m neibor_inds_path \u001b[39m=\u001b[39m Path(ckpt_path \u001b[39m+\u001b[39m \u001b[39mf\u001b[39m\u001b[39m\"\u001b[39m\u001b[39m.neibor\u001b[39m\u001b[39m{\u001b[39;00m\u001b[39m'\u001b[39m\u001b[39m_desnoised\u001b[39m\u001b[39m'\u001b[39m\u001b[39m \u001b[39m\u001b[39mif\u001b[39;00m\u001b[39m \u001b[39muse_denoised_data\u001b[39m \u001b[39m\u001b[39melse\u001b[39;00m\u001b[39m \u001b[39m\u001b[39m'\u001b[39m\u001b[39m'\u001b[39m\u001b[39m}\u001b[39;00m\u001b[39m.npz\u001b[39m\u001b[39m\"\u001b[39m)\n",
      "File \u001b[0;32m/host/ThangND34/ErrorDetection/.venv/lib/python3.8/site-packages/torch/nn/modules/module.py:1671\u001b[0m, in \u001b[0;36mModule.load_state_dict\u001b[0;34m(self, state_dict, strict)\u001b[0m\n\u001b[1;32m   1666\u001b[0m         error_msgs\u001b[39m.\u001b[39minsert(\n\u001b[1;32m   1667\u001b[0m             \u001b[39m0\u001b[39m, \u001b[39m'\u001b[39m\u001b[39mMissing key(s) in state_dict: \u001b[39m\u001b[39m{}\u001b[39;00m\u001b[39m. \u001b[39m\u001b[39m'\u001b[39m\u001b[39m.\u001b[39mformat(\n\u001b[1;32m   1668\u001b[0m                 \u001b[39m'\u001b[39m\u001b[39m, \u001b[39m\u001b[39m'\u001b[39m\u001b[39m.\u001b[39mjoin(\u001b[39m'\u001b[39m\u001b[39m\"\u001b[39m\u001b[39m{}\u001b[39;00m\u001b[39m\"\u001b[39m\u001b[39m'\u001b[39m\u001b[39m.\u001b[39mformat(k) \u001b[39mfor\u001b[39;00m k \u001b[39min\u001b[39;00m missing_keys)))\n\u001b[1;32m   1670\u001b[0m \u001b[39mif\u001b[39;00m \u001b[39mlen\u001b[39m(error_msgs) \u001b[39m>\u001b[39m \u001b[39m0\u001b[39m:\n\u001b[0;32m-> 1671\u001b[0m     \u001b[39mraise\u001b[39;00m \u001b[39mRuntimeError\u001b[39;00m(\u001b[39m'\u001b[39m\u001b[39mError(s) in loading state_dict for \u001b[39m\u001b[39m{}\u001b[39;00m\u001b[39m:\u001b[39m\u001b[39m\\n\u001b[39;00m\u001b[39m\\t\u001b[39;00m\u001b[39m{}\u001b[39;00m\u001b[39m'\u001b[39m\u001b[39m.\u001b[39mformat(\n\u001b[1;32m   1672\u001b[0m                        \u001b[39mself\u001b[39m\u001b[39m.\u001b[39m\u001b[39m__class__\u001b[39m\u001b[39m.\u001b[39m\u001b[39m__name__\u001b[39m, \u001b[39m\"\u001b[39m\u001b[39m\\n\u001b[39;00m\u001b[39m\\t\u001b[39;00m\u001b[39m\"\u001b[39m\u001b[39m.\u001b[39mjoin(error_msgs)))\n\u001b[1;32m   1673\u001b[0m \u001b[39mreturn\u001b[39;00m _IncompatibleKeys(missing_keys, unexpected_keys)\n",
      "\u001b[0;31mRuntimeError\u001b[0m: Error(s) in loading state_dict for TextClassifierModel:\n\tsize mismatch for net.fc.weight: copying a param with shape torch.Size([2, 768]) from checkpoint, the shape in current model is torch.Size([3, 768]).\n\tsize mismatch for net.fc.bias: copying a param with shape torch.Size([2]) from checkpoint, the shape in current model is torch.Size([3])."
     ]
    }
   ],
   "source": [
    "imdb_real_train_path = Path(\"outputs/imdb/flip0.2_bert/\")\n",
    "output_dirs = '''121_2023-01-03_19-26-09\n",
    "122_2023-01-03_19-26-09\n",
    "123_2023-01-03_19-26-09\n",
    "124_2023-01-03_19-26-09\n",
    "125_2023-01-03_19-26-09'''\n",
    "\n",
    "best_ckpt_results = []\n",
    "for run in output_dirs.split('\\n'):\n",
    "    run = imdb_real_train_path / run\n",
    "    ckpt_path = get_best_ckpt(run / \"checkpoints\")\n",
    "# for ckpt_path in imdb_real_train_path.rglob(\"checkpoints/epoch=*.ckpt\"):\n",
    "    ckpt_path = str(ckpt_path)\n",
    "    print(ckpt_path)\n",
    "    result_df, all_scores = eval_ckpt(tokenizer,\n",
    "        lit_model,\n",
    "        ckpt_path,\n",
    "        use_denoised_data=True,\n",
    "        is_self_ref=False,\n",
    "        sel_sizes=sel_sizes,\n",
    "        colected_ks=colected_ks,\n",
    "        use_cache=True,\n",
    "        device=device)\n",
    "    result_df.to_csv(ckpt_path+\".csv\")\n",
    "    torch.save(all_scores, ckpt_path + \".scores\")"
   ]
  },
  {
   "cell_type": "code",
   "execution_count": null,
   "metadata": {},
   "outputs": [],
   "source": []
  }
 ],
 "metadata": {
  "interpreter": {
   "hash": "178be3a43525fa8f44392002b19606a8e29ff12ad8e80387bd739ebeb9eb01aa"
  },
  "kernelspec": {
   "display_name": "Python 3.8.10 ('.venv': venv)",
   "language": "python",
   "name": "python3"
  },
  "language_info": {
   "codemirror_mode": {
    "name": "ipython",
    "version": 3
   },
   "file_extension": ".py",
   "mimetype": "text/x-python",
   "name": "python",
   "nbconvert_exporter": "python",
   "pygments_lexer": "ipython3",
   "version": "3.8.10"
  },
  "orig_nbformat": 4
 },
 "nbformat": 4,
 "nbformat_minor": 2
}
